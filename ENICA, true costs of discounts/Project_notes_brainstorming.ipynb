{
  "nbformat": 4,
  "nbformat_minor": 0,
  "metadata": {
    "colab": {
      "provenance": []
    },
    "kernelspec": {
      "name": "python3",
      "display_name": "Python 3"
    },
    "language_info": {
      "name": "python"
    }
  },
  "cells": [
    {
      "cell_type": "markdown",
      "source": [
        "#BUSINESS QUESTIONS\n",
        "####The company has high hopes put into the possibilities that come with Data Analysis, and they are especially hopeful that your work can finally settle an ongoing debate: whether or not it’s beneficial to discount products.\n",
        "\n",
        "\n",
        "---------- What are the most sold products?\n",
        "\n",
        "---------- What are the products that generate the most revenue?\n",
        "\n",
        "---------- How should products be classified into different categories to simplify\n",
        "  reports and analysis?\n",
        "\n",
        "--------What is the distribution of product prices across different categories?\n",
        "\n",
        "---------- How many products are being discounted?\n",
        "_________________________________________________________________\n",
        "---------- What is the time period that the dataset covers?\n",
        "\n",
        "------- What is the overall revenue for that time?  \n",
        "\n",
        "_________________________________________________________________\n",
        "----------- How do seasonality and special dates (Christmas, Black Friday) affect sales?  \n",
        "---------Are there seasonal patterns in the evolution of sales?\n",
        "\n",
        "_________________________________________________________________\n",
        "---------- How big are the offered discounts as a percentage of the product prices?\n",
        "---> are these discounts working? is it driving up sales?\n",
        "_________________________________________________________________\n",
        "- How could data collection be improved? -->outside of data to analyze\n",
        "_________________________________________________________________\n",
        "(-whats left in the shopping basket? why?)\n",
        "\n",
        "\n",
        "\n",
        "The Marketing Team Lead is convinced that offering discounts is beneficial in the long run. She believes discounts improve customer acquisition, satisfaction and retention, and allow the company to grow.\n",
        "\n",
        "The main investors in the Board are worried about offering aggressive discounts. They have pointed out how the company’s recent quarterly results showed an increase in orders placed, but a decrease in the total revenue. They prefer that the company positions itself in the quality segment, rather than competing to offer the lowest prices in the market."
      ],
      "metadata": {
        "id": "GZ7HN64C1oOc"
      }
    },
    {
      "cell_type": "markdown",
      "source": [
        "## Categories ordered from LARGEST descending\n",
        "- type: 11865403 --> phone cases\n",
        "- type: 12175397 --> server storage & data mgmt\n",
        "- type: 1298  --> Accessories & Gadgets\n",
        "- type: 11935397: --> electronic lifestyle products\n",
        "- type: 1282: --> macbooks and Imacs\n",
        "- type: 12635403 --> Ipad cases\n",
        "- type:  13835403: --> macbook cases\n",
        "- type: 5,74E+15: --> high performance Apple Desktops\n",
        "- type 1364: --> Memory (RAM) for Mac computers\n",
        "- type: 12585395: --> Computer Accessories & Peripherals\n",
        "- type: 1296: --> Monitors\n",
        "- type: 1325: --> Cables and Adapters\n",
        "- type 5384: --> Headsets and Headphones\n",
        "- type: 1433: --> SSD Expansion Kits\n",
        "- type: 12215397: --> External SSDs and Expansion Kits\n",
        "- type: 5398: --> Portable Speakers\n",
        "- type: 1,02E+12: --> Apple Macbook Pro (Core i5)\n",
        "- type: 1,44E+11: --> Repair Service (higher priced)\n",
        "- type: 57445397: --> Memory Cards and USB Drives\n",
        "- type: 1334: --> Networking Devices ((Powerline, Routers, Wi-Fi Extenders)\n",
        "- type: 2158: --> Apple Macbook Pro _2 (Core i7)\n",
        "- type: 1,44E+11: --> Repair Service _2\n",
        "- type: 57445397: --> Memory Cards and USB Storage Devices\n",
        "- type: 1334: --> Networking Equipment\n",
        "- type: 2158 --> Macbooks\n",
        "- type: 57445397 --> Memory storage devices\n",
        "- type: 1334: --> Networking Devices (Switches, Routers, Amplifiers)\n",
        "- type: 2158 --> Macbook Pro _3\n",
        "- type: 2449 -- > Apple Watch Bands & Straps\n",
        "- type: 12655397 -- >  Internal & External Storage Drives\n",
        "- type: 1229 --> Styluses & Digital Pens\n",
        "- type: 12995397 --> Docking Stations, External Enclosures & Expansion Boxes\n",
        "- type: 1515:  -->  External Batteries & Power Banks\n",
        "- type: 13615399 --> Chargers & Charging Accessories\n",
        "- type: 13555403 --> Screen Protectors for Smartphones\n",
        "- type: 1405 --> Graphics Tablets & Pen Displays"
      ],
      "metadata": {
        "id": "FYlLA-0tlU0l"
      }
    },
    {
      "cell_type": "code",
      "source": [
        "import pandas as pd\n",
        "\n",
        "url = 'https://drive.google.com/file/d/1l7l7F7hQTZvQlaYSA7TG77WkCbcru6a0/view?usp=sharing'\n",
        "path = 'https://drive.google.com/uc?export=download&id='+url.split('/')[-2]\n",
        "orders_df = pd.read_csv(path)\n",
        "\n"
      ],
      "metadata": {
        "id": "mviS3ofT2V6e"
      },
      "execution_count": null,
      "outputs": []
    },
    {
      "cell_type": "code",
      "source": [
        "url = 'https://drive.google.com/file/d/1k6f_5DAMdc8DEuGS5xgPrChBaNMDGo8t/view?usp=sharing'\n",
        "path = 'https://drive.google.com/uc?export=download&id='+url.split('/')[-2]\n",
        "orderlines_df = pd.read_csv(path)\n"
      ],
      "metadata": {
        "id": "qZgk5jPM8Ayt"
      },
      "execution_count": null,
      "outputs": []
    },
    {
      "cell_type": "code",
      "source": [
        "url ='https://drive.google.com/file/d/1yOLw0dzucdg69i5EpPE5UjHlcy__HxnH/view?usp=sharing'\n",
        "path = 'https://drive.google.com/uc?export=download&id='+url.split('/')[-2]\n",
        "products_df = pd.read_csv(path)"
      ],
      "metadata": {
        "id": "aXgHBGyoBTJp"
      },
      "execution_count": null,
      "outputs": []
    },
    {
      "cell_type": "code",
      "source": [
        "orderlines = orderlines_df.copy()\n",
        "orders = orders_df.copy()\n",
        "products = products_df.copy()"
      ],
      "metadata": {
        "id": "16wQLwtl_paG"
      },
      "execution_count": null,
      "outputs": []
    },
    {
      "cell_type": "code",
      "source": [
        "orderlines= orderlines.rename(columns={'id_order': 'order_id'})\n"
      ],
      "metadata": {
        "id": "x4jIotue_35l"
      },
      "execution_count": null,
      "outputs": []
    }
  ]
}