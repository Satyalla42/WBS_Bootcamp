{
  "cells": [
    {
      "cell_type": "markdown",
      "metadata": {
        "id": "WIrP73cmuojf"
      },
      "source": [
        "# Python to SQL, and back again\n",
        "In this codealong we will show you how to create a relational database from your pandas DataFrames.\n",
        "> **To run this notebook you will need to work locally and not on colab.**"
      ]
    },
    {
      "cell_type": "markdown",
      "metadata": {
        "id": "Hq1bTTMCuojj"
      },
      "source": [
        "---\n",
        "## 1.&nbsp; Import libraries 💾\n",
        "If you haven't already installed sqlalchemy, you will need to. Uncomment the code below, install, and then recomment the code - you only need to install it once."
      ]
    },
    {
      "cell_type": "code",
      "execution_count": null,
      "metadata": {
        "colab": {
          "base_uri": "https://localhost:8080/"
        },
        "id": "Uw40bYYYn7_U",
        "outputId": "60192b71-3b77-4adb-e2b6-13a4306e62cd"
      },
      "outputs": [
        {
          "name": "stdout",
          "output_type": "stream",
          "text": [
            "Defaulting to user installation because normal site-packages is not writeable\n",
            "Requirement already satisfied: sqlalchemy in /Users/satyafitz/Library/Python/3.9/lib/python/site-packages (2.0.40)\n",
            "Requirement already satisfied: typing-extensions>=4.6.0 in /Users/satyafitz/Library/Python/3.9/lib/python/site-packages (from sqlalchemy) (4.12.2)\n",
            "Defaulting to user installation because normal site-packages is not writeable\n",
            "Requirement already satisfied: pymysql in /Users/satyafitz/Library/Python/3.9/lib/python/site-packages (1.1.1)\n"
          ]
        }
      ],
      "source": [
        "# install if needed\n",
        "!pip install sqlalchemy\n",
        "!pip install pymysql\n",
        "\n"
      ]
    },
    {
      "cell_type": "code",
      "execution_count": 21,
      "metadata": {
        "id": "ano7l8Hmnw1-"
      },
      "outputs": [],
      "source": [
        "import pandas as pd"
      ]
    },
    {
      "cell_type": "markdown",
      "metadata": {
        "id": "eKLGWvQuuojl"
      },
      "source": [
        "---\n",
        "## 2.&nbsp; Relational Databases 📂"
      ]
    },
    {
      "cell_type": "markdown",
      "metadata": {
        "id": "AbiloG-ikksw"
      },
      "source": [
        "Creating DataFrames in python and pandas often results in tables with repeated information, as shown in the example below.\n",
        "<br>\n",
        "\n",
        "| author_name | book_title | year_published |\n",
        "| --- | --- | --- |\n",
        "| Arthur Conan Doyle | The Adventures of Sherlock Holmes | 1887 |\n",
        "| J.R.R. Tolkien | The Hobbit | 1937 |\n",
        "| J.R.R. Tolkien | The Lord of the Rings | 1954 |\n",
        "| Harper Lee | To Kill a Mockingbird | 1960 |\n",
        "| Harper Lee | Go Set a Watchman | 2015 |\n",
        "<br>\n",
        "\n",
        "This can be problematic for relational databases, which are designed to store data efficiently and avoid redundancy. To address this issue, we will separate the author and book information into two tables: authors and books. This approach eliminates duplicate data, ensuring data integrity and optimising storage.\n",
        "<br>\n",
        "\n",
        "| author_id | author_name |\n",
        "| --- | --- |\n",
        "| 1 | Arthur Conan Doyle |\n",
        "| 2 | J.R.R. Tolkien |\n",
        "| 3 | Harper Lee |\n",
        "<br>\n",
        "\n",
        "| book_id | book_title | year_published | author_id |\n",
        "|---|---|---|---|\n",
        "| 1 | The Adventures of Sherlock Holmes | 1887 | 1 |\n",
        "| 2 | The Hobbit | 1937 | 2 |\n",
        "| 3 | The Lord of the Rings | 1954 | 2 |\n",
        "| 4 | To Kill a Mockingbird | 1960 | 3 |\n",
        "| 5 | Go Set a Watchman | 2015 | 3 |"
      ]
    },
    {
      "cell_type": "markdown",
      "metadata": {
        "id": "MJTc1LPJuojm"
      },
      "source": [
        "---\n",
        "## 3.&nbsp; Creating the authors table with python 🐍\n",
        "Let's start by creating the original DataFrame, including the repeated data."
      ]
    },
    {
      "cell_type": "code",
      "execution_count": 41,
      "metadata": {
        "colab": {
          "base_uri": "https://localhost:8080/",
          "height": 206
        },
        "id": "49fThkoLk-iL",
        "outputId": "cd4d4ea0-6679-4126-ce38-838f6b5fb1de"
      },
      "outputs": [
        {
          "data": {
            "text/html": [
              "<div>\n",
              "<style scoped>\n",
              "    .dataframe tbody tr th:only-of-type {\n",
              "        vertical-align: middle;\n",
              "    }\n",
              "\n",
              "    .dataframe tbody tr th {\n",
              "        vertical-align: top;\n",
              "    }\n",
              "\n",
              "    .dataframe thead th {\n",
              "        text-align: right;\n",
              "    }\n",
              "</style>\n",
              "<table border=\"1\" class=\"dataframe\">\n",
              "  <thead>\n",
              "    <tr style=\"text-align: right;\">\n",
              "      <th></th>\n",
              "      <th>author_name</th>\n",
              "      <th>book_title</th>\n",
              "      <th>year_published</th>\n",
              "    </tr>\n",
              "  </thead>\n",
              "  <tbody>\n",
              "    <tr>\n",
              "      <th>0</th>\n",
              "      <td>Arthur Conan Doyle</td>\n",
              "      <td>The Adventures of Sherlock Holmes</td>\n",
              "      <td>1887</td>\n",
              "    </tr>\n",
              "    <tr>\n",
              "      <th>1</th>\n",
              "      <td>J.R.R. Tolkien</td>\n",
              "      <td>The Hobbit</td>\n",
              "      <td>1937</td>\n",
              "    </tr>\n",
              "    <tr>\n",
              "      <th>2</th>\n",
              "      <td>J.R.R. Tolkien</td>\n",
              "      <td>The Lord of the Rings</td>\n",
              "      <td>1954</td>\n",
              "    </tr>\n",
              "    <tr>\n",
              "      <th>3</th>\n",
              "      <td>Harper Lee</td>\n",
              "      <td>To Kill a Mockingbird</td>\n",
              "      <td>1960</td>\n",
              "    </tr>\n",
              "    <tr>\n",
              "      <th>4</th>\n",
              "      <td>Harper Lee</td>\n",
              "      <td>Go Set a Watchman</td>\n",
              "      <td>2015</td>\n",
              "    </tr>\n",
              "  </tbody>\n",
              "</table>\n",
              "</div>"
            ],
            "text/plain": [
              "          author_name                         book_title  year_published\n",
              "0  Arthur Conan Doyle  The Adventures of Sherlock Holmes            1887\n",
              "1      J.R.R. Tolkien                         The Hobbit            1937\n",
              "2      J.R.R. Tolkien              The Lord of the Rings            1954\n",
              "3          Harper Lee              To Kill a Mockingbird            1960\n",
              "4          Harper Lee                  Go Set a Watchman            2015"
            ]
          },
          "execution_count": 41,
          "metadata": {},
          "output_type": "execute_result"
        }
      ],
      "source": [
        "names = [\"Arthur Conan Doyle\", \"J.R.R. Tolkien\", \"J.R.R. Tolkien\", \"Harper Lee\", \"Harper Lee\"]\n",
        "titles = [\"The Adventures of Sherlock Holmes\", \"The Hobbit\", \"The Lord of the Rings\", \"To Kill a Mockingbird\", \"Go Set a Watchman\"]\n",
        "years = [1887, 1937, 1954, 1960, 2015]\n",
        "\n",
        "non_relational_df = pd.DataFrame({\"author_name\": names,\n",
        "                                  \"book_title\": titles,\n",
        "                                  \"year_published\": years})\n",
        "\n",
        "non_relational_df"
      ]
    },
    {
      "cell_type": "markdown",
      "metadata": {
        "id": "EoKR0aXtuojn"
      },
      "source": [
        "Now, let's select only the authors without any duplicates."
      ]
    },
    {
      "cell_type": "code",
      "execution_count": 42,
      "metadata": {
        "colab": {
          "base_uri": "https://localhost:8080/",
          "height": 143
        },
        "id": "KetW0vMqjw_o",
        "outputId": "3441ab5c-3305-4453-b361-47438d667479"
      },
      "outputs": [
        {
          "data": {
            "text/html": [
              "<div>\n",
              "<style scoped>\n",
              "    .dataframe tbody tr th:only-of-type {\n",
              "        vertical-align: middle;\n",
              "    }\n",
              "\n",
              "    .dataframe tbody tr th {\n",
              "        vertical-align: top;\n",
              "    }\n",
              "\n",
              "    .dataframe thead th {\n",
              "        text-align: right;\n",
              "    }\n",
              "</style>\n",
              "<table border=\"1\" class=\"dataframe\">\n",
              "  <thead>\n",
              "    <tr style=\"text-align: right;\">\n",
              "      <th></th>\n",
              "      <th>author_name</th>\n",
              "    </tr>\n",
              "  </thead>\n",
              "  <tbody>\n",
              "    <tr>\n",
              "      <th>0</th>\n",
              "      <td>Arthur Conan Doyle</td>\n",
              "    </tr>\n",
              "    <tr>\n",
              "      <th>1</th>\n",
              "      <td>J.R.R. Tolkien</td>\n",
              "    </tr>\n",
              "    <tr>\n",
              "      <th>2</th>\n",
              "      <td>Harper Lee</td>\n",
              "    </tr>\n",
              "  </tbody>\n",
              "</table>\n",
              "</div>"
            ],
            "text/plain": [
              "          author_name\n",
              "0  Arthur Conan Doyle\n",
              "1      J.R.R. Tolkien\n",
              "2          Harper Lee"
            ]
          },
          "execution_count": 42,
          "metadata": {},
          "output_type": "execute_result"
        }
      ],
      "source": [
        "authors_unique = non_relational_df[\"author_name\"].unique()\n",
        "\n",
        "authors_df = pd.DataFrame({\"author_name\": authors_unique})\n",
        "\n",
        "authors_df"
      ]
    },
    {
      "cell_type": "markdown",
      "metadata": {
        "id": "aOe3oSZ7uojo"
      },
      "source": [
        "Fantastic! This DataFrame will be the foundation of our authors table."
      ]
    },
    {
      "cell_type": "markdown",
      "metadata": {
        "id": "R9Hi33LFuojo"
      },
      "source": [
        "---\n",
        "## 4.&nbsp; Creating the matching authors table with SQL 💻\n",
        "\n",
        "Ok, now we're ready to store this DataFrame in SQL. Before we can send the information in SQL, we need to make a table that has the same columns and data types to recieve the data. While we are creating a table for authors, we can also create the books table too.\n",
        "\n",
        "Open MySQL Workbench, open a local connection, and open a new file. Then copy and paste the code from below.\n",
        "\n",
        "```sql\n",
        "-- Drop the database if it already exists\n",
        "DROP DATABASE IF EXISTS sql_workshop ;\n",
        "\n",
        "-- Create the database\n",
        "CREATE DATABASE sql_workshop;\n",
        "\n",
        "-- Use the database\n",
        "USE sql_workshop;\n",
        "\n",
        "-- Create the 'authors' table\n",
        "CREATE TABLE authors (\n",
        "    author_id INT AUTO_INCREMENT, -- Automatically generated ID for each author\n",
        "    author_name VARCHAR(255) NOT NULL, -- Name of the author\n",
        "    PRIMARY KEY (author_id) -- Primary key to uniquely identify each author\n",
        ");\n",
        "\n",
        "-- Create the 'books' table\n",
        "CREATE TABLE books (\n",
        "    book_id INT AUTO_INCREMENT, -- Automatically generated ID for each book\n",
        "    book_title VARCHAR(255) NOT NULL, -- Title of the book\n",
        "    year_published INT, -- Year the book was published\n",
        "    author_id INT, -- ID of the author who wrote the book\n",
        "    PRIMARY KEY (book_id), -- Primary key to uniquely identify each book\n",
        "    FOREIGN KEY (author_id) REFERENCES authors(author_id) -- Foreign key to connect each book to its author\n",
        ");\n",
        "```"
      ]
    },
    {
      "cell_type": "markdown",
      "metadata": {
        "id": "x1gOYWuzrIwC"
      },
      "source": [
        "To download the sql file that we will follow for this section, [click here](https://drive.google.com/uc?export=download&id=1tln_33FM7D9wLckzxacBJNcMYqtyxybE)"
      ]
    },
    {
      "cell_type": "markdown",
      "metadata": {
        "id": "RgX1QXKfuojo"
      },
      "source": [
        "If you'd like more information about MySQL data types [click here](https://www.w3schools.com/mysql/mysql_datatypes.asp)."
      ]
    },
    {
      "cell_type": "markdown",
      "metadata": {
        "id": "nZXUwrbwn3JD"
      },
      "source": [
        "---\n",
        "## 5.&nbsp; Sending the information from this notebook to sql 📠\n",
        "To establish a connection with the SQL database, we need to provide the notebook with the necessary information, which we do using the connection string below. You will need to modify only the password variable, which should match the password you set during MySQL Workbench installation."
      ]
    },
    {
      "cell_type": "code",
      "execution_count": 43,
      "metadata": {
        "id": "pcWNrc9cn770"
      },
      "outputs": [],
      "source": [
        "schema = \"sql_workshop\"\n",
        "host = \"127.0.0.1\"\n",
        "user = \"root\"\n",
        "password = \"Sematty25\"\n",
        "port = 3306\n",
        "\n",
        "connection_string = f'mysql+pymysql://{user}:{password}@{host}:{port}/{schema}'"
      ]
    },
    {
      "cell_type": "markdown",
      "metadata": {
        "id": "YOFOsZVOoGih"
      },
      "source": [
        "To send information to our sql databse we use the pandas method `.to_sql()`. The argument `if_exists=\"append\"` says that we don't want to overwrite any existing data, but add on to what is already there."
      ]
    },
    {
      "cell_type": "code",
      "execution_count": 44,
      "metadata": {
        "id": "qaC9kekIn74a",
        "outputId": "da3c8b78-201b-4053-ac04-0d2a6c78b554"
      },
      "outputs": [
        {
          "data": {
            "text/plain": [
              "3"
            ]
          },
          "execution_count": 44,
          "metadata": {},
          "output_type": "execute_result"
        }
      ],
      "source": [
        "authors_df.to_sql('authors',\n",
        "                  if_exists='append',\n",
        "                  con=connection_string,\n",
        "                  index=False)"
      ]
    },
    {
      "cell_type": "markdown",
      "metadata": {
        "id": "zgtHTjICuojo"
      },
      "source": [
        "Now, have a look at the table `authors` in MySQL Workbench, you should see that the names of the authors have appeared."
      ]
    },
    {
      "cell_type": "markdown",
      "metadata": {
        "id": "BSRYH2c5uojo"
      },
      "source": [
        "---\n",
        "## 6.&nbsp; Retrieving information from sql to this notebook 📥\n",
        "It's not only possible to send information to a SQL database, but also retrieve it too. Using `.read_sql()` in combination with the `connection_string` we can access the required data."
      ]
    },
    {
      "cell_type": "code",
      "execution_count": null,
      "metadata": {
        "id": "k0XfGjSAoK8T",
        "outputId": "b96b6354-e80c-4364-b946-5c234ff1bd41"
      },
      "outputs": [
        {
          "data": {
            "text/html": [
              "<div>\n",
              "<style scoped>\n",
              "    .dataframe tbody tr th:only-of-type {\n",
              "        vertical-align: middle;\n",
              "    }\n",
              "\n",
              "    .dataframe tbody tr th {\n",
              "        vertical-align: top;\n",
              "    }\n",
              "\n",
              "    .dataframe thead th {\n",
              "        text-align: right;\n",
              "    }\n",
              "</style>\n",
              "<table border=\"1\" class=\"dataframe\">\n",
              "  <thead>\n",
              "    <tr style=\"text-align: right;\">\n",
              "      <th></th>\n",
              "      <th>author_id</th>\n",
              "      <th>author_name</th>\n",
              "    </tr>\n",
              "  </thead>\n",
              "  <tbody>\n",
              "    <tr>\n",
              "      <th>0</th>\n",
              "      <td>1</td>\n",
              "      <td>Arthur Conan Doyle</td>\n",
              "    </tr>\n",
              "    <tr>\n",
              "      <th>1</th>\n",
              "      <td>2</td>\n",
              "      <td>J.R.R. Tolkien</td>\n",
              "    </tr>\n",
              "    <tr>\n",
              "      <th>2</th>\n",
              "      <td>3</td>\n",
              "      <td>Harper Lee</td>\n",
              "    </tr>\n",
              "  </tbody>\n",
              "</table>\n",
              "</div>"
            ],
            "text/plain": [
              "   author_id         author_name\n",
              "0          1  Arthur Conan Doyle\n",
              "1          2      J.R.R. Tolkien\n",
              "2          3          Harper Lee"
            ]
          },
          "execution_count": 41,
          "metadata": {},
          "output_type": "execute_result"
        }
      ],
      "source": [
        "authors_from_sql = pd.read_sql(\"authors\", con=connection_string)\n",
        "authors_from_sql"
      ]
    },
    {
      "cell_type": "markdown",
      "metadata": {
        "id": "BTjYZGV3DQ72"
      },
      "source": [
        "Using this same method, we can also perform SQL queries to only bring back certain sections of information instead of the whole DataFrame."
      ]
    },
    {
      "cell_type": "code",
      "execution_count": null,
      "metadata": {
        "id": "ecJLox6_DQvo"
      },
      "outputs": [],
      "source": [
        "pd.read_sql(\"\"\"\n",
        "            SELECT DISTINCT author_name\n",
        "            FROM authors\n",
        "            \"\"\",\n",
        "            con=connection_string)"
      ]
    },
    {
      "cell_type": "markdown",
      "metadata": {
        "id": "lxTiRk6Cuojp"
      },
      "source": [
        "---\n",
        "## 7.&nbsp; Preparing and sending the books table 📚\n",
        "By extracting the authors table from our SQL database, we gain access to the unique identifier `author_id` assigned to each author. These `author_id`'s serve as pointers to their corresponding author records, allowing us to seamlessly link the `author_id`'s in the books table to their respective authors in the authors table, thereby completing the books table."
      ]
    },
    {
      "cell_type": "code",
      "execution_count": null,
      "metadata": {
        "id": "wjxTq9nQn72O",
        "outputId": "c532e024-5f47-4cd6-dd6e-e663fb066b22"
      },
      "outputs": [
        {
          "data": {
            "text/html": [
              "<div>\n",
              "<style scoped>\n",
              "    .dataframe tbody tr th:only-of-type {\n",
              "        vertical-align: middle;\n",
              "    }\n",
              "\n",
              "    .dataframe tbody tr th {\n",
              "        vertical-align: top;\n",
              "    }\n",
              "\n",
              "    .dataframe thead th {\n",
              "        text-align: right;\n",
              "    }\n",
              "</style>\n",
              "<table border=\"1\" class=\"dataframe\">\n",
              "  <thead>\n",
              "    <tr style=\"text-align: right;\">\n",
              "      <th></th>\n",
              "      <th>author_name</th>\n",
              "      <th>book_title</th>\n",
              "      <th>year_published</th>\n",
              "      <th>author_id</th>\n",
              "    </tr>\n",
              "  </thead>\n",
              "  <tbody>\n",
              "    <tr>\n",
              "      <th>0</th>\n",
              "      <td>Arthur Conan Doyle</td>\n",
              "      <td>The Adventures of Sherlock Holmes</td>\n",
              "      <td>1887</td>\n",
              "      <td>1</td>\n",
              "    </tr>\n",
              "    <tr>\n",
              "      <th>1</th>\n",
              "      <td>J.R.R. Tolkien</td>\n",
              "      <td>The Hobbit</td>\n",
              "      <td>1937</td>\n",
              "      <td>2</td>\n",
              "    </tr>\n",
              "    <tr>\n",
              "      <th>2</th>\n",
              "      <td>J.R.R. Tolkien</td>\n",
              "      <td>The Lord of the Rings</td>\n",
              "      <td>1954</td>\n",
              "      <td>2</td>\n",
              "    </tr>\n",
              "    <tr>\n",
              "      <th>3</th>\n",
              "      <td>Harper Lee</td>\n",
              "      <td>To Kill a Mockingbird</td>\n",
              "      <td>1960</td>\n",
              "      <td>3</td>\n",
              "    </tr>\n",
              "    <tr>\n",
              "      <th>4</th>\n",
              "      <td>Harper Lee</td>\n",
              "      <td>Go Set a Watchman</td>\n",
              "      <td>2015</td>\n",
              "      <td>3</td>\n",
              "    </tr>\n",
              "  </tbody>\n",
              "</table>\n",
              "</div>"
            ],
            "text/plain": [
              "          author_name                         book_title  year_published  \\\n",
              "0  Arthur Conan Doyle  The Adventures of Sherlock Holmes            1887   \n",
              "1      J.R.R. Tolkien                         The Hobbit            1937   \n",
              "2      J.R.R. Tolkien              The Lord of the Rings            1954   \n",
              "3          Harper Lee              To Kill a Mockingbird            1960   \n",
              "4          Harper Lee                  Go Set a Watchman            2015   \n",
              "\n",
              "   author_id  \n",
              "0          1  \n",
              "1          2  \n",
              "2          2  \n",
              "3          3  \n",
              "4          3  "
            ]
          },
          "execution_count": 42,
          "metadata": {},
          "output_type": "execute_result"
        }
      ],
      "source": [
        "books_df = non_relational_df.merge(authors_from_sql,\n",
        "                                   on = \"author_name\",\n",
        "                                   how=\"left\")\n",
        "\n",
        "books_df"
      ]
    },
    {
      "cell_type": "code",
      "execution_count": null,
      "metadata": {
        "id": "wcn_eFeDuojp",
        "outputId": "66fd256c-ce3e-4817-cd99-536e951a9f84"
      },
      "outputs": [
        {
          "data": {
            "text/html": [
              "<div>\n",
              "<style scoped>\n",
              "    .dataframe tbody tr th:only-of-type {\n",
              "        vertical-align: middle;\n",
              "    }\n",
              "\n",
              "    .dataframe tbody tr th {\n",
              "        vertical-align: top;\n",
              "    }\n",
              "\n",
              "    .dataframe thead th {\n",
              "        text-align: right;\n",
              "    }\n",
              "</style>\n",
              "<table border=\"1\" class=\"dataframe\">\n",
              "  <thead>\n",
              "    <tr style=\"text-align: right;\">\n",
              "      <th></th>\n",
              "      <th>book_title</th>\n",
              "      <th>year_published</th>\n",
              "      <th>author_id</th>\n",
              "    </tr>\n",
              "  </thead>\n",
              "  <tbody>\n",
              "    <tr>\n",
              "      <th>0</th>\n",
              "      <td>The Adventures of Sherlock Holmes</td>\n",
              "      <td>1887</td>\n",
              "      <td>1</td>\n",
              "    </tr>\n",
              "    <tr>\n",
              "      <th>1</th>\n",
              "      <td>The Hobbit</td>\n",
              "      <td>1937</td>\n",
              "      <td>2</td>\n",
              "    </tr>\n",
              "    <tr>\n",
              "      <th>2</th>\n",
              "      <td>The Lord of the Rings</td>\n",
              "      <td>1954</td>\n",
              "      <td>2</td>\n",
              "    </tr>\n",
              "    <tr>\n",
              "      <th>3</th>\n",
              "      <td>To Kill a Mockingbird</td>\n",
              "      <td>1960</td>\n",
              "      <td>3</td>\n",
              "    </tr>\n",
              "    <tr>\n",
              "      <th>4</th>\n",
              "      <td>Go Set a Watchman</td>\n",
              "      <td>2015</td>\n",
              "      <td>3</td>\n",
              "    </tr>\n",
              "  </tbody>\n",
              "</table>\n",
              "</div>"
            ],
            "text/plain": [
              "                          book_title  year_published  author_id\n",
              "0  The Adventures of Sherlock Holmes            1887          1\n",
              "1                         The Hobbit            1937          2\n",
              "2              The Lord of the Rings            1954          2\n",
              "3              To Kill a Mockingbird            1960          3\n",
              "4                  Go Set a Watchman            2015          3"
            ]
          },
          "execution_count": 43,
          "metadata": {},
          "output_type": "execute_result"
        }
      ],
      "source": [
        "books_df = books_df.drop(columns=[\"author_name\"])\n",
        "\n",
        "books_df"
      ]
    },
    {
      "cell_type": "code",
      "execution_count": null,
      "metadata": {
        "id": "m-xAgmhwuojp",
        "outputId": "87f14f22-8d0a-4ec0-e498-c7da5283e136"
      },
      "outputs": [
        {
          "data": {
            "text/plain": [
              "5"
            ]
          },
          "execution_count": 44,
          "metadata": {},
          "output_type": "execute_result"
        }
      ],
      "source": [
        "books_df.to_sql('books',\n",
        "                if_exists='append',\n",
        "                con=connection_string,\n",
        "                index=False)"
      ]
    },
    {
      "cell_type": "code",
      "execution_count": null,
      "metadata": {
        "id": "V-RDLDjPuojp",
        "outputId": "17949004-1e4a-4e3f-ff8b-f10913e1e954"
      },
      "outputs": [
        {
          "data": {
            "text/html": [
              "<div>\n",
              "<style scoped>\n",
              "    .dataframe tbody tr th:only-of-type {\n",
              "        vertical-align: middle;\n",
              "    }\n",
              "\n",
              "    .dataframe tbody tr th {\n",
              "        vertical-align: top;\n",
              "    }\n",
              "\n",
              "    .dataframe thead th {\n",
              "        text-align: right;\n",
              "    }\n",
              "</style>\n",
              "<table border=\"1\" class=\"dataframe\">\n",
              "  <thead>\n",
              "    <tr style=\"text-align: right;\">\n",
              "      <th></th>\n",
              "      <th>book_id</th>\n",
              "      <th>book_title</th>\n",
              "      <th>year_published</th>\n",
              "      <th>author_id</th>\n",
              "    </tr>\n",
              "  </thead>\n",
              "  <tbody>\n",
              "    <tr>\n",
              "      <th>0</th>\n",
              "      <td>1</td>\n",
              "      <td>The Adventures of Sherlock Holmes</td>\n",
              "      <td>1887</td>\n",
              "      <td>1</td>\n",
              "    </tr>\n",
              "    <tr>\n",
              "      <th>1</th>\n",
              "      <td>2</td>\n",
              "      <td>The Hobbit</td>\n",
              "      <td>1937</td>\n",
              "      <td>2</td>\n",
              "    </tr>\n",
              "    <tr>\n",
              "      <th>2</th>\n",
              "      <td>3</td>\n",
              "      <td>The Lord of the Rings</td>\n",
              "      <td>1954</td>\n",
              "      <td>2</td>\n",
              "    </tr>\n",
              "    <tr>\n",
              "      <th>3</th>\n",
              "      <td>4</td>\n",
              "      <td>To Kill a Mockingbird</td>\n",
              "      <td>1960</td>\n",
              "      <td>3</td>\n",
              "    </tr>\n",
              "    <tr>\n",
              "      <th>4</th>\n",
              "      <td>5</td>\n",
              "      <td>Go Set a Watchman</td>\n",
              "      <td>2015</td>\n",
              "      <td>3</td>\n",
              "    </tr>\n",
              "  </tbody>\n",
              "</table>\n",
              "</div>"
            ],
            "text/plain": [
              "   book_id                         book_title year_published  author_id\n",
              "0        1  The Adventures of Sherlock Holmes           1887          1\n",
              "1        2                         The Hobbit           1937          2\n",
              "2        3              The Lord of the Rings           1954          2\n",
              "3        4              To Kill a Mockingbird           1960          3\n",
              "4        5                  Go Set a Watchman           2015          3"
            ]
          },
          "execution_count": 45,
          "metadata": {},
          "output_type": "execute_result"
        }
      ],
      "source": [
        "books_from_sql = pd.read_sql(\"books\", con=connection_string)\n",
        "books_from_sql"
      ]
    },
    {
      "cell_type": "markdown",
      "metadata": {
        "id": "Gz-ICLACvo7Q"
      },
      "source": [
        "---\n",
        "## 8.&nbsp; Challenge 😃\n",
        "Now that you've learnt how to send and retrieve information, it's your turn to show off your skills. Create multiple tables in SQL for the data you scrapped about cities from Wikipedia. One should just be a table about the cities, the others should be facts about the cities.\n",
        "\n",
        "| city_id | city |\n",
        "| --- | --- |\n",
        "| 1 | Berlin |\n",
        "| 2 | Hamburg |\n",
        "| 3 | Munich |\n",
        "\n",
        "<br>\n",
        "\n",
        "| City ID | Population | Year Data Retrieved |\n",
        "|---|---|---|\n",
        "| 1 | 3,850,809 | 2024 |\n",
        "| 2 | 1,945,532 | 2024 |\n",
        "| 3 | 1,512,491 | 2024 |\n",
        "\n",
        "> **Pro Tip:** Visualise your relational database with pen and paper before you start coding. This can help you to identify any potential problems or inconsistencies in your design, and it can also make the coding process more efficient."
      ]
    },
    {
      "cell_type": "code",
      "execution_count": 45,
      "metadata": {
        "id": "Bf93TRUIyecp"
      },
      "outputs": [],
      "source": [
        "schema = \"Cities_Weather_Project\"\n",
        "host = \"127.0.0.1\"\n",
        "user = \"root\"\n",
        "password = \"Sematty25\"\n",
        "port = 3306\n",
        "\n",
        "connection_string = f'mysql+pymysql://{user}:{password}@{host}:{port}/{schema}'"
      ]
    },
    {
      "cell_type": "code",
      "execution_count": 46,
      "metadata": {},
      "outputs": [
        {
          "data": {
            "text/html": [
              "<div>\n",
              "<style scoped>\n",
              "    .dataframe tbody tr th:only-of-type {\n",
              "        vertical-align: middle;\n",
              "    }\n",
              "\n",
              "    .dataframe tbody tr th {\n",
              "        vertical-align: top;\n",
              "    }\n",
              "\n",
              "    .dataframe thead th {\n",
              "        text-align: right;\n",
              "    }\n",
              "</style>\n",
              "<table border=\"1\" class=\"dataframe\">\n",
              "  <thead>\n",
              "    <tr style=\"text-align: right;\">\n",
              "      <th></th>\n",
              "      <th>City_name</th>\n",
              "      <th>Population</th>\n",
              "      <th>Year_data_retrieved</th>\n",
              "    </tr>\n",
              "  </thead>\n",
              "  <tbody>\n",
              "    <tr>\n",
              "      <th>0</th>\n",
              "      <td>Berlin</td>\n",
              "      <td>3850809</td>\n",
              "      <td>2025</td>\n",
              "    </tr>\n",
              "    <tr>\n",
              "      <th>1</th>\n",
              "      <td>Hamburg</td>\n",
              "      <td>1945532</td>\n",
              "      <td>2025</td>\n",
              "    </tr>\n",
              "    <tr>\n",
              "      <th>2</th>\n",
              "      <td>Munich</td>\n",
              "      <td>1512491</td>\n",
              "      <td>2025</td>\n",
              "    </tr>\n",
              "  </tbody>\n",
              "</table>\n",
              "</div>"
            ],
            "text/plain": [
              "  City_name  Population  Year_data_retrieved\n",
              "0    Berlin     3850809                 2025\n",
              "1   Hamburg     1945532                 2025\n",
              "2    Munich     1512491                 2025"
            ]
          },
          "execution_count": 46,
          "metadata": {},
          "output_type": "execute_result"
        }
      ],
      "source": [
        "cities = ['Berlin', 'Hamburg', 'Munich']\n",
        "populations = [3850809, 1945532, 1512491]\n",
        "years = [2025, 2025, 2025]\n",
        "\n",
        "cities_df = pd.DataFrame({\"City_name\": cities,\n",
        "                                  \"Population\": populations,\n",
        "                                  \"Year_data_retrieved\": years})\n",
        "\n",
        "cities_df"
      ]
    },
    {
      "cell_type": "code",
      "execution_count": 47,
      "metadata": {},
      "outputs": [
        {
          "data": {
            "text/plain": [
              "3"
            ]
          },
          "execution_count": 47,
          "metadata": {},
          "output_type": "execute_result"
        }
      ],
      "source": [
        "cities_df.to_sql('cities',\n",
        "                  if_exists='append',\n",
        "                  con=connection_string,\n",
        "                  index=False)"
      ]
    },
    {
      "cell_type": "code",
      "execution_count": null,
      "metadata": {},
      "outputs": [],
      "source": [
        "API_key = 'INSERT KEY HERE'\n",
        "lat = []\n",
        "lon= []\n",
        "URL = f\"api.openweathermap.org/data/2.5/forecast?lat={lat}&lon={lon}&appid={API key}\""
      ]
    },
    {
      "cell_type": "code",
      "execution_count": 13,
      "metadata": {},
      "outputs": [],
      "source": [
        "from bs4 import BeautifulSoup\n",
        "import requests\n",
        "import pandas as pd\n",
        "def cities_dataframe(cities):\n",
        "\n",
        "  city_data = []\n",
        "\n",
        "  for city in cities:\n",
        "    url = f\"https://en.wikipedia.org/wiki/{city}\"\n",
        "    response = requests.get(url)\n",
        "    city_soup = BeautifulSoup(response.content, 'html.parser')\n",
        "\n",
        "    # extract the relevant information\n",
        "    city_latitude = city_soup.find(class_=\"latitude\").get_text()\n",
        "    city_longitude = city_soup.find(class_=\"longitude\").get_text()\n",
        "    country = city_soup.find(class_=\"infobox-data\").get_text()\n",
        "\n",
        "    # keep track of data per city\n",
        "    city_data.append({\"City\": city,\n",
        "                    \"Country\": country,\n",
        "                    \"Latitude\": parse(city_latitude), # latitude in decimal format\n",
        "                    \"Longitude\": parse(city_longitude), # longitude in decimal format\n",
        "                    })\n",
        "\n",
        "  return pd.DataFrame(city_data)"
      ]
    },
    {
      "cell_type": "code",
      "execution_count": 14,
      "metadata": {},
      "outputs": [
        {
          "ename": "NameError",
          "evalue": "name 'parse' is not defined",
          "output_type": "error",
          "traceback": [
            "\u001b[0;31m---------------------------------------------------------------------------\u001b[0m",
            "\u001b[0;31mNameError\u001b[0m                                 Traceback (most recent call last)",
            "Cell \u001b[0;32mIn[14], line 4\u001b[0m\n\u001b[1;32m      1\u001b[0m \u001b[38;5;66;03m# call the function\u001b[39;00m\n\u001b[1;32m      2\u001b[0m list_of_cities \u001b[38;5;241m=\u001b[39m [\u001b[38;5;124m\"\u001b[39m\u001b[38;5;124mBerlin\u001b[39m\u001b[38;5;124m\"\u001b[39m, \u001b[38;5;124m\"\u001b[39m\u001b[38;5;124mHamburg\u001b[39m\u001b[38;5;124m\"\u001b[39m, \u001b[38;5;124m\"\u001b[39m\u001b[38;5;124mMunich\u001b[39m\u001b[38;5;124m\"\u001b[39m]\n\u001b[0;32m----> 4\u001b[0m cities_df \u001b[38;5;241m=\u001b[39m \u001b[43mcities_dataframe\u001b[49m\u001b[43m(\u001b[49m\u001b[43mlist_of_cities\u001b[49m\u001b[43m)\u001b[49m\n\u001b[1;32m      5\u001b[0m cities_df\n",
            "Cell \u001b[0;32mIn[13], line 21\u001b[0m, in \u001b[0;36mcities_dataframe\u001b[0;34m(cities)\u001b[0m\n\u001b[1;32m     16\u001b[0m   country \u001b[38;5;241m=\u001b[39m city_soup\u001b[38;5;241m.\u001b[39mfind(class_\u001b[38;5;241m=\u001b[39m\u001b[38;5;124m\"\u001b[39m\u001b[38;5;124minfobox-data\u001b[39m\u001b[38;5;124m\"\u001b[39m)\u001b[38;5;241m.\u001b[39mget_text()\n\u001b[1;32m     18\u001b[0m   \u001b[38;5;66;03m# keep track of data per city\u001b[39;00m\n\u001b[1;32m     19\u001b[0m   city_data\u001b[38;5;241m.\u001b[39mappend({\u001b[38;5;124m\"\u001b[39m\u001b[38;5;124mCity\u001b[39m\u001b[38;5;124m\"\u001b[39m: city,\n\u001b[1;32m     20\u001b[0m                   \u001b[38;5;124m\"\u001b[39m\u001b[38;5;124mCountry\u001b[39m\u001b[38;5;124m\"\u001b[39m: country,\n\u001b[0;32m---> 21\u001b[0m                   \u001b[38;5;124m\"\u001b[39m\u001b[38;5;124mLatitude\u001b[39m\u001b[38;5;124m\"\u001b[39m: \u001b[43mparse\u001b[49m(city_latitude), \u001b[38;5;66;03m# latitude in decimal format\u001b[39;00m\n\u001b[1;32m     22\u001b[0m                   \u001b[38;5;124m\"\u001b[39m\u001b[38;5;124mLongitude\u001b[39m\u001b[38;5;124m\"\u001b[39m: parse(city_longitude), \u001b[38;5;66;03m# longitude in decimal format\u001b[39;00m\n\u001b[1;32m     23\u001b[0m                   })\n\u001b[1;32m     25\u001b[0m \u001b[38;5;28;01mreturn\u001b[39;00m pd\u001b[38;5;241m.\u001b[39mDataFrame(city_data)\n",
            "\u001b[0;31mNameError\u001b[0m: name 'parse' is not defined"
          ]
        }
      ],
      "source": [
        "# call the function\n",
        "list_of_cities = [\"Berlin\", \"Hamburg\", \"Munich\"]\n",
        "\n",
        "cities_df = cities_dataframe(list_of_cities)\n",
        "cities_df"
      ]
    }
  ],
  "metadata": {
    "colab": {
      "provenance": [],
      "toc_visible": true
    },
    "kernelspec": {
      "display_name": "Python 3",
      "name": "python3"
    },
    "language_info": {
      "codemirror_mode": {
        "name": "ipython",
        "version": 3
      },
      "file_extension": ".py",
      "mimetype": "text/x-python",
      "name": "python",
      "nbconvert_exporter": "python",
      "pygments_lexer": "ipython3",
      "version": "3.9.6"
    }
  },
  "nbformat": 4,
  "nbformat_minor": 0
}
