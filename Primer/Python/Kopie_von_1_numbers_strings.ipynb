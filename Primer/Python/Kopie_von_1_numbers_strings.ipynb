{
  "cells": [
    {
      "cell_type": "markdown",
      "metadata": {
        "id": "e92e4577-fe33-4280-a545-c0b177c09182"
      },
      "source": [
        "# Comments"
      ]
    },
    {
      "cell_type": "markdown",
      "metadata": {
        "id": "cce4ab73-61f4-456f-a0ed-453480f8bb6a"
      },
      "source": [
        "Comments are very useful. You can use them to explain your code, to make it more readable, or to skip part of the code from being executed."
      ]
    },
    {
      "cell_type": "markdown",
      "metadata": {
        "id": "f69a7cf6-cb54-4a84-bd7c-0b667e317cbf"
      },
      "source": [
        "Text or code begining with a `#` is a comment, and it will be ignored and not executed."
      ]
    },
    {
      "cell_type": "code",
      "execution_count": null,
      "metadata": {
        "id": "5c6749d6-6e3c-4293-94b1-ccc67ed68312"
      },
      "outputs": [],
      "source": [
        "# This is a comment"
      ]
    },
    {
      "cell_type": "code",
      "execution_count": null,
      "metadata": {
        "id": "9a42bfb4-d540-4bc5-9e7c-c940723f8abd",
        "colab": {
          "base_uri": "https://localhost:8080/"
        },
        "outputId": "96b69694-f243-40c6-93a2-9ebb79f10088"
      },
      "outputs": [
        {
          "output_type": "stream",
          "name": "stdout",
          "text": [
            "2\n"
          ]
        }
      ],
      "source": [
        "x = 2\n",
        "# x = 3\n",
        "print(x)"
      ]
    },
    {
      "cell_type": "code",
      "execution_count": null,
      "metadata": {
        "id": "93f13f4c-1922-4d8c-91d6-3bec409637e2",
        "colab": {
          "base_uri": "https://localhost:8080/"
        },
        "outputId": "fa4b8538-2456-413d-d278-665396d2b234"
      },
      "outputs": [
        {
          "output_type": "stream",
          "name": "stdout",
          "text": [
            "3\n"
          ]
        }
      ],
      "source": [
        "x = 3 # A comment can also be placed at the end of a line\n",
        "print(x)"
      ]
    },
    {
      "cell_type": "markdown",
      "metadata": {
        "id": "bddf3077-dfbd-4611-b624-c7e77f15a088"
      },
      "source": [
        "If you want to comment more than one line, you need to place a `#` in front of every line. To make it faster, you can select everything you want to comment and then press `Ctrl` + `/` (on a German keyboard, it's `Ctrl` + `-`).  \n",
        "Try to comment and uncomment the code in the next cell using keyboard shortcuts:"
      ]
    },
    {
      "cell_type": "code",
      "execution_count": null,
      "metadata": {
        "id": "2dd1d4b4-2e6e-4afc-a71f-5efc955f2c51",
        "colab": {
          "base_uri": "https://localhost:8080/"
        },
        "outputId": "70bd3e17-21c4-4acc-8ca4-6d5451ceb95d"
      },
      "outputs": [
        {
          "output_type": "stream",
          "name": "stdout",
          "text": [
            "line 1\n"
          ]
        }
      ],
      "source": [
        "print(\"line 1\")\n",
        "#print(\"line 2\")\n",
        "#print(\"line 3\")|"
      ]
    },
    {
      "cell_type": "markdown",
      "metadata": {
        "id": "ad807bdb-f5c7-436d-bcee-7418c67e2cb2"
      },
      "source": [
        "# Variables"
      ]
    },
    {
      "cell_type": "markdown",
      "metadata": {
        "id": "a7ea21e6-2616-4bf7-8d88-9ee82f9b3507"
      },
      "source": [
        "Variable is a name that is used to refer to memory location. If you assign a value to a variable, you can use it throughout your code and it will point to the place in the memory where that value is stored. We can think of variables as containers for storing values.  \n",
        "In Python, a variable is created the moment you first assign a value to it. Example of assigning a value: `x = 2` - here we assign the value 2 to a variable x."
      ]
    },
    {
      "cell_type": "code",
      "execution_count": null,
      "metadata": {
        "id": "f72e47cf-10ac-49ae-a188-cfb30fa54ca3",
        "colab": {
          "base_uri": "https://localhost:8080/"
        },
        "outputId": "d18efcf3-796b-4bc7-f6a6-1b8a821a67e9"
      },
      "outputs": [
        {
          "output_type": "stream",
          "name": "stdout",
          "text": [
            "Jonh\n"
          ]
        }
      ],
      "source": [
        "x = 5 # assigning a variable\n",
        "x = \"Jonh\" # reassigning a variable\n",
        "print(x)"
      ]
    },
    {
      "cell_type": "markdown",
      "metadata": {
        "id": "760191cc-3562-4577-acab-f9f378483cff"
      },
      "source": [
        "Bear in mind that variable names are case-sensitive. This will create two different variables:"
      ]
    },
    {
      "cell_type": "code",
      "execution_count": null,
      "metadata": {
        "id": "2f5e5510-18a3-4f49-8cde-71dd67767337",
        "colab": {
          "base_uri": "https://localhost:8080/"
        },
        "outputId": "0b559124-f0ac-49ec-b8d2-9dcccf16b6d8"
      },
      "outputs": [
        {
          "output_type": "stream",
          "name": "stdout",
          "text": [
            "2\n",
            "WBS\n"
          ]
        }
      ],
      "source": [
        "v = 2\n",
        "V = \"WBS\"\n",
        "print(v)\n",
        "print(V)"
      ]
    },
    {
      "cell_type": "markdown",
      "metadata": {
        "id": "GG8cSDex9jqw"
      },
      "source": [
        "# Numbers and Strings\n",
        "\n",
        "Almost everything in Python is an object. We will deal with numbers, text,  lists, dictionaries... all of these things are different types of Python objects.\n",
        "\n",
        "The type of an object defines what can you do with it, and how will it behave. For example, you can add two numbers, and as long as they are both of the type of python number, they will behave just as in maths: you will get the sum of the two numbers."
      ]
    },
    {
      "cell_type": "code",
      "execution_count": null,
      "metadata": {
        "id": "3sGGztmy9jqz",
        "colab": {
          "base_uri": "https://localhost:8080/"
        },
        "outputId": "bdf9f029-477c-4ba9-a8a0-240cb448adae"
      },
      "outputs": [
        {
          "output_type": "execute_result",
          "data": {
            "text/plain": [
              "4"
            ]
          },
          "metadata": {},
          "execution_count": 7
        }
      ],
      "source": [
        "2 + 2"
      ]
    },
    {
      "cell_type": "markdown",
      "metadata": {
        "id": "P--VHI4w9jq2"
      },
      "source": [
        "But if you try to sum two strings (string being a sequence of characters), the behaviour will be different:"
      ]
    },
    {
      "cell_type": "code",
      "execution_count": null,
      "metadata": {
        "id": "Vbnc7Kfh9jq3",
        "colab": {
          "base_uri": "https://localhost:8080/",
          "height": 35
        },
        "outputId": "4cad8b62-ff56-4470-ed87-f5010ddc2ea1"
      },
      "outputs": [
        {
          "output_type": "execute_result",
          "data": {
            "text/plain": [
              "'22'"
            ],
            "application/vnd.google.colaboratory.intrinsic+json": {
              "type": "string"
            }
          },
          "metadata": {},
          "execution_count": 8
        }
      ],
      "source": [
        "\"2\" + \"2\""
      ]
    },
    {
      "cell_type": "markdown",
      "metadata": {
        "id": "1vXMNDRA9jq3"
      },
      "source": [
        "Any object in Python can be assigned to a variable with the `=` operator. Variables are just names for objects - they're nicknames that allow us to identify or call our objects."
      ]
    },
    {
      "cell_type": "code",
      "execution_count": null,
      "metadata": {
        "id": "_580VfMW9jq4"
      },
      "outputs": [],
      "source": [
        "result = 4 + 3"
      ]
    },
    {
      "cell_type": "markdown",
      "metadata": {
        "id": "gMrCtWGE9jq4"
      },
      "source": [
        "At any point, we can retrieve whatever we stored in a variable by using its name:"
      ]
    },
    {
      "cell_type": "code",
      "execution_count": null,
      "metadata": {
        "id": "lDdqoet3sYNP",
        "colab": {
          "base_uri": "https://localhost:8080/"
        },
        "outputId": "dceb846f-d6d9-4e4b-e99c-dbbe195a5b3b"
      },
      "outputs": [
        {
          "output_type": "execute_result",
          "data": {
            "text/plain": [
              "7"
            ]
          },
          "metadata": {},
          "execution_count": 10
        }
      ],
      "source": [
        "result"
      ]
    },
    {
      "cell_type": "markdown",
      "metadata": {
        "id": "4icOudm3shWb"
      },
      "source": [
        "We can assign a stored value to another variable."
      ]
    },
    {
      "cell_type": "code",
      "execution_count": null,
      "metadata": {
        "id": "D7QAC2_usgvU"
      },
      "outputs": [],
      "source": [
        "copy_of_result = result"
      ]
    },
    {
      "cell_type": "code",
      "execution_count": null,
      "metadata": {
        "id": "NuEsUayxsvo9",
        "colab": {
          "base_uri": "https://localhost:8080/"
        },
        "outputId": "32fc71bc-40b2-415a-8f06-c9e09402712f"
      },
      "outputs": [
        {
          "output_type": "execute_result",
          "data": {
            "text/plain": [
              "7"
            ]
          },
          "metadata": {},
          "execution_count": 12
        }
      ],
      "source": [
        "copy_of_result"
      ]
    },
    {
      "cell_type": "markdown",
      "metadata": {
        "id": "T2gHE3QjszQi"
      },
      "source": [
        "We can use the funtion `print()` to print out anything."
      ]
    },
    {
      "cell_type": "code",
      "execution_count": null,
      "metadata": {
        "id": "AaWJYeHW9jq5",
        "colab": {
          "base_uri": "https://localhost:8080/"
        },
        "outputId": "60ced25f-c1fd-48ad-924e-e19ec6969894"
      },
      "outputs": [
        {
          "output_type": "stream",
          "name": "stdout",
          "text": [
            "7\n"
          ]
        }
      ],
      "source": [
        "# https://cs.stanford.edu/people/nick/py/python-print.html\n",
        "\n",
        "print(result)"
      ]
    },
    {
      "cell_type": "markdown",
      "metadata": {
        "id": "-xH_7viN9jq5"
      },
      "source": [
        "If we want to find out what type of object a variable is, we can ask it with the function `type()`, like this:"
      ]
    },
    {
      "cell_type": "code",
      "execution_count": null,
      "metadata": {
        "id": "gU3ZbrAk9jq6",
        "colab": {
          "base_uri": "https://localhost:8080/"
        },
        "outputId": "ac3f05c6-8c98-4549-ae27-109b31d25fca"
      },
      "outputs": [
        {
          "output_type": "execute_result",
          "data": {
            "text/plain": [
              "int"
            ]
          },
          "metadata": {},
          "execution_count": 14
        }
      ],
      "source": [
        "# https://www.programiz.com/python-programming/methods/built-in/type\n",
        "\n",
        "type(result)"
      ]
    },
    {
      "cell_type": "markdown",
      "metadata": {
        "id": "e3r8xQc-9jq6"
      },
      "source": [
        "##### **Exercise 1:**\n",
        "Add `100` and `3.4`. Assign it to the variable `addition`. Print the type of that variable."
      ]
    },
    {
      "cell_type": "code",
      "execution_count": null,
      "metadata": {
        "id": "MC6QjWi29jq6",
        "colab": {
          "base_uri": "https://localhost:8080/"
        },
        "outputId": "00092758-b28b-4c9f-f0c6-fc2ba060d320"
      },
      "outputs": [
        {
          "output_type": "stream",
          "name": "stdout",
          "text": [
            "103.4\n"
          ]
        },
        {
          "output_type": "execute_result",
          "data": {
            "text/plain": [
              "float"
            ]
          },
          "metadata": {},
          "execution_count": 72
        }
      ],
      "source": [
        "# You've got this! Break down the problem and conquer it step by step.\n",
        "addition = 100 + 3.4\n",
        "print(addition)\n",
        "type(addition)"
      ]
    },
    {
      "cell_type": "markdown",
      "metadata": {
        "id": "p6QXKE8ttJ3W"
      },
      "source": [
        "###### **Hint**\n",
        "\n"
      ]
    },
    {
      "cell_type": "code",
      "execution_count": null,
      "metadata": {
        "id": "2qdPCd0xtZVv"
      },
      "outputs": [],
      "source": [
        "# addition __ 100 + 3.4\n",
        "# print(_____(addition))"
      ]
    },
    {
      "cell_type": "markdown",
      "metadata": {
        "id": "uBveabbD9jq7"
      },
      "source": [
        "## Booleans\n",
        "\n",
        "The values `True` and `False` are special in Python. They are called \"booleans\"."
      ]
    },
    {
      "cell_type": "code",
      "execution_count": null,
      "metadata": {
        "id": "cAlYm9kJ9jq7",
        "colab": {
          "base_uri": "https://localhost:8080/"
        },
        "outputId": "cc43ca6a-2335-4252-a3f3-00aaa8e23819"
      },
      "outputs": [
        {
          "output_type": "execute_result",
          "data": {
            "text/plain": [
              "bool"
            ]
          },
          "metadata": {},
          "execution_count": 14
        }
      ],
      "source": [
        "type(True)"
      ]
    },
    {
      "cell_type": "code",
      "execution_count": null,
      "metadata": {
        "id": "AXToyxAt9jq7",
        "colab": {
          "base_uri": "https://localhost:8080/"
        },
        "outputId": "3c97f633-fa94-43ca-9c5b-97a78ce31675"
      },
      "outputs": [
        {
          "output_type": "execute_result",
          "data": {
            "text/plain": [
              "bool"
            ]
          },
          "metadata": {},
          "execution_count": 15
        }
      ],
      "source": [
        "type(False)"
      ]
    },
    {
      "cell_type": "markdown",
      "metadata": {
        "id": "J1Ltqfls9jq7"
      },
      "source": [
        "If you try to use mathematical operations with booleans, you will see how `True` equates to `1` and `False` equates to `0`.\n"
      ]
    },
    {
      "cell_type": "code",
      "execution_count": null,
      "metadata": {
        "id": "mwsFtaDZ9jq8",
        "colab": {
          "base_uri": "https://localhost:8080/"
        },
        "outputId": "ee47e970-578c-4f39-8354-d5592cc49aa7"
      },
      "outputs": [
        {
          "output_type": "execute_result",
          "data": {
            "text/plain": [
              "2"
            ]
          },
          "metadata": {},
          "execution_count": 16
        }
      ],
      "source": [
        "True + True"
      ]
    },
    {
      "cell_type": "code",
      "execution_count": null,
      "metadata": {
        "id": "HhT2fJJJ9jq8",
        "colab": {
          "base_uri": "https://localhost:8080/"
        },
        "outputId": "dccb18ba-1302-42e8-8929-ab4ecddae4c2"
      },
      "outputs": [
        {
          "output_type": "execute_result",
          "data": {
            "text/plain": [
              "0"
            ]
          },
          "metadata": {},
          "execution_count": 17
        }
      ],
      "source": [
        "False + False"
      ]
    },
    {
      "cell_type": "markdown",
      "metadata": {
        "id": "mIrc9DDk9jq8"
      },
      "source": [
        "## Integers\n",
        "\n",
        "Integers are whole numbers (without fractions or decimal points) that can be positive or negative."
      ]
    },
    {
      "cell_type": "code",
      "execution_count": null,
      "metadata": {
        "id": "mLef5s7O9jq8",
        "colab": {
          "base_uri": "https://localhost:8080/"
        },
        "outputId": "d0930232-3579-4d97-995d-d9cc770dac8e"
      },
      "outputs": [
        {
          "output_type": "execute_result",
          "data": {
            "text/plain": [
              "int"
            ]
          },
          "metadata": {},
          "execution_count": 18
        }
      ],
      "source": [
        "type(-8)"
      ]
    },
    {
      "cell_type": "markdown",
      "metadata": {
        "id": "TGTFBWwS9jq9"
      },
      "source": [
        "You can use mathematical operators with integers (and floats):\n",
        "\n",
        "- `+` Addition\n",
        "- `-` Subtraction\n",
        "- `*` Multiplication\n",
        "- `/` Floating-point division\n",
        "- `//` Truncating division\n",
        "- `%` Modulo operation\n",
        "- `**` Exponentiation"
      ]
    },
    {
      "cell_type": "markdown",
      "metadata": {
        "id": "RdTqurnS9jq9"
      },
      "source": [
        "##### **Exercise 2:**\n",
        "Assign the number corresponding to the present year to the variable `year` and your age to the variable `age`. Operate with both variables to create a new variable called `birth_year`."
      ]
    },
    {
      "cell_type": "code",
      "execution_count": null,
      "metadata": {
        "id": "LWxyFfCj9jq9",
        "colab": {
          "base_uri": "https://localhost:8080/"
        },
        "outputId": "32325c4a-95f0-4d58-ad73-6e5417c38cc1"
      },
      "outputs": [
        {
          "output_type": "stream",
          "name": "stdout",
          "text": [
            "1997\n"
          ]
        }
      ],
      "source": [
        "# Stay persistent; your code will light the way.\n",
        "year = 2025\n",
        "age = 28\n",
        "birth_year = year - age\n",
        "print(birth_year)\n",
        "# but thats not true because my birthday is in March (:"
      ]
    },
    {
      "cell_type": "markdown",
      "metadata": {
        "id": "DpEuooYy2DWu"
      },
      "source": [
        "###### **Hint**\n",
        "\n"
      ]
    },
    {
      "cell_type": "code",
      "execution_count": null,
      "metadata": {
        "id": "wv244-Um2DWv"
      },
      "outputs": [],
      "source": [
        "# _____ = 2022\n",
        "# age = _____\n",
        "# birth_year = _____ - age"
      ]
    },
    {
      "cell_type": "markdown",
      "metadata": {
        "id": "1jGUon5V9jq-"
      },
      "source": [
        "##### **Exercise 3:**\n",
        "Create a variable called `price` with the value `100`. Then update its value by multiplying it by `2`."
      ]
    },
    {
      "cell_type": "code",
      "execution_count": null,
      "metadata": {
        "id": "y18avwiY9jq-",
        "colab": {
          "base_uri": "https://localhost:8080/"
        },
        "outputId": "46799f01-50c8-4166-89e5-6b2d0fdb1d60"
      },
      "outputs": [
        {
          "output_type": "stream",
          "name": "stdout",
          "text": [
            "200\n"
          ]
        }
      ],
      "source": [
        "# Conquer the challenge one line of code at a time.\n",
        "price = 100\n",
        "price = 100 * 2\n",
        "print(price)"
      ]
    },
    {
      "cell_type": "markdown",
      "metadata": {
        "id": "KJljIZ6EuA9M"
      },
      "source": [
        "###### **Hint**\n",
        "\n"
      ]
    },
    {
      "cell_type": "code",
      "execution_count": null,
      "metadata": {
        "id": "DcM8KNAbuA9N"
      },
      "outputs": [],
      "source": [
        "# price _____ 100\n",
        "# price = _____ * 2"
      ]
    },
    {
      "cell_type": "markdown",
      "metadata": {
        "id": "79CbyD_G9jrA"
      },
      "source": [
        "## Floats\n",
        "\n",
        "Floats are numbers with decimals."
      ]
    },
    {
      "cell_type": "code",
      "execution_count": null,
      "metadata": {
        "id": "cprwKJOd9jrA",
        "colab": {
          "base_uri": "https://localhost:8080/"
        },
        "outputId": "859f4fb8-529a-412f-e8c2-f006d75cd0c1"
      },
      "outputs": [
        {
          "output_type": "execute_result",
          "data": {
            "text/plain": [
              "3.0"
            ]
          },
          "metadata": {},
          "execution_count": 31
        }
      ],
      "source": [
        "3."
      ]
    },
    {
      "cell_type": "markdown",
      "metadata": {
        "id": "n87g1nka9jrA"
      },
      "source": [
        "They can include the letter e for an exponent:"
      ]
    },
    {
      "cell_type": "code",
      "execution_count": null,
      "metadata": {
        "id": "EVKKC8s_9jrA",
        "colab": {
          "base_uri": "https://localhost:8080/"
        },
        "outputId": "63ded1c8-abd5-426c-e2b6-89ea9d99af39"
      },
      "outputs": [
        {
          "output_type": "execute_result",
          "data": {
            "text/plain": [
              "300.0"
            ]
          },
          "metadata": {},
          "execution_count": 32
        }
      ],
      "source": [
        "3e2"
      ]
    },
    {
      "cell_type": "markdown",
      "metadata": {
        "id": "br3KdAjT9jrA"
      },
      "source": [
        "The function `float()` can be used to convert integers into floats."
      ]
    },
    {
      "cell_type": "code",
      "execution_count": null,
      "metadata": {
        "id": "ySxvm6mG9jrB",
        "colab": {
          "base_uri": "https://localhost:8080/"
        },
        "outputId": "876d963c-3a12-4c00-b187-be1f3f003fe1"
      },
      "outputs": [
        {
          "output_type": "execute_result",
          "data": {
            "text/plain": [
              "24.0"
            ]
          },
          "metadata": {},
          "execution_count": 28
        }
      ],
      "source": [
        "float(24)"
      ]
    },
    {
      "cell_type": "markdown",
      "metadata": {
        "id": "x3cL_XwlJtis"
      },
      "source": [
        "##### **Exercise 4:**\n",
        "Calculate how many seconds there are in a year. Store that number in a variable called `year_seconds`."
      ]
    },
    {
      "cell_type": "code",
      "execution_count": null,
      "metadata": {
        "id": "QkoVq44S9jrB",
        "colab": {
          "base_uri": "https://localhost:8080/"
        },
        "outputId": "7ce61f20-6ccf-422d-87ab-13045fcb13af"
      },
      "outputs": [
        {
          "output_type": "stream",
          "name": "stdout",
          "text": [
            "31536000\n"
          ]
        }
      ],
      "source": [
        "# Bugs are just detours on the road to success; keep coding!\n",
        "year_seconds = 365 * 24 * 60 * 60\n",
        "print(year_seconds)"
      ]
    },
    {
      "cell_type": "markdown",
      "metadata": {
        "id": "jN3mJsg2u36c"
      },
      "source": [
        "###### **Hint**\n",
        "\n"
      ]
    },
    {
      "cell_type": "code",
      "execution_count": null,
      "metadata": {
        "id": "0P_X0EsTu36d"
      },
      "outputs": [],
      "source": [
        "# year_seconds = 365 * _____ * 60 * _____"
      ]
    },
    {
      "cell_type": "markdown",
      "metadata": {
        "id": "v9Dlk7OdJ2Ba"
      },
      "source": [
        "##### **Exercise 5:**\n",
        "Multiply your result of year_seconds with your age, and store it in a new variable called `life_seconds`."
      ]
    },
    {
      "cell_type": "code",
      "execution_count": null,
      "metadata": {
        "id": "AfdghPiM9jrB",
        "colab": {
          "base_uri": "https://localhost:8080/"
        },
        "outputId": "1ba57694-a77a-4847-e667-8e6ad768cbda"
      },
      "outputs": [
        {
          "output_type": "stream",
          "name": "stdout",
          "text": [
            "883008000\n"
          ]
        }
      ],
      "source": [
        "# Celebrate each code snippet as a step toward victory.\n",
        "year_seconds = 365 * 24 * 60 * 60\n",
        "age = 28\n",
        "life_seconds =  year_seconds * age\n",
        "print(life_seconds)"
      ]
    },
    {
      "cell_type": "markdown",
      "metadata": {
        "id": "JPQji5wfvOtc"
      },
      "source": [
        "###### **Hint**\n",
        "\n"
      ]
    },
    {
      "cell_type": "code",
      "execution_count": null,
      "metadata": {
        "id": "qM0ETE1uvOtd"
      },
      "outputs": [],
      "source": [
        "# life_seconds = year_seconds * _____"
      ]
    },
    {
      "cell_type": "markdown",
      "metadata": {
        "id": "nxQ4KIn9KGCC"
      },
      "source": [
        "##### **Exercise 6:**\n",
        "Calculate how many seconds you will spend in this bootcamp. Store it in a variable called `bootcamp`."
      ]
    },
    {
      "cell_type": "code",
      "execution_count": null,
      "metadata": {
        "id": "sXlpbvbD9jrB",
        "colab": {
          "base_uri": "https://localhost:8080/"
        },
        "outputId": "73c6b1a9-2f19-4af0-eeec-2bba2631b5bc"
      },
      "outputs": [
        {
          "output_type": "stream",
          "name": "stdout",
          "text": [
            "2736000\n"
          ]
        }
      ],
      "source": [
        "# Write code with confidence; you're closer to solving the puzzle.\n",
        "bootcamp = (680 * 60 * 60) + (80 * 60 * 60) #bootcamp + primer\n",
        "print(bootcamp)"
      ]
    },
    {
      "cell_type": "markdown",
      "metadata": {
        "id": "3oVvj2p9vZ2T"
      },
      "source": [
        "###### **Hint**\n",
        "\n"
      ]
    },
    {
      "cell_type": "code",
      "execution_count": null,
      "metadata": {
        "id": "o5mhkyN4vZ2U"
      },
      "outputs": [],
      "source": [
        "# bootcamp = 15 * 5 * _____ * 60 *_____"
      ]
    },
    {
      "cell_type": "markdown",
      "metadata": {
        "id": "d_1eFshnKdXw"
      },
      "source": [
        "##### **Exercise 7:**\n",
        "Print out the percentage of your life you will spend in this bootcamp."
      ]
    },
    {
      "cell_type": "code",
      "execution_count": null,
      "metadata": {
        "id": "vkv5XOWp9jrB",
        "colab": {
          "base_uri": "https://localhost:8080/"
        },
        "outputId": "be7f3d32-895f-41b2-8907-e31c22e4f31a"
      },
      "outputs": [
        {
          "output_type": "stream",
          "name": "stdout",
          "text": [
            "0.0030984996738421394\n",
            "0.0030984996738421394\n"
          ]
        }
      ],
      "source": [
        "# Coding is the language of problem-solving; you're fluent in it\n",
        "print(bootcamp/life_seconds)"
      ]
    },
    {
      "cell_type": "markdown",
      "metadata": {
        "id": "Bwcl7EwQw02L"
      },
      "source": [
        "###### **Hint**\n",
        "\n"
      ]
    },
    {
      "cell_type": "code",
      "execution_count": null,
      "metadata": {
        "id": "QrI1BD63w02M"
      },
      "outputs": [],
      "source": [
        "# print( _____ / life_seconds)"
      ]
    },
    {
      "cell_type": "markdown",
      "metadata": {
        "id": "SJAbW5In9jrB"
      },
      "source": [
        "## Text Strings\n",
        "\n",
        "You will use text just as much as numbers when programming. Strings are created with either single quotes `'` or double quotes `\"`:"
      ]
    },
    {
      "cell_type": "code",
      "execution_count": null,
      "metadata": {
        "id": "Rxgolhes9jrB",
        "colab": {
          "base_uri": "https://localhost:8080/"
        },
        "outputId": "e2c1ee19-033f-4929-c03e-153888230771"
      },
      "outputs": [
        {
          "output_type": "stream",
          "name": "stdout",
          "text": [
            "A string with double quotes.\n",
            "A string with single quotes.\n"
          ]
        }
      ],
      "source": [
        "print(\"A string with double quotes.\")\n",
        "\n",
        "print('A string with single quotes.')"
      ]
    },
    {
      "cell_type": "code",
      "source": [
        "\"That's a string\"\n",
        "'here is a diffrent string'"
      ],
      "metadata": {
        "colab": {
          "base_uri": "https://localhost:8080/",
          "height": 35
        },
        "id": "8rqH1wTlAGY3",
        "outputId": "01270752-6f33-4792-e8b5-60d415311197"
      },
      "execution_count": null,
      "outputs": [
        {
          "output_type": "execute_result",
          "data": {
            "text/plain": [
              "'here is a diffrent string'"
            ],
            "application/vnd.google.colaboratory.intrinsic+json": {
              "type": "string"
            }
          },
          "metadata": {},
          "execution_count": 46
        }
      ]
    },
    {
      "cell_type": "markdown",
      "metadata": {
        "id": "liAc8o259jrC"
      },
      "source": [
        "Having two possible quotation signs allows for having strings with quotes inside:"
      ]
    },
    {
      "cell_type": "code",
      "execution_count": null,
      "metadata": {
        "id": "B9HZT5E99jrC",
        "colab": {
          "base_uri": "https://localhost:8080/"
        },
        "outputId": "01428270-8629-409a-818d-9c74a0ac5c92"
      },
      "outputs": [
        {
          "output_type": "stream",
          "name": "stdout",
          "text": [
            "The name of our school is 'WBS CODING SCHOOL', which can be abbreviated to 'WBSCS'.\n",
            "The name of our school is \"WBS CODING SCHOOL\", which can be abbreviated to \"WBSCS\".\n"
          ]
        }
      ],
      "source": [
        "print(\"The name of our school is 'WBS CODING SCHOOL', which can be abbreviated to 'WBSCS'.\")\n",
        "\n",
        "print('The name of our school is \"WBS CODING SCHOOL\", which can be abbreviated to \"WBSCS\".')"
      ]
    },
    {
      "cell_type": "markdown",
      "metadata": {
        "id": "tGDtyD1S9jrC"
      },
      "source": [
        "If you need to create a multiple-line string, you can use triple quotes:"
      ]
    },
    {
      "cell_type": "code",
      "execution_count": null,
      "metadata": {
        "id": "OggB9_6q9jrC",
        "colab": {
          "base_uri": "https://localhost:8080/"
        },
        "outputId": "fb508ce4-4f0c-4820-a4eb-29b8fe8bacc9"
      },
      "outputs": [
        {
          "output_type": "stream",
          "name": "stdout",
          "text": [
            "Hold fast to dreams\n",
            "For if dreams die\n",
            "Life is a broken-winged bird\n",
            "That cannot fly.\n",
            "Hold fast to dreams\n",
            "For when dreams go\n",
            "Life is a barren field\n",
            "Frozen with snow.\n"
          ]
        }
      ],
      "source": [
        "poem = \"\"\"Hold fast to dreams\n",
        "For if dreams die\n",
        "Life is a broken-winged bird\n",
        "That cannot fly.\n",
        "Hold fast to dreams\n",
        "For when dreams go\n",
        "Life is a barren field\n",
        "Frozen with snow.\"\"\"\n",
        "\n",
        "print(poem)"
      ]
    },
    {
      "cell_type": "markdown",
      "metadata": {
        "id": "XMDVSzhl9jrC"
      },
      "source": [
        "You can create a string out of another data type with `str()`:"
      ]
    },
    {
      "cell_type": "code",
      "execution_count": null,
      "metadata": {
        "id": "Egjiy0FX9jrC",
        "colab": {
          "base_uri": "https://localhost:8080/"
        },
        "outputId": "33a7690d-aa91-4618-e454-ac0fb3449992"
      },
      "outputs": [
        {
          "output_type": "stream",
          "name": "stdout",
          "text": [
            "88\n"
          ]
        }
      ],
      "source": [
        "# https://www.w3schools.com/python/ref_func_str.asp\n",
        "\n",
        "str_88 = str(88)\n",
        "print(str_88)"
      ]
    },
    {
      "cell_type": "code",
      "execution_count": null,
      "metadata": {
        "id": "sII6zfHc9jrC",
        "colab": {
          "base_uri": "https://localhost:8080/"
        },
        "outputId": "59317a3c-62ef-463a-9368-1620c8852b09"
      },
      "outputs": [
        {
          "output_type": "execute_result",
          "data": {
            "text/plain": [
              "str"
            ]
          },
          "metadata": {},
          "execution_count": 42
        }
      ],
      "source": [
        "type(str_88)"
      ]
    },
    {
      "cell_type": "markdown",
      "metadata": {
        "id": "YncConBM9jrC"
      },
      "source": [
        "Some characters in python can have a special meaning.\n",
        "By using a backslash `\\` preceding a character, we \"escape\" its usual meaning and give a special meaning to it.\n",
        "\n",
        "For example, `\\n` will add a new line, and `\\t` will add a tab."
      ]
    },
    {
      "cell_type": "code",
      "execution_count": null,
      "metadata": {
        "id": "goss37jh9jrC",
        "colab": {
          "base_uri": "https://localhost:8080/"
        },
        "outputId": "608925d4-0805-46ce-bc98-610945094dc6"
      },
      "outputs": [
        {
          "output_type": "stream",
          "name": "stdout",
          "text": [
            "This is the first line.\n",
            "And this is the second one.\n"
          ]
        }
      ],
      "source": [
        "print(\"This is the first line.\\nAnd this is the second one.\")"
      ]
    },
    {
      "cell_type": "code",
      "execution_count": null,
      "metadata": {
        "id": "pITgLZAt9jrC",
        "colab": {
          "base_uri": "https://localhost:8080/"
        },
        "outputId": "d507e4e5-9609-49de-b787-2b41a0d7bf96"
      },
      "outputs": [
        {
          "output_type": "stream",
          "name": "stdout",
          "text": [
            "Before the tab.\n",
            "\tAnd after the tab.\n"
          ]
        }
      ],
      "source": [
        "print(\"Before the tab.\")\n",
        "print(\"\\tAnd after the tab.\")"
      ]
    },
    {
      "cell_type": "markdown",
      "metadata": {
        "id": "ecl__5ED9jrD"
      },
      "source": [
        "Similarly, you can escape quotes by using `\\`:"
      ]
    },
    {
      "cell_type": "code",
      "execution_count": null,
      "metadata": {
        "id": "mkBuneqa9jrD",
        "colab": {
          "base_uri": "https://localhost:8080/"
        },
        "outputId": "c1804a03-4088-454e-ca47-1356c17c4caf"
      },
      "outputs": [
        {
          "output_type": "stream",
          "name": "stdout",
          "text": [
            "The world's largest rubber duck was 54'2\" by 67'7\" by 105'.\n"
          ]
        }
      ],
      "source": [
        "fact = \"The world's largest rubber duck was 54'2\\\" by 67'7\\\" by 105'.\"\n",
        "print(fact)"
      ]
    },
    {
      "cell_type": "markdown",
      "metadata": {
        "id": "-p906KkV9jrD"
      },
      "source": [
        "If you need to use a backslash inside your string, you type `\\\\`: the first backslash escapes the second one."
      ]
    },
    {
      "cell_type": "code",
      "execution_count": null,
      "metadata": {
        "id": "aAy-Fro69jrE",
        "colab": {
          "base_uri": "https://localhost:8080/"
        },
        "outputId": "9c39dd43-e83b-4cbc-ca23-bfbb869370af"
      },
      "outputs": [
        {
          "output_type": "stream",
          "name": "stdout",
          "text": [
            "Please contemplate a single, one —and only one— backslash: \\.\n"
          ]
        }
      ],
      "source": [
        "print(\"Please contemplate a single, one —and only one— backslash: \\\\.\")"
      ]
    },
    {
      "cell_type": "markdown",
      "metadata": {
        "id": "GTFObd169jrE"
      },
      "source": [
        "By typing `r` before the quotes, we denote a string as a _raw string_, which will ignore any special meaning:"
      ]
    },
    {
      "cell_type": "code",
      "execution_count": null,
      "metadata": {
        "id": "m74jQvn89jrE",
        "colab": {
          "base_uri": "https://localhost:8080/"
        },
        "outputId": "fe79dd67-2752-4798-8f86-97549902a2db"
      },
      "outputs": [
        {
          "output_type": "stream",
          "name": "stdout",
          "text": [
            "This will not create a new line \\n and here, we will see two backslashes \\\\.\n"
          ]
        }
      ],
      "source": [
        "raw_str = r\"This will not create a new line \\n and here, we will see two backslashes \\\\.\"\n",
        "print(raw_str)"
      ]
    },
    {
      "cell_type": "markdown",
      "metadata": {
        "id": "gdXLE6kg9jrF"
      },
      "source": [
        "You can combine strings using `+` and multiply them with `*`:"
      ]
    },
    {
      "cell_type": "code",
      "execution_count": null,
      "metadata": {
        "id": "60DFFaI29jrF",
        "colab": {
          "base_uri": "https://localhost:8080/"
        },
        "outputId": "80bd50b2-7c57-43ce-d4c4-3787a96ae0af"
      },
      "outputs": [
        {
          "output_type": "stream",
          "name": "stdout",
          "text": [
            "Data Science\n"
          ]
        }
      ],
      "source": [
        "print(\"Data\" +\" \"+ \"Science\")"
      ]
    },
    {
      "cell_type": "code",
      "execution_count": null,
      "metadata": {
        "id": "Lc2l7DWQ9jrF",
        "colab": {
          "base_uri": "https://localhost:8080/"
        },
        "outputId": "887ddf7d-73b5-45b2-e6ca-2622abdbb739"
      },
      "outputs": [
        {
          "output_type": "stream",
          "name": "stdout",
          "text": [
            "DataDataDataDataDataDataDataDataDataData\n"
          ]
        }
      ],
      "source": [
        "print(\"Data\"*10)"
      ]
    },
    {
      "cell_type": "markdown",
      "metadata": {
        "id": "E6X3R-Qu9jrF"
      },
      "source": [
        "Using `[]` you can grab certain characters from a string by specifying their position\n",
        "- We use positive numbers to start counting from the begining of a string. The 1st letter is position `[0]`\n",
        "- We use negative numbers to start counting from the end of a string. The last letter is position `[-1]`"
      ]
    },
    {
      "cell_type": "code",
      "execution_count": null,
      "metadata": {
        "id": "kugvoRh59jrF",
        "colab": {
          "base_uri": "https://localhost:8080/",
          "height": 35
        },
        "outputId": "c03281f8-94d6-4e5d-dfa1-44b1a850fbf0"
      },
      "outputs": [
        {
          "output_type": "execute_result",
          "data": {
            "text/plain": [
              "'a'"
            ],
            "application/vnd.google.colaboratory.intrinsic+json": {
              "type": "string"
            }
          },
          "metadata": {},
          "execution_count": 50
        }
      ],
      "source": [
        "letters = \"abcdefghijklmnopqrstuvwxyz\"\n",
        "\n",
        "letters[0]"
      ]
    },
    {
      "cell_type": "code",
      "execution_count": null,
      "metadata": {
        "id": "PhVVHG5O9jrF",
        "colab": {
          "base_uri": "https://localhost:8080/",
          "height": 35
        },
        "outputId": "582b6b46-e27c-4dcc-99e4-ceadc3c1849f"
      },
      "outputs": [
        {
          "output_type": "execute_result",
          "data": {
            "text/plain": [
              "'c'"
            ],
            "application/vnd.google.colaboratory.intrinsic+json": {
              "type": "string"
            }
          },
          "metadata": {},
          "execution_count": 51
        }
      ],
      "source": [
        "letters[2]"
      ]
    },
    {
      "cell_type": "code",
      "execution_count": null,
      "metadata": {
        "id": "_GUQzusO9jrF",
        "colab": {
          "base_uri": "https://localhost:8080/",
          "height": 35
        },
        "outputId": "266eb0d0-0795-49ed-a29f-803ec9e8c8b5"
      },
      "outputs": [
        {
          "output_type": "execute_result",
          "data": {
            "text/plain": [
              "'z'"
            ],
            "application/vnd.google.colaboratory.intrinsic+json": {
              "type": "string"
            }
          },
          "metadata": {},
          "execution_count": 52
        }
      ],
      "source": [
        "letters[-1]"
      ]
    },
    {
      "cell_type": "code",
      "execution_count": null,
      "metadata": {
        "id": "V5_KTTMm9jrF",
        "colab": {
          "base_uri": "https://localhost:8080/",
          "height": 35
        },
        "outputId": "a9103da0-d68a-4b0b-af36-1f3cab98c6e9"
      },
      "outputs": [
        {
          "output_type": "execute_result",
          "data": {
            "text/plain": [
              "'w'"
            ],
            "application/vnd.google.colaboratory.intrinsic+json": {
              "type": "string"
            }
          },
          "metadata": {},
          "execution_count": 53
        }
      ],
      "source": [
        "letters [-4]"
      ]
    },
    {
      "cell_type": "markdown",
      "metadata": {
        "id": "XaVoo-1O9jrF"
      },
      "source": [
        "You can _slice_ a string using `[start:end]`. Note that the start is inclusive, but the end is not:"
      ]
    },
    {
      "cell_type": "code",
      "execution_count": null,
      "metadata": {
        "id": "oZe67mOX9jrF",
        "colab": {
          "base_uri": "https://localhost:8080/",
          "height": 35
        },
        "outputId": "54969336-a094-4a1a-c784-f023670a4972"
      },
      "outputs": [
        {
          "output_type": "execute_result",
          "data": {
            "text/plain": [
              "'bcde'"
            ],
            "application/vnd.google.colaboratory.intrinsic+json": {
              "type": "string"
            }
          },
          "metadata": {},
          "execution_count": 54
        }
      ],
      "source": [
        "letters[1:5]"
      ]
    },
    {
      "cell_type": "markdown",
      "metadata": {
        "id": "V3z2_t-L9jrG"
      },
      "source": [
        "If you don't specify the start, the slice will start at the beginning of the string. The same goes for the end."
      ]
    },
    {
      "cell_type": "code",
      "execution_count": null,
      "metadata": {
        "id": "aG7gvGat9jrG",
        "colab": {
          "base_uri": "https://localhost:8080/",
          "height": 35
        },
        "outputId": "54ebc27b-5d51-4ab9-eaf0-8fe9f2b715be"
      },
      "outputs": [
        {
          "output_type": "execute_result",
          "data": {
            "text/plain": [
              "'abcd'"
            ],
            "application/vnd.google.colaboratory.intrinsic+json": {
              "type": "string"
            }
          },
          "metadata": {},
          "execution_count": 55
        }
      ],
      "source": [
        "letters[:4]"
      ]
    },
    {
      "cell_type": "code",
      "execution_count": null,
      "metadata": {
        "id": "byxy0Fxu9jrG",
        "colab": {
          "base_uri": "https://localhost:8080/",
          "height": 35
        },
        "outputId": "7a1f036a-8785-403d-bc02-02d08e5f7593"
      },
      "outputs": [
        {
          "output_type": "execute_result",
          "data": {
            "text/plain": [
              "'efghijklmnopqrstuvwxyz'"
            ],
            "application/vnd.google.colaboratory.intrinsic+json": {
              "type": "string"
            }
          },
          "metadata": {},
          "execution_count": 56
        }
      ],
      "source": [
        "letters[4:]"
      ]
    },
    {
      "cell_type": "markdown",
      "metadata": {
        "id": "boj3LTz89jrG"
      },
      "source": [
        "Counting how many characters there are in a string can be done with `len()`."
      ]
    },
    {
      "cell_type": "code",
      "execution_count": null,
      "metadata": {
        "id": "ls59e3gu9jrG",
        "colab": {
          "base_uri": "https://localhost:8080/"
        },
        "outputId": "6dc42d49-874b-4fb6-945d-97b2cd186a07"
      },
      "outputs": [
        {
          "output_type": "execute_result",
          "data": {
            "text/plain": [
              "26"
            ]
          },
          "metadata": {},
          "execution_count": 57
        }
      ],
      "source": [
        "# https://www.w3schools.com/python/ref_func_len.asp\n",
        "\n",
        "len(letters)"
      ]
    },
    {
      "cell_type": "code",
      "source": [
        "len(\"piece of string\")"
      ],
      "metadata": {
        "colab": {
          "base_uri": "https://localhost:8080/"
        },
        "id": "-z9sxaHZE3Zt",
        "outputId": "2e6f84b2-6118-4a00-ad84-ff970b24511f"
      },
      "execution_count": null,
      "outputs": [
        {
          "output_type": "execute_result",
          "data": {
            "text/plain": [
              "15"
            ]
          },
          "metadata": {},
          "execution_count": 58
        }
      ]
    },
    {
      "cell_type": "markdown",
      "metadata": {
        "id": "7WyQW4Ig9jrG"
      },
      "source": [
        "The `split` function lets you break a string into smaller strings. The split occurs every time a certain character appears in the string, such as a comma or full stop."
      ]
    },
    {
      "cell_type": "code",
      "execution_count": null,
      "metadata": {
        "id": "uQ1bJH_z9jrG"
      },
      "outputs": [],
      "source": [
        "jobs = \"Data Scientist, Data Analyst, Data Engineer, Business Analyst, Marketing Analyst, Analytics Consultant\""
      ]
    },
    {
      "cell_type": "code",
      "execution_count": null,
      "metadata": {
        "id": "XeizyHTZ9jrG",
        "colab": {
          "base_uri": "https://localhost:8080/",
          "height": 35
        },
        "outputId": "11535e69-a981-4ee6-bef4-526e5aceca51"
      },
      "outputs": [
        {
          "output_type": "execute_result",
          "data": {
            "text/plain": [
              "'Data Scientist, Data Analyst, Data Engineer, Business Analyst, Marketing Analyst, Analytics Consultant'"
            ],
            "application/vnd.google.colaboratory.intrinsic+json": {
              "type": "string"
            }
          },
          "metadata": {},
          "execution_count": 60
        }
      ],
      "source": [
        "jobs"
      ]
    },
    {
      "cell_type": "code",
      "execution_count": null,
      "metadata": {
        "id": "MGMy9Lvs9jrG",
        "colab": {
          "base_uri": "https://localhost:8080/"
        },
        "outputId": "184e6bd9-c469-496c-b683-ed95c7efff27"
      },
      "outputs": [
        {
          "output_type": "execute_result",
          "data": {
            "text/plain": [
              "['Data Scientist',\n",
              " ' Data Analyst',\n",
              " ' Data Engineer',\n",
              " ' Business Analyst',\n",
              " ' Marketing Analyst',\n",
              " ' Analytics Consultant']"
            ]
          },
          "metadata": {},
          "execution_count": 61
        }
      ],
      "source": [
        "# https://www.w3schools.com/python/ref_string_split.asp\n",
        "\n",
        "jobs.split(\",\")"
      ]
    },
    {
      "cell_type": "markdown",
      "metadata": {
        "id": "jTkK-9YB9jrG"
      },
      "source": [
        "You can substitute a character using `replace()`:"
      ]
    },
    {
      "cell_type": "code",
      "execution_count": null,
      "metadata": {
        "id": "EfRAH1DQ9jrG",
        "colab": {
          "base_uri": "https://localhost:8080/",
          "height": 35
        },
        "outputId": "06e0c444-87b2-4308-8282-6c71a4f30825"
      },
      "outputs": [
        {
          "output_type": "execute_result",
          "data": {
            "text/plain": [
              "'Duck Scientist, Duck Analyst, Duck Engineer, Business Analyst, Marketing Analyst, Analytics Consultant'"
            ],
            "application/vnd.google.colaboratory.intrinsic+json": {
              "type": "string"
            }
          },
          "metadata": {},
          "execution_count": 62
        }
      ],
      "source": [
        "# https://www.w3schools.com/python/ref_string_replace.asp\n",
        "\n",
        "jobs.replace(\"Data\", \"Duck\")"
      ]
    },
    {
      "cell_type": "markdown",
      "metadata": {
        "id": "8kcFyXzW9jrG"
      },
      "source": [
        "You can specify how many times you want to make that replacement."
      ]
    },
    {
      "cell_type": "code",
      "execution_count": null,
      "metadata": {
        "id": "UVpKW6vN9jrH",
        "colab": {
          "base_uri": "https://localhost:8080/",
          "height": 35
        },
        "outputId": "8569c230-9ba9-40fb-d94d-e9cfa54ed1d3"
      },
      "outputs": [
        {
          "output_type": "execute_result",
          "data": {
            "text/plain": [
              "'Duck Scientist, Duck Analyst, Data Engineer, Business Analyst, Marketing Analyst, Analytics Consultant'"
            ],
            "application/vnd.google.colaboratory.intrinsic+json": {
              "type": "string"
            }
          },
          "metadata": {},
          "execution_count": 63
        }
      ],
      "source": [
        "jobs.replace(\"Data\", \"Duck\", 2)"
      ]
    },
    {
      "cell_type": "markdown",
      "metadata": {
        "id": "eOoL1zpB9jrH"
      },
      "source": [
        "A very common process in data cleaning is to remove preceding and trailing spaces from strings. The function `strip()` does exactly that."
      ]
    },
    {
      "cell_type": "code",
      "execution_count": null,
      "metadata": {
        "id": "hk0Udvyn9jrH",
        "colab": {
          "base_uri": "https://localhost:8080/"
        },
        "outputId": "cf9a7dab-2ffc-4f09-b999-9f02388a511d"
      },
      "outputs": [
        {
          "output_type": "stream",
          "name": "stdout",
          "text": [
            "                     wow                     \n"
          ]
        }
      ],
      "source": [
        "wow = \"                     wow                     \"\n",
        "print(wow)"
      ]
    },
    {
      "cell_type": "code",
      "execution_count": null,
      "metadata": {
        "id": "mZWhXNBD9jrH",
        "colab": {
          "base_uri": "https://localhost:8080/",
          "height": 35
        },
        "outputId": "363d0168-b98b-437f-dac6-f2f07b1ec0f6"
      },
      "outputs": [
        {
          "output_type": "execute_result",
          "data": {
            "text/plain": [
              "'wow'"
            ],
            "application/vnd.google.colaboratory.intrinsic+json": {
              "type": "string"
            }
          },
          "metadata": {},
          "execution_count": 65
        }
      ],
      "source": [
        "# https://www.w3schools.com/python/ref_string_strip.asp\n",
        "\n",
        "wow.strip()"
      ]
    },
    {
      "cell_type": "markdown",
      "metadata": {
        "id": "O8qkC9Ug9jrH"
      },
      "source": [
        "There are many more string methods in Python. Browse through them here: https://www.w3schools.com/python/python_ref_string.asp\n",
        "\n",
        "About 99.9% of the time, coding does not mean memorizing functions and knowing them by heart. Instead coding is about being quick in finding the function you need, discovering how to use them, reading the documentation, or simply adapting coding examples from the internet to meet your needs.\n",
        "\n",
        "In the exercises below, you will have to use several Python string methods, in combination with what you have learned here. Use the link from _w3schools_ or google around to complete them."
      ]
    },
    {
      "cell_type": "markdown",
      "metadata": {
        "id": "iYebLIcM9jrH"
      },
      "source": [
        "##### **Exercise 8:**\n",
        "Create a Python string with the following text, and assign it to the variable `data_science`:\n",
        "\n",
        "```text\n",
        "Data science is an interdisciplinary field that uses scientific methods, processes, algorithms and systems to extract knowledge and insights from noisy, structured and unstructured data, and apply knowledge and actionable insights from data across a broad range of application domains.\n",
        "\n",
        "Data science is related to data mining, machine learning and big data. Data science is a \"concept to unify statistics, data analysis, informatics, and their related methods\" in order to \"understand and analyze actual phenomena\" with data. It uses techniques and theories drawn from many fields within the context of mathematics, statistics, computer science, information science, and domain knowledge. However, data science is different from computer science and information science. Turing Award winner Jim Gray imagined data science as a \"fourth paradigm\" of science (empirical, theoretical, computational, and now data-driven) and asserted that \"everything about science is changing because of the impact of information technology\" and the data deluge.\n",
        "````"
      ]
    },
    {
      "cell_type": "code",
      "source": [
        "# Each challenge is a chance for your code to shine.\n",
        "data_science = '''Data science is an interdisciplinary field that uses scientific methods, processes, algorithms and systems to extract knowledge and insights from noisy, structured and unstructured data, and apply knowledge and actionable insights from data across a broad range of application domains.\n",
        "\n",
        "Data science is related to data mining, machine learning and big data. Data science is a \"concept to unify statistics, data analysis, informatics, and their related methods\" in order to \"understand and analyze actual phenomena\" with data. It uses techniques and theories drawn from many fields within the context of mathematics, statistics, computer science, information science, and domain knowledge. However, data science is different from computer science and information science. Turing Award winner Jim Gray imagined data science as a \"fourth paradigm\" of science (empirical, theoretical, computational, and now data-driven) and asserted that \"everything about science is changing because of the impact of information technology\" and the data deluge.'''\n",
        "print(data_science)"
      ],
      "metadata": {
        "id": "5dHR_YwjRTpZ",
        "colab": {
          "base_uri": "https://localhost:8080/"
        },
        "outputId": "ab7f6f01-8702-4f1a-940f-19feab30bd6b"
      },
      "execution_count": null,
      "outputs": [
        {
          "output_type": "stream",
          "name": "stdout",
          "text": [
            "Data science is an interdisciplinary field that uses scientific methods, processes, algorithms and systems to extract knowledge and insights from noisy, structured and unstructured data, and apply knowledge and actionable insights from data across a broad range of application domains.\n",
            "\n",
            "Data science is related to data mining, machine learning and big data. Data science is a \"concept to unify statistics, data analysis, informatics, and their related methods\" in order to \"understand and analyze actual phenomena\" with data. It uses techniques and theories drawn from many fields within the context of mathematics, statistics, computer science, information science, and domain knowledge. However, data science is different from computer science and information science. Turing Award winner Jim Gray imagined data science as a \"fourth paradigm\" of science (empirical, theoretical, computational, and now data-driven) and asserted that \"everything about science is changing because of the impact of information technology\" and the data deluge.\n"
          ]
        }
      ]
    },
    {
      "cell_type": "markdown",
      "metadata": {
        "id": "sudPX7lX2lVy"
      },
      "source": [
        "###### **Hint**\n",
        "\n"
      ]
    },
    {
      "cell_type": "code",
      "execution_count": null,
      "metadata": {
        "id": "M4ekh-5x2lVz"
      },
      "outputs": [],
      "source": [
        "# data_science = '''_____'''"
      ]
    },
    {
      "cell_type": "markdown",
      "metadata": {
        "id": "g8DIfhZ_9jrH"
      },
      "source": [
        "##### **Exercise 9:**\n",
        "How many characters are there in `data_science`?"
      ]
    },
    {
      "cell_type": "code",
      "source": [
        "# Show your skills!\n",
        "len(data_science)"
      ],
      "metadata": {
        "id": "7spv2-35zur1",
        "colab": {
          "base_uri": "https://localhost:8080/"
        },
        "outputId": "9cbca048-1990-4de9-977e-60d959306265"
      },
      "execution_count": null,
      "outputs": [
        {
          "output_type": "execute_result",
          "data": {
            "text/plain": [
              "1042"
            ]
          },
          "metadata": {},
          "execution_count": 49
        }
      ]
    },
    {
      "cell_type": "markdown",
      "metadata": {
        "id": "3HgxHRd62-Pz"
      },
      "source": [
        "###### **Hint**\n",
        "\n"
      ]
    },
    {
      "cell_type": "code",
      "execution_count": null,
      "metadata": {
        "id": "0mSxvgDG2-P2"
      },
      "outputs": [],
      "source": [
        "# _____(data_science)"
      ]
    },
    {
      "cell_type": "markdown",
      "metadata": {
        "id": "cnXae6C19jrI"
      },
      "source": [
        "##### **Exercise 10:**\n",
        "Convert all of the `data_science` characters to lower case and save it to a variable called `data_science_lower`."
      ]
    },
    {
      "cell_type": "code",
      "execution_count": null,
      "metadata": {
        "id": "VsUPsobG9jrI",
        "colab": {
          "base_uri": "https://localhost:8080/"
        },
        "outputId": "11363a5b-c26f-4389-8381-6a9f6d7d00cb"
      },
      "outputs": [
        {
          "output_type": "stream",
          "name": "stdout",
          "text": [
            "data science is an interdisciplinary field that uses scientific methods, processes, algorithms and systems to extract knowledge and insights from noisy, structured and unstructured data, and apply knowledge and actionable insights from data across a broad range of application domains.\n",
            "\n",
            "data science is related to data mining, machine learning and big data. data science is a \"concept to unify statistics, data analysis, informatics, and their related methods\" in order to \"understand and analyze actual phenomena\" with data. it uses techniques and theories drawn from many fields within the context of mathematics, statistics, computer science, information science, and domain knowledge. however, data science is different from computer science and information science. turing award winner jim gray imagined data science as a \"fourth paradigm\" of science (empirical, theoretical, computational, and now data-driven) and asserted that \"everything about science is changing because of the impact of information technology\" and the data deluge.\n"
          ]
        }
      ],
      "source": [
        "# You've got this!\n",
        "data_science_lower = data_science.lower()\n",
        "print(data_science_lower)"
      ]
    },
    {
      "cell_type": "markdown",
      "metadata": {
        "id": "6TzzIfs_3PF6"
      },
      "source": [
        "###### **Hint**\n",
        "\n"
      ]
    },
    {
      "cell_type": "code",
      "execution_count": null,
      "metadata": {
        "id": "UAQ_6EDi3PF7"
      },
      "outputs": [],
      "source": [
        "# https://www.w3schools.com/python/ref_string_lower.asp\n",
        "\n",
        "# _____ = data_science._____()"
      ]
    },
    {
      "cell_type": "markdown",
      "metadata": {
        "id": "M2ig3CBO9jrI"
      },
      "source": [
        "##### **Exercise 11:**\n",
        "How many times does the word \"data\" appear in the string you converted to lower case?"
      ]
    },
    {
      "cell_type": "code",
      "execution_count": null,
      "metadata": {
        "id": "d3xnrIw69jrJ",
        "colab": {
          "base_uri": "https://localhost:8080/"
        },
        "outputId": "afc51014-9e9b-41b5-d28d-04709fa7ea2e"
      },
      "outputs": [
        {
          "output_type": "execute_result",
          "data": {
            "text/plain": [
              "13"
            ]
          },
          "metadata": {},
          "execution_count": 77
        }
      ],
      "source": [
        "# Don't be afraid to be wrong!\n",
        "data_science_lower.count(\"data\")"
      ]
    },
    {
      "cell_type": "markdown",
      "metadata": {
        "id": "p8qzKZPc31lH"
      },
      "source": [
        "###### **Hint**\n",
        "\n"
      ]
    },
    {
      "cell_type": "code",
      "execution_count": null,
      "metadata": {
        "id": "bvlNhKML31lI"
      },
      "outputs": [],
      "source": [
        "# https://www.w3schools.com/python/ref_string_count.asp\n",
        "\n",
        "# data_science_lower._____(\"data\")"
      ]
    },
    {
      "cell_type": "markdown",
      "metadata": {
        "id": "sqLnagdM9jrK"
      },
      "source": [
        "##### **Exercise 12:**\n",
        "Split the string into sentences whenever there is a fullstop (`.`)."
      ]
    },
    {
      "cell_type": "code",
      "execution_count": null,
      "metadata": {
        "id": "IiV2QyrT9jrK",
        "colab": {
          "base_uri": "https://localhost:8080/"
        },
        "outputId": "924cf692-ddef-4126-87fb-061f6ec4c96b"
      },
      "outputs": [
        {
          "output_type": "execute_result",
          "data": {
            "text/plain": [
              "['data science is an interdisciplinary field that uses scientific methods, processes, algorithms and systems to extract knowledge and insights from noisy, structured and unstructured data, and apply knowledge and actionable insights from data across a broad range of application domains.\\n\\ndata science is related to data mining, machine learning and big data',\n",
              " 'data science is a \"concept to unify statistics, data analysis, informatics, and their related methods\" in order to \"understand and analyze actual phenomena\" with data',\n",
              " 'it uses techniques and theories drawn from many fields within the context of mathematics, statistics, computer science, information science, and domain knowledge',\n",
              " 'however, data science is different from computer science and information science',\n",
              " 'turing award winner jim gray imagined data science as a \"fourth paradigm\" of science (empirical, theoretical, computational, and now data-driven) and asserted that \"everything about science is changing because of the impact of information technology\" and the data deluge.']"
            ]
          },
          "metadata": {},
          "execution_count": 57
        }
      ],
      "source": [
        "# Stay curious and keep coding\n",
        "data_science_lower.split(\". \")"
      ]
    },
    {
      "cell_type": "markdown",
      "metadata": {
        "id": "hrHy6yZs4HXq"
      },
      "source": [
        "###### **Hint**\n",
        "\n"
      ]
    },
    {
      "cell_type": "code",
      "execution_count": null,
      "metadata": {
        "id": "KetTTKlY4HXr"
      },
      "outputs": [],
      "source": [
        "# https://www.w3schools.com/python/ref_string_split.asp\n",
        "# https://www.w3schools.com/python/ref_string_rsplit.asp\n",
        "\n",
        "# data_science._____(\". \")"
      ]
    },
    {
      "cell_type": "markdown",
      "metadata": {
        "id": "EesNFTTO9jrK"
      },
      "source": [
        "##### **Exercise 13:**\n",
        "Capitalise the first letter of every word in the string and save it to the variable `data_science_capital`."
      ]
    },
    {
      "cell_type": "code",
      "execution_count": null,
      "metadata": {
        "id": "kpZGn0NK9jrK",
        "colab": {
          "base_uri": "https://localhost:8080/"
        },
        "outputId": "d14d2615-9bd0-45cb-fbce-628886a9f19e"
      },
      "outputs": [
        {
          "output_type": "stream",
          "name": "stdout",
          "text": [
            "Data Science Is An Interdisciplinary Field That Uses Scientific Methods, Processes, Algorithms And Systems To Extract Knowledge And Insights From Noisy, Structured And Unstructured Data, And Apply Knowledge And Actionable Insights From Data Across A Broad Range Of Application Domains.\n",
            "\n",
            "Data Science Is Related To Data Mining, Machine Learning And Big Data. Data Science Is A \"Concept To Unify Statistics, Data Analysis, Informatics, And Their Related Methods\" In Order To \"Understand And Analyze Actual Phenomena\" With Data. It Uses Techniques And Theories Drawn From Many Fields Within The Context Of Mathematics, Statistics, Computer Science, Information Science, And Domain Knowledge. However, Data Science Is Different From Computer Science And Information Science. Turing Award Winner Jim Gray Imagined Data Science As A \"Fourth Paradigm\" Of Science (Empirical, Theoretical, Computational, And Now Data-Driven) And Asserted That \"Everything About Science Is Changing Because Of The Impact Of Information Technology\" And The Data Deluge.\n"
          ]
        }
      ],
      "source": [
        "# You're on the right track; keep coding and stay determined.\n",
        "data_science_capital = data_science_lower.title()\n",
        "print(data_science_capital)"
      ]
    },
    {
      "cell_type": "markdown",
      "metadata": {
        "id": "u7_L5I8q5B8S"
      },
      "source": [
        "###### **Hint**\n",
        "\n"
      ]
    },
    {
      "cell_type": "code",
      "execution_count": null,
      "metadata": {
        "id": "ZXUq7q3X5B8T"
      },
      "outputs": [],
      "source": [
        "# https://www.w3schools.com/python/ref_string_title.asp\n",
        "\n",
        "# data_science_capital = data._____()"
      ]
    },
    {
      "cell_type": "markdown",
      "metadata": {
        "id": "1uTXO2NB9jrK"
      },
      "source": [
        "##### **Exercise 14:**\n",
        "Find the index of the word \"Turing\" in the string and save it to the variable `index`."
      ]
    },
    {
      "cell_type": "code",
      "execution_count": null,
      "metadata": {
        "id": "HuV6OUsQ9jrK",
        "colab": {
          "base_uri": "https://localhost:8080/"
        },
        "outputId": "56bb6113-df30-4279-a2b7-d0ebac9ddfe4"
      },
      "outputs": [
        {
          "output_type": "execute_result",
          "data": {
            "text/plain": [
              "771"
            ]
          },
          "metadata": {},
          "execution_count": 78
        }
      ],
      "source": [
        "# With every line of code, you're making progress.\n",
        "index = data_science_capital.find(\"Turing\")\n",
        "index"
      ]
    },
    {
      "cell_type": "markdown",
      "metadata": {
        "id": "W_l5JPj45DKz"
      },
      "source": [
        "###### **Hint**\n",
        "\n"
      ]
    },
    {
      "cell_type": "code",
      "execution_count": null,
      "metadata": {
        "id": "thlTwd7p5DKz"
      },
      "outputs": [],
      "source": [
        "# https://www.w3schools.com/python/ref_string_index.asp\n",
        "\n",
        "# index = data_science._____(\"_____\")"
      ]
    },
    {
      "cell_type": "markdown",
      "metadata": {
        "id": "qqMvu4G19jrL"
      },
      "source": [
        "##### **Exercise 15:**\n",
        "In the string `data_science`, replace the name \"Jim Gray\" with the variable `jim`. Save the changed string in the variable `new_data_science`"
      ]
    },
    {
      "cell_type": "code",
      "source": [
        "jim = \"James Nicholas Gray\""
      ],
      "metadata": {
        "id": "PsFsCrUibD9R"
      },
      "execution_count": null,
      "outputs": []
    },
    {
      "cell_type": "code",
      "execution_count": null,
      "metadata": {
        "id": "jbveObbY9jrL",
        "tags": [],
        "colab": {
          "base_uri": "https://localhost:8080/"
        },
        "outputId": "6ce334cd-5aeb-43aa-c60a-8f7ab706f691"
      },
      "outputs": [
        {
          "output_type": "stream",
          "name": "stdout",
          "text": [
            "Data science is an interdisciplinary field that uses scientific methods, processes, algorithms and systems to extract knowledge and insights from noisy, structured and unstructured data, and apply knowledge and actionable insights from data across a broad range of application domains.\n",
            "\n",
            "Data science is related to data mining, machine learning and big data. Data science is a \"concept to unify statistics, data analysis, informatics, and their related methods\" in order to \"understand and analyze actual phenomena\" with data. It uses techniques and theories drawn from many fields within the context of mathematics, statistics, computer science, information science, and domain knowledge. However, data science is different from computer science and information science. Turing Award winner jim imagined data science as a \"fourth paradigm\" of science (empirical, theoretical, computational, and now data-driven) and asserted that \"everything about science is changing because of the impact of information technology\" and the data deluge.\n"
          ]
        }
      ],
      "source": [
        "from os import replace\n",
        "# It's okay to make mistakes!\n",
        "new_data_science = data_science.replace(\"Jim Gray\", \"jim\")\n",
        "print(new_data_science)"
      ]
    },
    {
      "cell_type": "markdown",
      "metadata": {
        "id": "WzR0HQbB5FmK"
      },
      "source": [
        "###### **Hint**\n",
        "\n"
      ]
    },
    {
      "cell_type": "code",
      "execution_count": null,
      "metadata": {
        "id": "HBlAeR8S5FmK"
      },
      "outputs": [],
      "source": [
        "# new_data_science = data_science._____(\"Jim Gray\",_____)"
      ]
    },
    {
      "cell_type": "markdown",
      "metadata": {
        "id": "QY5ao8e09jrK"
      },
      "source": [
        "## Formatting with f-strings\n",
        "\n",
        "Strings can be concatenated with `+`. Sometimes, you need to [interpolate](https://en.wikipedia.org/wiki/String_interpolation) values into strings.\n",
        "\n",
        "Say, you work for a logistics company and have a script that calculates the number of trucks that should be made ready for the next day. You want this number to be included in the sentence of an email: `\"For tomorrow, we will need x trucks.\"` But replacing x with the number of trucks, which will vary each day.\n",
        "\n",
        "This task is known as formatting strings. It can be confusing to learn this by just browsing the internet because there are many ways to format strings in Python: the old one (using `%`), the new one (using `{}`and `format()`) and the newest one (using `f-strings`).\n",
        "\n",
        "We will only show you how to use f-strings, but be ready to stumble on the other ones at any time!"
      ]
    },
    {
      "cell_type": "code",
      "execution_count": null,
      "metadata": {
        "id": "uUtDC4nG9jrK",
        "colab": {
          "base_uri": "https://localhost:8080/"
        },
        "outputId": "8096e89b-06cf-47a5-8a5d-13f1eff703ea"
      },
      "outputs": [
        {
          "output_type": "stream",
          "name": "stdout",
          "text": [
            "For next week, we will need 70 trucks.\n"
          ]
        }
      ],
      "source": [
        "n_trucks = 70\n",
        "date = 'next week'\n",
        "\n",
        "email = f\"For {date}, we will need {n_trucks} trucks.\"\n",
        "\n",
        "print(email)"
      ]
    },
    {
      "cell_type": "markdown",
      "metadata": {
        "id": "wu4jlS659jrK"
      },
      "source": [
        "The curly brackets support expressions like these:"
      ]
    },
    {
      "cell_type": "code",
      "execution_count": null,
      "metadata": {
        "id": "SoWNRe6P9jrK",
        "colab": {
          "base_uri": "https://localhost:8080/"
        },
        "outputId": "37143a18-4c47-4429-8548-d58ad339cd16"
      },
      "outputs": [
        {
          "output_type": "stream",
          "name": "stdout",
          "text": [
            "For tomorrow, we will need 80 trucks in the Main Garage.\n"
          ]
        }
      ],
      "source": [
        "place = \"main garage\"\n",
        "\n",
        "email = f\"For tomorrow, we will need {n_trucks+10} trucks in the {place.title()}.\"\n",
        "\n",
        "print(email)"
      ]
    },
    {
      "cell_type": "markdown",
      "metadata": {
        "id": "QCS6QeqtFYdl"
      },
      "source": [
        "##### **Exercise 16:**\n",
        "Let's write about how the bootcamp fits into your life. Using the variables `age`,`life_seconds` and `bootcamp` defined above, use an *f-string* to write\n",
        "> I am \\_\\_\\_\\_\\_ years old and will spend \\_\\_\\_\\_\\_% of my life taking the WBS Data Science bootcamp."
      ]
    },
    {
      "cell_type": "code",
      "execution_count": null,
      "metadata": {
        "id": "iEHOjYnpFYdl",
        "colab": {
          "base_uri": "https://localhost:8080/",
          "height": 35
        },
        "outputId": "3b0cf25f-5b57-4107-89b0-4df17fc9eabb"
      },
      "outputs": [
        {
          "output_type": "execute_result",
          "data": {
            "text/plain": [
              "'I am 28 years old and will spend 0.0030984996738421394% of my life taking the WBS Data Science bootcamp.'"
            ],
            "application/vnd.google.colaboratory.intrinsic+json": {
              "type": "string"
            }
          },
          "metadata": {},
          "execution_count": 85
        }
      ],
      "source": [
        "# You're doing great!\n",
        "\n",
        "f\"I am {age} years old and will spend {bootcamp/life_seconds}% of my life taking the WBS Data Science bootcamp.\""
      ]
    },
    {
      "cell_type": "markdown",
      "metadata": {
        "tags": [],
        "id": "H-S8xPhhFYdl"
      },
      "source": [
        "###### **Hint**\n",
        "\n"
      ]
    },
    {
      "cell_type": "code",
      "execution_count": null,
      "metadata": {
        "id": "pTSFhd20FYdl"
      },
      "outputs": [],
      "source": [
        "# f'I am {_____} years old and will spend {_____}% of my life taking the WBS Data Science bootcamp:'"
      ]
    }
  ],
  "metadata": {
    "colab": {
      "collapsed_sections": [
        "p6QXKE8ttJ3W",
        "DpEuooYy2DWu",
        "JPQji5wfvOtc",
        "3oVvj2p9vZ2T",
        "sudPX7lX2lVy",
        "3HgxHRd62-Pz",
        "6TzzIfs_3PF6",
        "WzR0HQbB5FmK",
        "H-S8xPhhFYdl"
      ],
      "provenance": [],
      "toc_visible": true
    },
    "kernelspec": {
      "display_name": "Python 3 (ipykernel)",
      "language": "python",
      "name": "python3"
    },
    "language_info": {
      "codemirror_mode": {
        "name": "ipython",
        "version": 3
      },
      "file_extension": ".py",
      "mimetype": "text/x-python",
      "name": "python",
      "nbconvert_exporter": "python",
      "pygments_lexer": "ipython3",
      "version": "3.10.13"
    }
  },
  "nbformat": 4,
  "nbformat_minor": 0
}