{
  "cells": [
    {
      "cell_type": "markdown",
      "metadata": {
        "id": "gPNDAgisILS_"
      },
      "source": [
        "### Exercise 1\n",
        "\n",
        "Ask the user for a number. If that number is less than or equal to 100, ask for a bigger number. Repeat until the user enters a number larger than 100, then print \"Thank you!\""
      ]
    },
    {
      "cell_type": "markdown",
      "metadata": {
        "id": "RpAzXA1G1I8W"
      },
      "source": [
        "##### Plan:"
      ]
    },
    {
      "cell_type": "markdown",
      "metadata": {
        "id": "akBYnmZ3pmAW"
      },
      "source": [
        "*You can write you own steps here!*\n",
        "\n",
        "\n",
        "ask for number\n",
        "number <= 100 ---> ask for bigger number\n",
        "number <= 100 --> ask for bigger number\n",
        "number > 100 --> stops, print thank you"
      ]
    },
    {
      "cell_type": "markdown",
      "metadata": {
        "id": "cfBY4shH9rM4"
      },
      "source": [
        "##### Answer:"
      ]
    },
    {
      "cell_type": "code",
      "execution_count": null,
      "metadata": {
        "colab": {
          "base_uri": "https://localhost:8080/"
        },
        "id": "0eTvYEr62NpI",
        "outputId": "fb23e608-43ad-4811-d76a-6bdbd5c0ccc6"
      },
      "outputs": [
        {
          "name": "stdout",
          "output_type": "stream",
          "text": [
            "Please enter a number 3\n",
            "Please enter a larger number \n",
            "Please enter a number 66\n",
            "Please enter a larger number \n",
            "Please enter a number 33\n",
            "Please enter a larger number \n",
            "Please enter a number 200\n",
            "Thank you\n"
          ]
        }
      ],
      "source": [
        "count = 0\n",
        "while True:\n",
        "  random_number = int(input(\"Please enter a number \"))\n",
        "  if random_number <= 100:\n",
        "   print(\"Please enter a larger number \")\n",
        "  else:\n",
        "    print(\"Thank you\")\n",
        "    break\n",
        "\n"
      ]
    },
    {
      "cell_type": "code",
      "execution_count": null,
      "metadata": {
        "id": "BiORNVTDTy7f"
      },
      "outputs": [],
      "source": [
        "nr = int(input(\"Please enter a number: \"))\n",
        "while True:\n",
        "  if nr > 100:\n",
        "    print(\"Thank you!\")\n",
        "    break\n",
        "  else:\n",
        "    nr= int(input(\"Please enter a greater number \"))"
      ]
    },
    {
      "cell_type": "markdown",
      "metadata": {
        "id": "-wVr8NGrVBO0"
      },
      "source": [
        "##### Suggested plan:"
      ]
    },
    {
      "cell_type": "markdown",
      "metadata": {
        "id": "A8rlAQoxVIuj"
      },
      "source": [
        "1. Ask for user input\n",
        "2. Check if input <= 100\n",
        "3. If yes, ask for bigger number\n",
        "4. Repeat steps 1 through 3 until no\n",
        "5. Print \"Thank you!\""
      ]
    },
    {
      "cell_type": "markdown",
      "metadata": {
        "id": "xdcwCUfTWul0"
      },
      "source": [
        "##### Code hint"
      ]
    },
    {
      "cell_type": "code",
      "execution_count": null,
      "metadata": {
        "id": "DyZ1X2l3W01y"
      },
      "outputs": [],
      "source": [
        "# while _____:\n",
        "#     number = int(input(\"Enter a number: \"))\n",
        "#     if _____ <= 100:\n",
        "#         print(\"Please enter a larger number!\")\n",
        "#     else:\n",
        "#         print(\"Thank you\")\n",
        "#         _____"
      ]
    },
    {
      "cell_type": "markdown",
      "metadata": {
        "id": "sxzf0t41KXXX"
      },
      "source": [
        "### Exercise 2\n",
        "\n",
        "Print the first 10 terms of the Fibonacci sequence. The first two terms are `[0, 1]`, and each subsequent term is the sum of the previous two terms."
      ]
    },
    {
      "cell_type": "markdown",
      "metadata": {
        "id": "2Dl15YK5U2XR"
      },
      "source": [
        "##### Plan:"
      ]
    },
    {
      "cell_type": "markdown",
      "metadata": {
        "id": "DpTjpFUGgo7K"
      },
      "source": [
        "*You can write you own steps here!*\n",
        "\n",
        "\n",
        "\n",
        "\n",
        "*   0 , 1, 1, 2, 3, 5, 8 , 13, 21, 34, 55\n",
        "*   1\n",
        "*   [0] + [1] = 1\n",
        "*   [1] + [2] = 2\n",
        "*   [2] + [3] = 3\n",
        "*   [3] + [4] = 5\n",
        "\n",
        "\n",
        "\n"
      ]
    },
    {
      "cell_type": "markdown",
      "metadata": {
        "id": "Dv7lN02fWb_R"
      },
      "source": [
        "##### Answer:"
      ]
    },
    {
      "cell_type": "code",
      "execution_count": null,
      "metadata": {
        "colab": {
          "base_uri": "https://localhost:8080/"
        },
        "id": "MCGQvcNcoaKQ",
        "outputId": "1ae7eb3e-71d5-4650-e81d-c0acc88088c1"
      },
      "outputs": [
        {
          "name": "stdout",
          "output_type": "stream",
          "text": [
            "[0, 1, 1, 2, 3, 5, 8, 13, 21, 34, 55]\n"
          ]
        }
      ],
      "source": [
        "fibonacci = [0, 1]\n",
        "\n",
        "while len(fibonacci) < 11:\n",
        "  next_number = fibonacci[-1] + fibonacci[-2]\n",
        "  fibonacci.append(next_number)\n",
        "print(fibonacci)"
      ]
    },
    {
      "cell_type": "code",
      "execution_count": null,
      "metadata": {
        "colab": {
          "base_uri": "https://localhost:8080/"
        },
        "id": "ocqCi-XoTtP0",
        "outputId": "197cee08-7bce-4ae3-8367-a34cbc61a2be"
      },
      "outputs": [
        {
          "name": "stdout",
          "output_type": "stream",
          "text": [
            "[0, 1, 1, 2, 3, 5, 8, 13, 21, 34]\n"
          ]
        }
      ],
      "source": [
        "fibonacci = [0, 1]\n",
        "while len(fibonacci) < 10:\n",
        "  new_num = fibonacci[-1] + fibonacci [-2]\n",
        "  fibonacci += [new_num]\n",
        "print(fibonacci)"
      ]
    },
    {
      "cell_type": "markdown",
      "metadata": {
        "id": "Mr82QpsJm2Hj"
      },
      "source": [
        "##### Suggested plan:"
      ]
    },
    {
      "cell_type": "markdown",
      "metadata": {
        "id": "dJwGp7N5m2Hk"
      },
      "source": [
        "1. Create a list `[0, 1]`\n",
        "2. Read the last two numbers of the list\n",
        "3. Add those numbers together\n",
        "4. Add that sum to the list\n",
        "5. Check if the list has 10 items\n",
        "6. If not, repeat steps 2-5\n",
        "7. Print the 10 items in the list"
      ]
    },
    {
      "cell_type": "markdown",
      "metadata": {
        "id": "5rZRqDyam2Hk"
      },
      "source": [
        "##### Code hint"
      ]
    },
    {
      "cell_type": "code",
      "execution_count": null,
      "metadata": {
        "id": "-H0zgCSam2Hk"
      },
      "outputs": [],
      "source": [
        "# fibonacci_list = ____\n",
        "\n",
        "# while ____(fibonacci_list) < ____:\n",
        "#     next_number = fibonacci_list[____] + fibonacci_list[____]\n",
        "#     fibonacci_list._____(next_number)\n",
        "\n",
        "# for ____ in ____:\n",
        "#     print(____)"
      ]
    },
    {
      "cell_type": "markdown",
      "metadata": {
        "id": "wxkz9LRNLtCs"
      },
      "source": [
        "### Exercise 3\n",
        "\n",
        "Ask the user to enter numbers. Once they enter 0, print the sum of all the entered numbers."
      ]
    },
    {
      "cell_type": "markdown",
      "metadata": {
        "id": "Qj0YOcnDXzvu"
      },
      "source": [
        "##### Plan:"
      ]
    },
    {
      "cell_type": "markdown",
      "metadata": {
        "id": "M2wD3stOpW2F"
      },
      "source": [
        "*You can write you own steps here!*\n",
        "\n",
        "\n",
        "- input enter number 1\n",
        "- if number 1 > 0 enter another number\n",
        "- if new number > 0 enter another number\n",
        "- if 0 break\n"
      ]
    },
    {
      "cell_type": "markdown",
      "metadata": {
        "id": "O1eGpqLAYUcH"
      },
      "source": [
        "##### Answer:"
      ]
    },
    {
      "cell_type": "code",
      "execution_count": null,
      "metadata": {
        "colab": {
          "base_uri": "https://localhost:8080/"
        },
        "id": "pzZeKvlNYWse",
        "outputId": "d7069ee6-069b-4247-cf91-9f0174101f27"
      },
      "outputs": [
        {
          "name": "stdout",
          "output_type": "stream",
          "text": [
            "Enter a random number 66\n",
            "Enter a random number 44\n",
            "Enter a random number 6\n",
            "Enter a random number -5\n",
            "116.0\n"
          ]
        }
      ],
      "source": [
        "total = 0\n",
        "while True:\n",
        "  number  = float(input(\"Enter a random number \"))\n",
        "  if number <= 0:\n",
        "    break\n",
        "  total += number\n",
        "print(total)\n",
        "\n",
        "\n",
        "# ____ = 0\n",
        "\n",
        "# while ____:\n",
        "#     num = float(____(\"Enter a number (or 0 to exit): \"))\n",
        "#     if _________:\n",
        "#         break\n",
        "#     else:\n",
        "#         ____ += ____\n",
        "\n",
        "# print(____)"
      ]
    },
    {
      "cell_type": "code",
      "execution_count": null,
      "metadata": {
        "id": "csNdvuOSWrto"
      },
      "outputs": [],
      "source": [
        "-----------------\n",
        "total_sum = 0\n",
        "while True:\n",
        "  number = float(input(\"Please enter a number or enter 0 to exit: \"))\n",
        "  if number == 0:\n",
        "    break\n",
        "  else:\n",
        "    total_sum += number\n",
        "print(total_sum)\n"
      ]
    },
    {
      "cell_type": "markdown",
      "metadata": {
        "id": "qrVqrpy4phmA"
      },
      "source": [
        "##### Suggested plan:"
      ]
    },
    {
      "cell_type": "markdown",
      "metadata": {
        "id": "6vysBFAyphmA"
      },
      "source": [
        "1. Start with a sum of `0`\n",
        "2. Ask the user for a number\n",
        "3. Check if that number equals `0`\n",
        "4. If not, add the number to the sum\n",
        "5. Repeat steps 2-4 until the number equals `0`\n",
        "6. Print the sum"
      ]
    },
    {
      "cell_type": "markdown",
      "metadata": {
        "id": "2K84xnN1phmA"
      },
      "source": [
        "##### Code hint"
      ]
    },
    {
      "cell_type": "code",
      "execution_count": null,
      "metadata": {
        "id": "Obr9V_6qphmA"
      },
      "outputs": [],
      "source": [
        "# ____ = 0\n",
        "\n",
        "# while ____:\n",
        "#     num = float(____(\"Enter a number (or 0 to exit): \"))\n",
        "#     if _________:\n",
        "#         break\n",
        "#     else:\n",
        "#         ____ += ____\n",
        "\n",
        "# print(____)"
      ]
    },
    {
      "cell_type": "markdown",
      "metadata": {
        "id": "DTI0LOfEMdj-"
      },
      "source": [
        "### Exercise 4\n",
        "\n",
        "Print the square of each number from 1 to a user-defined number `n` (inclusive)."
      ]
    },
    {
      "cell_type": "markdown",
      "metadata": {
        "id": "ZLPCBJ0jY97z"
      },
      "source": [
        "##### Plan:"
      ]
    },
    {
      "cell_type": "markdown",
      "metadata": {
        "id": "z2MZYVOvrcfv"
      },
      "source": [
        "*You can write you own steps here!*"
      ]
    },
    {
      "cell_type": "markdown",
      "metadata": {
        "id": "ypXqHNEzZ3Ot"
      },
      "source": [
        "##### Answer:"
      ]
    },
    {
      "cell_type": "code",
      "execution_count": null,
      "metadata": {
        "colab": {
          "base_uri": "https://localhost:8080/"
        },
        "id": "UbvGETtHZ2jd",
        "outputId": "9e181dcc-16d4-43d6-c699-4169bd36a252"
      },
      "outputs": [
        {
          "name": "stdout",
          "output_type": "stream",
          "text": [
            "0\n",
            "1\n",
            "4\n",
            "9\n",
            "16\n",
            "25\n"
          ]
        }
      ],
      "source": [
        "# n = 5\n",
        "for n in range(6):\n",
        "  print(n**2)"
      ]
    },
    {
      "cell_type": "code",
      "execution_count": null,
      "metadata": {
        "id": "ImYog72VY87x"
      },
      "outputs": [],
      "source": [
        "n = int(input(\"Enter a number: \"))\n",
        "for s in range(1,n):\n",
        "  print(s**2)"
      ]
    },
    {
      "cell_type": "markdown",
      "metadata": {
        "id": "EMInUKgtruDq"
      },
      "source": [
        "##### Suggested plan:"
      ]
    },
    {
      "cell_type": "markdown",
      "metadata": {
        "id": "Rt37oHXUruDq"
      },
      "source": [
        "1. Ask the user for a number\n",
        "2. Define a range from to that number\n",
        "3. For each number in the range, print it's square value"
      ]
    },
    {
      "cell_type": "markdown",
      "metadata": {
        "id": "V9DOTOe6ruDr"
      },
      "source": [
        "##### Code hint"
      ]
    },
    {
      "cell_type": "code",
      "execution_count": null,
      "metadata": {
        "id": "zxT0QenmruDr"
      },
      "outputs": [],
      "source": [
        "# n = ____(\"_______\")\n",
        "# for i in range(1, _____):\n",
        "#     print(i ____ 2)"
      ]
    },
    {
      "cell_type": "markdown",
      "metadata": {
        "id": "72QaZdOpM85W"
      },
      "source": [
        "### Exercise 5\n",
        "\n",
        "Ask the user to guess a random number between 1 and 50 (inclusive). Give feedback on whether the guess is too high, too low, or correct. Keep asking until the user guesses the correct number.\n",
        "\n",
        "Extra challenge:  keep a count of how many guesses your user needed."
      ]
    },
    {
      "cell_type": "markdown",
      "metadata": {
        "id": "CCszPXm1rhdo"
      },
      "source": [
        "##### Plan:"
      ]
    },
    {
      "cell_type": "markdown",
      "metadata": {
        "id": "pUTGBaifq18m"
      },
      "source": [
        "*You can write you own steps here!*"
      ]
    },
    {
      "cell_type": "markdown",
      "metadata": {
        "id": "z1T5-V16TBeE"
      },
      "source": [
        "##### Answer:"
      ]
    },
    {
      "cell_type": "code",
      "execution_count": null,
      "metadata": {
        "colab": {
          "base_uri": "https://localhost:8080/"
        },
        "id": "f6p7fPy2TAx3",
        "outputId": "c4e0a827-4797-47b8-876a-b631d2f8d2bb"
      },
      "outputs": [
        {
          "name": "stdout",
          "output_type": "stream",
          "text": [
            "Guess a random number 5\n",
            "You guessed too low\n",
            "Guess a random number 33\n",
            "You guessed too high\n",
            "Guess a random number 6664\n",
            "You guessed too high\n",
            "Guess a random number 20\n",
            "You guessed right\n",
            "You guessed correctly in 3 tries!\n"
          ]
        }
      ],
      "source": [
        "count = 0\n",
        "target_number = 20\n",
        "\n",
        "while True:\n",
        "    guessed_number = float(input(\"Guess a random number \"))\n",
        "\n",
        "    if guessed_number > target_number:\n",
        "      print(\"You guessed too high\")\n",
        "    elif guessed_number < target_number:\n",
        "      print(\"You guessed too low\")\n",
        "    else:\n",
        "      print(\"You guessed right\")\n",
        "      break\n",
        "\n",
        "    count += 1\n",
        "print(f\"You guessed correctly in {count} tries!\")\n"
      ]
    },
    {
      "cell_type": "code",
      "execution_count": null,
      "metadata": {
        "colab": {
          "base_uri": "https://localhost:8080/"
        },
        "id": "RtJBcyzJg9e_",
        "outputId": "14387a4b-f83d-479a-b99f-e5642410e349"
      },
      "outputs": [
        {
          "name": "stdout",
          "output_type": "stream",
          "text": [
            "Enter a number between 1 and 50: 16\n",
            "16.0 too low\n",
            "Enter a number between 1 and 50: 40\n",
            "40.0 too low\n",
            "Enter a number between 1 and 50: 45\n",
            "45.0 is too high\n",
            "Enter a number between 1 and 50: 43\n",
            "43.0 too low\n",
            "Enter a number between 1 and 50: 44\n",
            "Correct, the number is 44.0\n",
            "You guessed correctly in 4 tries!\n"
          ]
        }
      ],
      "source": [
        "count = 0\n",
        "import random\n",
        "random_number = random.randint(1, 50)\n",
        "while True:\n",
        "  guessed = float(input(\"Enter a number between 1 and 50: \"))\n",
        "  if guessed > random_number:\n",
        "    print(f\"{guessed} is too high\")\n",
        "  elif random_number == guessed:\n",
        "    print(f\"Correct, the number is {guessed}\")\n",
        "    break\n",
        "  else:\n",
        "    print(f\"{guessed} too low\")\n",
        "  count += 1\n",
        "print(f\"You guessed correctly in {count} tries!\")"
      ]
    },
    {
      "cell_type": "markdown",
      "metadata": {
        "id": "AVIk3flEwqlR"
      },
      "source": [
        "##### Suggested plan:"
      ]
    },
    {
      "cell_type": "markdown",
      "metadata": {
        "id": "4tez9zYJwqlS"
      },
      "source": [
        "1. Randomly pick a number between 1 and 50\n",
        "2. Ask the user to guess a number\n",
        "3. Check if the guess matches the randomly picked number\n",
        "4. If the guess is lower, say so\n",
        "5. If the guess is higher, say so\n",
        "6. Repeat steps 2-5 until the guess is correct\n",
        "7. Let the user know they guessed correctly"
      ]
    },
    {
      "cell_type": "markdown",
      "metadata": {
        "id": "BSrR7gb5wqlS"
      },
      "source": [
        "##### Code hint"
      ]
    },
    {
      "cell_type": "code",
      "execution_count": null,
      "metadata": {
        "id": "9xh-U_jEwqlS"
      },
      "outputs": [],
      "source": [
        "# import ____\n",
        "# target_number = ____.____(1, 50)\n",
        "\n",
        "# while ____:\n",
        "#     guess = ____(input(\"Guess the number (between 1 and 50): \"))\n",
        "\n",
        "#     ____ guess < target_number:\n",
        "#         print(\"________\")\n",
        "#     ____ guess > target_number:\n",
        "#         print(\"________\")\n",
        "#     ___:\n",
        "#         print(\"Correct!\")\n",
        "#         _____"
      ]
    },
    {
      "cell_type": "markdown",
      "metadata": {
        "id": "Y5HdzRwPsWCZ"
      },
      "source": [
        "## Part two: just plans"
      ]
    },
    {
      "cell_type": "markdown",
      "metadata": {
        "id": "8uc2abb8qW20"
      },
      "source": [
        "### Exercise 6\n",
        "\n",
        "Create a program that generates a multiplication table from 1 to 10, i.e. for each number from 1 to 10, show the multiples of that number by the numbers 1 to 10."
      ]
    },
    {
      "cell_type": "code",
      "execution_count": null,
      "metadata": {
        "id": "6sqr7_SlwppX"
      },
      "outputs": [],
      "source": [
        "n_1 = 1\n",
        "\n",
        "while True:\n",
        "  n_1 = n_1 + 1\n",
        "  n_2 = 1\n",
        "  while n"
      ]
    },
    {
      "cell_type": "code",
      "execution_count": null,
      "metadata": {
        "colab": {
          "base_uri": "https://localhost:8080/"
        },
        "id": "de-4jYgJmmwG",
        "outputId": "0cd08583-c638-47de-8be1-f5b3efa939c0"
      },
      "outputs": [
        {
          "name": "stdout",
          "output_type": "stream",
          "text": [
            "What is your weight? 55\n",
            "(K)g or (L)bsl\n",
            "24.75\n"
          ]
        }
      ],
      "source": [
        "weight = float(input(\"What is your weight? \"))\n",
        "unit = input(\"(K)g or (L)bs\")\n",
        "if unit.upper() == \"K\":\n",
        "  converted = weight / 0.45\n",
        "  print(converted)\n",
        "else:\n",
        "  converted = weight * 0.45\n",
        "  print(converted)"
      ]
    },
    {
      "cell_type": "code",
      "execution_count": null,
      "metadata": {
        "id": "b6LoZILAwf21"
      },
      "outputs": [],
      "source": []
    },
    {
      "cell_type": "markdown",
      "metadata": {
        "id": "PaHeK7PCU82Y"
      },
      "source": [
        "##### Plan:"
      ]
    },
    {
      "cell_type": "markdown",
      "metadata": {
        "id": "hUd63v3_rKCm"
      },
      "source": [
        "*You can write you own steps here!*"
      ]
    },
    {
      "cell_type": "markdown",
      "metadata": {
        "id": "4uyFjAAmVrYw"
      },
      "source": [
        "\n",
        "##### Answer:"
      ]
    },
    {
      "cell_type": "code",
      "execution_count": null,
      "metadata": {
        "colab": {
          "base_uri": "https://localhost:8080/"
        },
        "collapsed": true,
        "id": "nIMxtdaKVtZn",
        "outputId": "f079d882-2d3b-4d78-a610-be114f8aebe4"
      },
      "outputs": [
        {
          "name": "stdout",
          "output_type": "stream",
          "text": [
            "1 2 3 4 5 6 7 8 9 10 \n",
            "2 4 6 8 10 12 14 16 18 20 \n",
            "3 6 9 12 15 18 21 24 27 30 \n",
            "4 8 12 16 20 24 28 32 36 40 \n",
            "5 10 15 20 25 30 35 40 45 50 \n",
            "6 12 18 24 30 36 42 48 54 60 \n",
            "7 14 21 28 35 42 49 56 63 70 \n",
            "8 16 24 32 40 48 56 64 72 80 \n",
            "9 18 27 36 45 54 63 72 81 90 \n",
            "10 20 30 40 50 60 70 80 90 100 \n"
          ]
        }
      ],
      "source": [
        "\n",
        "n_1 = 1\n",
        "\n",
        "while n_1 <= 10:\n",
        "  n_2 = 1\n",
        "  while n_2 <= 10:\n",
        "      print(n_1 * n_2, end=\" \")\n",
        "      n_2 += 1\n",
        "  print()\n",
        "  n_1+= 1\n",
        "\n"
      ]
    },
    {
      "cell_type": "markdown",
      "metadata": {
        "id": "i6Ugpv2wK4Vm"
      },
      "source": [
        "##### Suggested plan:"
      ]
    },
    {
      "cell_type": "markdown",
      "metadata": {
        "id": "JCiSWvGiK4Vm"
      },
      "source": [
        "1. Start with two numbers, both equal to `1`\n",
        "2. Print the product of those two numbers\n",
        "3. Increase the value of the _second number_ by 1\n",
        "4. Repeat steps 2-3 until the _second number_ has the value `10`\n",
        "5. Increase the value of the _first number_ by 1\n",
        "6. Repeat steps 4-5 until the _first number_ has the value 10"
      ]
    },
    {
      "cell_type": "markdown",
      "metadata": {
        "id": "h0GBuQpcq2LB"
      },
      "source": [
        "### Exercise 7\n",
        "\n",
        "For a list of words, print out each word one character at a time. If you encounter the character `'a'`, stop and move on to the next word."
      ]
    },
    {
      "cell_type": "markdown",
      "metadata": {
        "id": "yT1JPP5gWZUL"
      },
      "source": [
        "##### Plan:"
      ]
    },
    {
      "cell_type": "markdown",
      "metadata": {
        "id": "oAZEYujusRQW"
      },
      "source": [
        "*You can write you own steps here!*"
      ]
    },
    {
      "cell_type": "markdown",
      "metadata": {
        "id": "g1kpTugUYMc5"
      },
      "source": [
        "##### Answer:"
      ]
    },
    {
      "cell_type": "code",
      "execution_count": null,
      "metadata": {
        "colab": {
          "base_uri": "https://localhost:8080/"
        },
        "collapsed": true,
        "id": "QxiWfHD5YOCb",
        "outputId": "8b12680c-94f9-4e29-ccfc-8938c3ef419d"
      },
      "outputs": [
        {
          "name": "stdout",
          "output_type": "stream",
          "text": [
            "h\n",
            "e\n",
            "l\n",
            "e\n",
            "s\n",
            "s\n",
            "o\n",
            "n\n",
            "l\n",
            "o\n",
            "v\n",
            "e\n",
            "p\n",
            "y\n",
            "t\n",
            "h\n",
            "o\n",
            "n\n",
            "h\n"
          ]
        }
      ],
      "source": [
        "words = [\"heart\", \"lesson\", \"love\", \"python\", \"hate\"]\n",
        "for word in words:\n",
        "  for char in word:\n",
        "    if char == \"a\":\n",
        "      break\n",
        "    else:\n",
        "      print(char)\n",
        "\n"
      ]
    },
    {
      "cell_type": "code",
      "execution_count": null,
      "metadata": {
        "id": "DioYUD2a30WP"
      },
      "outputs": [],
      "source": [
        "words = [\"health\", \"heart\", \"lung\", \"brain\", \"kidney\"]\n",
        "for word in words:\n",
        "  for char in word:\n",
        "    if char == \"a\":\n",
        "      break\n",
        "    print(char)"
      ]
    },
    {
      "cell_type": "markdown",
      "metadata": {
        "id": "m7kAykZpNHNt"
      },
      "source": [
        "##### Suggested plan:"
      ]
    },
    {
      "cell_type": "markdown",
      "metadata": {
        "id": "c7VsnaReNHN0"
      },
      "source": [
        "1. Create a list of words\n",
        "2. Focus on the first word\n",
        "3. Check the first letter of that word\n",
        "4. If the letter is equal to `'a'`, go back to step 2, focusing on the next word\n",
        "5. If not, print the letter\n",
        "6. Move on to the next letter and repeat steps 3-5\n",
        "7. After the word's last letter, move on the next word, starting at step 2"
      ]
    },
    {
      "cell_type": "markdown",
      "metadata": {
        "id": "ALUa4rzFHogE"
      },
      "source": [
        "### Exercise 8\n",
        "\n",
        "\n",
        "Calculate the factorial of `factor_number` below. The factorial of `n` is defined as the product of all integers from 1 to n and is denoted as `n!`.\n",
        "\n",
        "Change the value of `factor_number` to check if your calculation is working properly.\n",
        "\n",
        "\\begin{align}\n",
        "5! &= 120 \\newline\n",
        "7! &= 5040 \\newline\n",
        "13! &= 6227020800 \\newline\n",
        "25! &= 15511210043330985984000000\n",
        "\\end{align}"
      ]
    },
    {
      "cell_type": "markdown",
      "metadata": {
        "id": "DAaG_biHzhtc"
      },
      "source": [
        "##### Plan:"
      ]
    },
    {
      "cell_type": "markdown",
      "metadata": {
        "id": "L7GTe0xUzhtl"
      },
      "source": [
        "*You can write you own steps here!*"
      ]
    },
    {
      "cell_type": "markdown",
      "metadata": {
        "id": "bFrCaHy5NU-U"
      },
      "source": [
        "##### Answer:"
      ]
    },
    {
      "cell_type": "code",
      "execution_count": null,
      "metadata": {
        "colab": {
          "base_uri": "https://localhost:8080/"
        },
        "id": "-rL7rvzwBiYR",
        "outputId": "d48bb7aa-46ce-48bb-ad21-0c10295ca47e"
      },
      "outputs": [
        {
          "name": "stdout",
          "output_type": "stream",
          "text": [
            "Step: 1: 1\n",
            "Step: 2: 2\n",
            "Step: 3: 6\n",
            "Step: 4: 24\n",
            "Step: 5: 120\n",
            "Step: 6: 720\n",
            "Step: 7: 5040\n",
            "Step: 8: 40320\n",
            "Step: 9: 362880\n",
            "Step: 10: 3628800\n",
            "Step: 11: 39916800\n",
            "Step: 12: 479001600\n",
            "Step: 13: 6227020800\n",
            "Step: 14: 87178291200\n",
            "Step: 15: 1307674368000\n",
            "Step: 16: 20922789888000\n",
            "Step: 17: 355687428096000\n",
            "Step: 18: 6402373705728000\n",
            "Step: 19: 121645100408832000\n",
            "Step: 20: 2432902008176640000\n",
            "Step: 21: 51090942171709440000\n",
            "Step: 22: 1124000727777607680000\n",
            "Step: 23: 25852016738884976640000\n",
            "Step: 24: 620448401733239439360000\n",
            "Step: 25: 15511210043330985984000000\n"
          ]
        }
      ],
      "source": [
        "factor_number = 25\n",
        "factorial = 1\n",
        "for i in range(1,factor_number + 1):\n",
        "  factorial *= i\n",
        "  print(f\"Step: {i}: {factorial}\")"
      ]
    },
    {
      "cell_type": "markdown",
      "metadata": {
        "id": "4cEaesMvzmUm"
      },
      "source": [
        "##### Suggested plan:"
      ]
    },
    {
      "cell_type": "markdown",
      "metadata": {
        "id": "pW4yoDM4zmUt"
      },
      "source": [
        "1. Create the variable `factor_number` with the value `5`\n",
        "2. Create a variable `factorial` with the value `1`\n",
        "3. Create a range of integers from 1 to the value of `factor_number`\n",
        "4. Multiply `factorial` successively by each value in the range\n",
        "5. Display the value of `factorial`\n",
        "6. Change the value of `factor_number` and run the code again"
      ]
    },
    {
      "cell_type": "markdown",
      "metadata": {
        "id": "SyloLbKPBVog"
      },
      "source": [
        "##### **Bonus Challenge:**"
      ]
    },
    {
      "cell_type": "markdown",
      "metadata": {
        "id": "N6--QgMl3IGH"
      },
      "source": [
        "Write a function named `factorial` with one argument that represents `factor_number`.  We'll cover functions more in week two of the bootcamp, but if you want to read up on them and try, here's a spot to do it! 😀"
      ]
    },
    {
      "cell_type": "code",
      "execution_count": null,
      "metadata": {
        "id": "WOIFMO8-qFAx"
      },
      "outputs": [],
      "source": [
        "factorial = factor_number^5"
      ]
    },
    {
      "cell_type": "markdown",
      "metadata": {
        "id": "0dfsfW_dq89g"
      },
      "source": [
        "### Exercise 9\n",
        "\n",
        "Using `my_dict` below, perform the following opertaions:\n",
        "- pass over values with a length of 3\n",
        "- print the first and last elements of values with a length of 6\n",
        "- if the value is a number, print if it is greater, less than or equal to 100\n",
        "- print the datatype of any other values"
      ]
    },
    {
      "cell_type": "code",
      "execution_count": null,
      "metadata": {
        "colab": {
          "base_uri": "https://localhost:8080/",
          "height": 216
        },
        "id": "9IGqgXGLHskE",
        "outputId": "c7ce4f94-33e7-49a0-b2b0-043ed2810790"
      },
      "outputs": [
        {
          "ename": "NameError",
          "evalue": "name 'char' is not defined",
          "output_type": "error",
          "traceback": [
            "\u001b[0;31m---------------------------------------------------------------------------\u001b[0m",
            "\u001b[0;31mNameError\u001b[0m                                 Traceback (most recent call last)",
            "\u001b[0;32m<ipython-input-16-b78a3ed32dff>\u001b[0m in \u001b[0;36m<cell line: 0>\u001b[0;34m()\u001b[0m\n\u001b[1;32m      6\u001b[0m }\n\u001b[1;32m      7\u001b[0m \u001b[0;32mfor\u001b[0m \u001b[0mkey\u001b[0m\u001b[0;34m,\u001b[0m \u001b[0mvalue\u001b[0m \u001b[0;32min\u001b[0m \u001b[0mmy_dict\u001b[0m\u001b[0;34m.\u001b[0m\u001b[0mitems\u001b[0m\u001b[0;34m(\u001b[0m\u001b[0;34m)\u001b[0m\u001b[0;34m:\u001b[0m\u001b[0;34m\u001b[0m\u001b[0;34m\u001b[0m\u001b[0m\n\u001b[0;32m----> 8\u001b[0;31m   \u001b[0;32mif\u001b[0m \u001b[0mchar\u001b[0m\u001b[0;34m.\u001b[0m\u001b[0mindex\u001b[0m \u001b[0;34m==\u001b[0m \u001b[0;36m3\u001b[0m\u001b[0;34m:\u001b[0m\u001b[0;34m\u001b[0m\u001b[0;34m\u001b[0m\u001b[0m\n\u001b[0m\u001b[1;32m      9\u001b[0m     \u001b[0;32mcontinue\u001b[0m\u001b[0;34m\u001b[0m\u001b[0;34m\u001b[0m\u001b[0m\n\u001b[1;32m     10\u001b[0m   \u001b[0;32mif\u001b[0m \u001b[0mlen\u001b[0m\u001b[0;34m(\u001b[0m\u001b[0mvalue\u001b[0m\u001b[0;34m)\u001b[0m \u001b[0;34m==\u001b[0m \u001b[0;36m6\u001b[0m\u001b[0;34m:\u001b[0m\u001b[0;34m\u001b[0m\u001b[0;34m\u001b[0m\u001b[0m\n",
            "\u001b[0;31mNameError\u001b[0m: name 'char' is not defined"
          ]
        }
      ],
      "source": [
        "my_dict = {\n",
        "    'first': (\"don't\", \"go\", \"alone\"),\n",
        "    'second': 100.000,\n",
        "    'third': \"cheese\",\n",
        "    'fourth': {'a','e','i','o','u'}\n",
        "}\n",
        "for key, value in my_dict.items():\n",
        "  if char.index == 3:\n",
        "    continue\n",
        "  if len(value) == 6:\n",
        "    print(f\"{value}\")\n",
        "  if isinstance(value,float):\n",
        "    print(f\"{value}\")\n",
        "  print(my_dict)"
      ]
    },
    {
      "cell_type": "markdown",
      "metadata": {
        "id": "aaWLEBvEH65W"
      },
      "source": [
        "##### Plan:"
      ]
    },
    {
      "cell_type": "markdown",
      "metadata": {
        "id": "0AUZpMOzH65X"
      },
      "source": [
        "*You can write you own steps here!*"
      ]
    },
    {
      "cell_type": "markdown",
      "metadata": {
        "id": "YiuMseKYH65X"
      },
      "source": [
        "##### Answer:"
      ]
    },
    {
      "cell_type": "code",
      "execution_count": 1,
      "metadata": {
        "colab": {
          "base_uri": "https://localhost:8080/",
          "height": 269
        },
        "id": "cFpR-LwQrX86",
        "outputId": "ec6e6ed6-b6ae-4409-b9c3-f0bd40eb8430"
      },
      "outputs": [
        {
          "name": "stdout",
          "output_type": "stream",
          "text": [
            "(\"don't\", 'go', 'alone')\n",
            "100.0\n",
            "100.0\n"
          ]
        },
        {
          "ename": "TypeError",
          "evalue": "object of type 'float' has no len()",
          "output_type": "error",
          "traceback": [
            "\u001b[0;31m---------------------------------------------------------------------------\u001b[0m",
            "\u001b[0;31mTypeError\u001b[0m                                 Traceback (most recent call last)",
            "\u001b[0;32m<ipython-input-1-0e55bb31d921>\u001b[0m in \u001b[0;36m<cell line: 0>\u001b[0;34m()\u001b[0m\n\u001b[1;32m      9\u001b[0m   \u001b[0;32mif\u001b[0m \u001b[0misinstance\u001b[0m\u001b[0;34m(\u001b[0m\u001b[0mvalue\u001b[0m\u001b[0;34m,\u001b[0m \u001b[0;34m(\u001b[0m\u001b[0mint\u001b[0m\u001b[0;34m,\u001b[0m \u001b[0mfloat\u001b[0m\u001b[0;34m)\u001b[0m\u001b[0;34m)\u001b[0m\u001b[0;34m:\u001b[0m\u001b[0;34m\u001b[0m\u001b[0;34m\u001b[0m\u001b[0m\n\u001b[1;32m     10\u001b[0m     \u001b[0mprint\u001b[0m\u001b[0;34m(\u001b[0m\u001b[0mvalue\u001b[0m\u001b[0;34m)\u001b[0m\u001b[0;34m\u001b[0m\u001b[0;34m\u001b[0m\u001b[0m\n\u001b[0;32m---> 11\u001b[0;31m   \u001b[0;32mif\u001b[0m \u001b[0mlen\u001b[0m\u001b[0;34m(\u001b[0m\u001b[0mvalue\u001b[0m\u001b[0;34m)\u001b[0m \u001b[0;34m==\u001b[0m \u001b[0;36m3\u001b[0m\u001b[0;34m:\u001b[0m\u001b[0;34m\u001b[0m\u001b[0;34m\u001b[0m\u001b[0m\n\u001b[0m\u001b[1;32m     12\u001b[0m     \u001b[0;32mcontinue\u001b[0m\u001b[0;34m\u001b[0m\u001b[0;34m\u001b[0m\u001b[0m\n\u001b[1;32m     13\u001b[0m   \u001b[0;32mif\u001b[0m \u001b[0mlen\u001b[0m\u001b[0;34m(\u001b[0m\u001b[0mvalue\u001b[0m\u001b[0;34m)\u001b[0m \u001b[0;34m==\u001b[0m \u001b[0;36m6\u001b[0m\u001b[0;34m:\u001b[0m\u001b[0;34m\u001b[0m\u001b[0;34m\u001b[0m\u001b[0m\n",
            "\u001b[0;31mTypeError\u001b[0m: object of type 'float' has no len()"
          ]
        }
      ],
      "source": [
        "my_dict = {\n",
        "    'first': (\"don't\", \"go\", \"alone\"),\n",
        "    'second': 100.000,\n",
        "    'third': \"cheese\",\n",
        "    'fourth': {'a','e','i','o','u'}}\n",
        "\n",
        "for value in my_dict.values():\n",
        "  print(value)\n",
        "  if isinstance(value, (int, float)):\n",
        "    print(value)\n",
        "  if len(value) == 3:\n",
        "    continue\n",
        "  if len(value) == 6:\n",
        "      print(value[1], value[-1])\n",
        "  print(datatype)\n",
        "\n",
        "\n"
      ]
    },
    {
      "cell_type": "markdown",
      "metadata": {
        "id": "0VPyBQLsKTUx"
      },
      "source": [
        "##### Suggested plan:"
      ]
    },
    {
      "cell_type": "markdown",
      "metadata": {
        "id": "YNm4oxBqIGaE"
      },
      "source": [
        "1. Loop through `my_dict`, focusing on the values; maybe just print them to be sure values are being addressed, not keys or pairs\n",
        "2. Check if the value is a number (`int` or `float`)\n",
        "    - If yes, check if it is greater, less than, or equal to 100\n",
        "    - Print a statement according to this finding\n",
        "3. If not a number, check the length of the value\n",
        "    - If 3, use a control statement to move to the next value\n",
        "    - If 6, print the first and last elements\n",
        "    - Otherwise, print the datatype of the value"
      ]
    },
    {
      "cell_type": "markdown",
      "metadata": {
        "id": "AbZDHPpJDDsd"
      },
      "source": [
        "### Exercise 10\n",
        "\n",
        "Each of the lists below contains some numbers. Ask the user to enter an operational symbol (+, -, \\*, /), and perform that operation on each list. If the user does not enter one of the listed operation symbols, ask again until they do."
      ]
    },
    {
      "cell_type": "code",
      "execution_count": 6,
      "metadata": {
        "id": "UI_MCPTJoO3A"
      },
      "outputs": [],
      "source": [
        "a = [10, 20]\n",
        "b = [3, 4]\n",
        "c = [99, 999]\n",
        "d = [20, 7]\n",
        "e = [55, 0]"
      ]
    },
    {
      "cell_type": "markdown",
      "metadata": {
        "id": "lzp9wKa3oOXk"
      },
      "source": [
        "##### Plan:"
      ]
    },
    {
      "cell_type": "markdown",
      "metadata": {
        "id": "9vkhpvnkoOXr"
      },
      "source": [
        "*You can write you own steps here!*"
      ]
    },
    {
      "cell_type": "markdown",
      "metadata": {
        "id": "ph7zhAJQoOXr"
      },
      "source": [
        "##### Answer:"
      ]
    },
    {
      "cell_type": "code",
      "execution_count": 25,
      "metadata": {
        "colab": {
          "base_uri": "https://localhost:8080/"
        },
        "id": "mPiiHaG0EDPr",
        "outputId": "4a412dec-1cb0-4567-8eba-d26a9b7de4f4"
      },
      "outputs": [
        {
          "name": "stdout",
          "output_type": "stream",
          "text": [
            "Please enter opration (+, -, *, /) : /\n",
            "0.5\n",
            "0.75\n",
            "0.0990990990990991\n",
            "2.857142857142857\n",
            "Dividing by 0 is not possible\n",
            "Good job!\n"
          ]
        }
      ],
      "source": [
        "a = [10, 20]\n",
        "b = [3, 4]\n",
        "c = [99, 999]\n",
        "d = [20, 7]\n",
        "e = [55, 0]\n",
        "\n",
        "while True:\n",
        "  operator = input(\"Please enter opration (+, -, *, /) : \")\n",
        "  if operator in (\"+\", \"-\", \"*\", \"/\"):\n",
        "    break\n",
        "  else:\n",
        "    print(\"Error\")\n",
        "\n",
        "for pair in (a, b, c, d, e):\n",
        "  if operator == \"+\":\n",
        "        print(pair[0] + pair[1])\n",
        "  elif operator == \"-\":\n",
        "        print(pair[0] - pair[1])\n",
        "  elif operator == \"*\":\n",
        "        print(pair[0] * pair[1])\n",
        "  elif operator == \"/\":\n",
        "        if pair[1] != 0:\n",
        "            print(pair[0] / pair[1])\n",
        "        else:\n",
        "            print(\"Dividing by 0 is not possible\")\n",
        "\n",
        "print(\"Good job!\")\n",
        "\n",
        "\n",
        "\n",
        "\n"
      ]
    },
    {
      "cell_type": "markdown",
      "metadata": {
        "id": "folp3TAfoZ8Z"
      },
      "source": [
        "##### Suggested plan:"
      ]
    },
    {
      "cell_type": "markdown",
      "metadata": {
        "id": "7hkMl4bloai7"
      },
      "source": [
        "1. Ask user for operation\n",
        "2. Check if operation is one of (+, -, \\*, /)\n",
        "    - If not, repeat steps 1 and 2\n",
        "3. Resulting value depends on operation\n",
        "    - If \"+\" then add list elements\n",
        "    - If \"-\" then subtract list elements\n",
        "    - If \"*\" then multiply list elements\n",
        "    - If \"/\" then divide list elements\n",
        "        * Unless second element is `0`, then report error\n",
        "4. Print resulting value of operation\n",
        "5. Repeat steps 3 and 4 for all lists"
      ]
    },
    {
      "cell_type": "markdown",
      "metadata": {
        "id": "74lVs1hZsjwQ"
      },
      "source": [
        "## Part three: no clues"
      ]
    },
    {
      "cell_type": "markdown",
      "metadata": {
        "id": "3FP1Ri1kwgz3"
      },
      "source": [
        "### Exercise 11\n",
        "\n",
        "Ask for a username and password, then check if they are valid (`True`) or not (`False`).\n",
        "\n",
        "Valid usernames and passwords are contained in `user_dict`. For the user \"admin\", *all passwords* are valid."
      ]
    },
    {
      "cell_type": "code",
      "execution_count": 26,
      "metadata": {
        "id": "iu6Xw4OfMtXS"
      },
      "outputs": [],
      "source": [
        "user_dict = {\n",
        "    \"admin\": None,\n",
        "    \"user\": \"qweasd\",\n",
        "    \"earth\": \"GaIa122!\"\n",
        "}"
      ]
    },
    {
      "cell_type": "markdown",
      "metadata": {
        "id": "zeg6GWUgQMMz"
      },
      "source": [
        "##### Plan:"
      ]
    },
    {
      "cell_type": "markdown",
      "metadata": {
        "id": "FKgAlZxxQMM0"
      },
      "source": [
        "*You can write you own steps here!*"
      ]
    },
    {
      "cell_type": "markdown",
      "metadata": {
        "id": "EzfEBJ1gQMM0"
      },
      "source": [
        "##### Answer:"
      ]
    },
    {
      "cell_type": "code",
      "execution_count": 38,
      "metadata": {
        "colab": {
          "base_uri": "https://localhost:8080/"
        },
        "id": "cUDKPw7kCeRM",
        "outputId": "b1143bf8-54dc-4c44-c46b-e5974af6bed2"
      },
      "outputs": [
        {
          "name": "stdout",
          "output_type": "stream",
          "text": [
            "Please enter your UserName: user\n",
            "Please enter your password: qweasd\n",
            "You are logged in, user!\n"
          ]
        }
      ],
      "source": [
        "username = input(\"Please enter your UserName: \")\n",
        "password = input(\"Please enter your password: \")\n",
        "\n",
        "if username != \"admin\" and user_dict.get(username) == password:\n",
        "  print(f\"You are logged in, {username}!\")\n",
        "elif username == \"admin\":\n",
        "    print(\"True\")\n",
        "else:\n",
        "    print(\"False\")"
      ]
    },
    {
      "cell_type": "markdown",
      "metadata": {
        "id": "FJ7lMs44CNRP"
      },
      "source": [
        "##### **Bonus Challenge:**"
      ]
    },
    {
      "cell_type": "markdown",
      "metadata": {
        "id": "A-QaFEKuPk8r"
      },
      "source": [
        "Write a function named `is_valid` that takes two arguments for `username` and `password`."
      ]
    },
    {
      "cell_type": "code",
      "execution_count": null,
      "metadata": {
        "id": "mB0M2j2wwuIx"
      },
      "outputs": [],
      "source": []
    },
    {
      "cell_type": "markdown",
      "metadata": {
        "id": "2hB1Ov-a3g-m"
      },
      "source": [
        "### Exercise 12\n",
        "\n",
        "Randomly select numbers between 0 and 100 (inclusive). Once the selected number is greater than 95:     \n",
        "**a**. tell how many numbers were selected before the processed stopped     \n",
        "**b**. tell the average of those numbers\n",
        "\n",
        "> **Hint**: You'll need to `import random` and select an [approprite function from that library](https://docs.python.org/3/library/random.html) to randomly select numbers"
      ]
    },
    {
      "cell_type": "markdown",
      "metadata": {
        "id": "U0XOFZhYtrpj"
      },
      "source": [
        "##### Plan:"
      ]
    },
    {
      "cell_type": "markdown",
      "metadata": {
        "id": "CMJY1jKjtrps"
      },
      "source": [
        "*You can write you own steps here!*"
      ]
    },
    {
      "cell_type": "markdown",
      "metadata": {
        "id": "kmTXIkP5trps"
      },
      "source": [
        "##### Answer:"
      ]
    },
    {
      "cell_type": "code",
      "execution_count": 46,
      "metadata": {
        "colab": {
          "base_uri": "https://localhost:8080/"
        },
        "id": "fSmIWNQUC7Km",
        "outputId": "0118ca2b-7ecd-401e-a35f-cc8a0e24b0ff"
      },
      "outputs": [
        {
          "name": "stdout",
          "output_type": "stream",
          "text": [
            "Count: 1\n",
            "Average= 73.0\n",
            "New number: 1\n",
            "Count: 2\n",
            "Average= 37.0\n",
            "New number: 64\n",
            "Count: 3\n",
            "Average= 46.0\n",
            "New number: 7\n",
            "Count: 4\n",
            "Average= 36.25\n",
            "New number: 38\n",
            "Count: 5\n",
            "Average= 36.6\n",
            "New number: 12\n",
            "Count: 6\n",
            "Average= 32.5\n",
            "New number: 19\n",
            "Count: 7\n",
            "Average= 30.571428571428573\n",
            "New number: 68\n",
            "Count: 8\n",
            "Average= 35.25\n",
            "New number: 43\n",
            "Count: 9\n",
            "Average= 36.111111111111114\n",
            "New number: 96\n"
          ]
        }
      ],
      "source": [
        "import random\n",
        "x = random.randint(1,101)\n",
        "count = 0\n",
        "total = 0\n",
        "\n",
        "while x < 95:\n",
        "  total += x\n",
        "  count += 1\n",
        "  print(f\"Count: {count}\")\n",
        "  print(f\"Average= {total/count}\")\n",
        "  x = random.randint(1, 101)\n",
        "  print(f\"New number: {x}\")\n"
      ]
    },
    {
      "cell_type": "markdown",
      "metadata": {
        "id": "ip5bhqI44Z1W"
      },
      "source": [
        "### Exercise 13\n",
        "\n",
        "Below are three lists. Each element of `swap_list` contains a target index and a value to swap. Place those values into `original_list` at the positions indicated by the target indexes. Then show `original_list`."
      ]
    },
    {
      "cell_type": "code",
      "execution_count": 73,
      "metadata": {
        "id": "hkCkFyedSDjt"
      },
      "outputs": [],
      "source": [
        "original_list = [\"Your\", \"peach\", \"is\", \"in\", 3, (\"a\", \"b\", \"c\")]\n",
        "swap_list = [(-2, \"another\"), (1, \"princess\"), (5, \"castle\")]"
      ]
    },
    {
      "cell_type": "markdown",
      "metadata": {
        "id": "DsFmq0fStwN_"
      },
      "source": [
        "##### Plan:"
      ]
    },
    {
      "cell_type": "markdown",
      "metadata": {
        "id": "kbLTFiKVtwOG"
      },
      "source": [
        "*You can write you own steps here!*"
      ]
    },
    {
      "cell_type": "markdown",
      "metadata": {
        "id": "D7m_TDRRtwOG"
      },
      "source": [
        "##### Answer:"
      ]
    },
    {
      "cell_type": "code",
      "execution_count": 74,
      "metadata": {
        "colab": {
          "base_uri": "https://localhost:8080/"
        },
        "id": "R8MP2FT0E-RV",
        "outputId": "ac88b8b0-ff66-4727-d221-dea5eed89d67"
      },
      "outputs": [
        {
          "name": "stdout",
          "output_type": "stream",
          "text": [
            "[(1, 'princess'), 'peach', 'is', 'in', 3, ('a', 'b', 'c')]\n",
            "[(1, 'princess'), 'peach', 'is', 'in', (-2, 'another'), ('a', 'b', 'c')]\n",
            "[(1, 'princess'), 'peach', 'is', 'in', (-2, 'another'), (5, 'castle')]\n"
          ]
        }
      ],
      "source": [
        "original_list[0], swap_list[-2] = swap_list[-2], original_list[0]\n",
        "print(original_list)\n",
        "original_list[-2], swap_list[0] = swap_list[0], original_list[-2]\n",
        "print(original_list)\n",
        "original_list[5], swap_list[-1] = swap_list[-1], original_list[5]\n",
        "print(original_list)\n"
      ]
    },
    {
      "cell_type": "markdown",
      "metadata": {
        "id": "OT7RqAE_69pn"
      },
      "source": [
        "### Exercise 14\n",
        "\n",
        "Calculate the product of all numbers in the lists given below and then print the sum of all those products."
      ]
    },
    {
      "cell_type": "code",
      "execution_count": 77,
      "metadata": {
        "id": "AS3Mb-iiFjbK"
      },
      "outputs": [],
      "source": [
        "lst1 = [1, 5, 9, 8, 11]\n",
        "lst2 = [12, 9, 2, 11, 2]\n",
        "lst3 = [14, 4, 14]\n",
        "lst4 = [10, 5, 2, 2, 13, 18]"
      ]
    },
    {
      "cell_type": "markdown",
      "metadata": {
        "id": "Wrj6C5Djty9j"
      },
      "source": [
        "##### Plan:"
      ]
    },
    {
      "cell_type": "markdown",
      "metadata": {
        "id": "FQV7_HZity9j"
      },
      "source": [
        "*You can write you own steps here!*"
      ]
    },
    {
      "cell_type": "markdown",
      "metadata": {
        "id": "BQ-1g1L1ty9k"
      },
      "source": [
        "##### Answer:"
      ]
    },
    {
      "cell_type": "code",
      "execution_count": 84,
      "metadata": {
        "colab": {
          "base_uri": "https://localhost:8080/"
        },
        "id": "F72QnNecFmmD",
        "outputId": "4b59f6cd-25bd-48bb-e02c-8ae525c32e51"
      },
      "outputs": [
        {
          "name": "stdout",
          "output_type": "stream",
          "text": [
            "56296\n"
          ]
        }
      ],
      "source": [
        "result = 1\n",
        "for num in lst1:\n",
        "    result *= num\n",
        "result_2 = 1\n",
        "for num in lst2:\n",
        "    result_2 *= num\n",
        "result_3 = 1\n",
        "for num in lst3:\n",
        "    result_3 *= num\n",
        "result_4 = 1\n",
        "for num in lst4:\n",
        "    result_4 *= num\n",
        "print(result + result_2 + result_3 + result_4)\n"
      ]
    },
    {
      "cell_type": "code",
      "execution_count": 85,
      "metadata": {
        "colab": {
          "base_uri": "https://localhost:8080/"
        },
        "id": "mbmDoUV79LCx",
        "outputId": "d331b7cb-26e2-4bfc-e710-79e4d4d1563a"
      },
      "outputs": [
        {
          "data": {
            "text/plain": [
              "56296"
            ]
          },
          "execution_count": 85,
          "metadata": {},
          "output_type": "execute_result"
        }
      ],
      "source": [
        "products = []\n",
        "final_sum = 0\n",
        "\n",
        "for l in (lst1, lst2, lst3, lst4):\n",
        "    product = 1\n",
        "    for number in l:\n",
        "        product *= number\n",
        "    products.append(product)\n",
        "\n",
        "for p in products:\n",
        "    final_sum += p\n",
        "final_sum"
      ]
    },
    {
      "cell_type": "markdown",
      "metadata": {
        "id": "WihJ4DRa9eRi"
      },
      "source": [
        "### Exercise 15\n",
        "\n",
        "Swap the first and last characters of the user-given input_string. Keep in mind that a string must have at least two characters to make this possible."
      ]
    },
    {
      "cell_type": "markdown",
      "metadata": {
        "id": "rJCtxm9ut03T"
      },
      "source": [
        "##### Plan:"
      ]
    },
    {
      "cell_type": "markdown",
      "metadata": {
        "id": "M7hgf30ht03a"
      },
      "source": [
        "*You can write you own steps here!*"
      ]
    },
    {
      "cell_type": "markdown",
      "metadata": {
        "id": "fxVJk2t7t03a"
      },
      "source": [
        "##### Answer:"
      ]
    },
    {
      "cell_type": "code",
      "execution_count": 107,
      "metadata": {
        "colab": {
          "base_uri": "https://localhost:8080/"
        },
        "id": "NTVCVVdfGyZs",
        "outputId": "c3b0a233-06f2-431b-c06a-d651963a62ce"
      },
      "outputs": [
        {
          "name": "stdout",
          "output_type": "stream",
          "text": [
            "Enter at least two characters: ekekof\n",
            "['e', 'k', 'e', 'k', 'o', 'f']\n",
            "fkekoe\n"
          ]
        }
      ],
      "source": [
        "input_string = input(\"Enter at least two characters: \")\n",
        "\n",
        "if len(input_string) >= 2:\n",
        "  input_list = list(input_string)\n",
        "  print(input_list)\n",
        "  input_list[-1], input_list[0] = input_list[0], input_list[-1]\n",
        "  swapped_string = ''.join(input_list)\n",
        "  print(swapped_string)\n",
        "else:\n",
        "    print(\"Enter at least 2 characters\")\n"
      ]
    },
    {
      "cell_type": "code",
      "execution_count": null,
      "metadata": {
        "id": "ftoETjtyF27Z"
      },
      "outputs": [],
      "source": [
        "input_string = input(\"Enter a string: \")\n",
        "\n",
        "if len(input_string) < 2:\n",
        "    print(input_string)\n",
        "else:\n",
        "    first_char = input_string[0]\n",
        "    last_char = input_string[-1]\n",
        "    input_string = last_char + input_string[1:-1] + first_char\n",
        "    print(input_string)\n"
      ]
    },
    {
      "cell_type": "markdown",
      "metadata": {
        "id": "p_BEJAq6GD4k"
      },
      "source": [
        "##### **Bonus Challenge**:"
      ]
    },
    {
      "cell_type": "markdown",
      "metadata": {
        "id": "TGic9GxBQszu"
      },
      "source": [
        "Create a function named `swap_characters` that accepts a string as its argument and returns that string with the first and last characters swapped."
      ]
    },
    {
      "cell_type": "code",
      "execution_count": 2,
      "metadata": {
        "colab": {
          "base_uri": "https://localhost:8080/"
        },
        "id": "DAJE6whe9skU",
        "outputId": "cc9c1739-e17c-47da-a89a-1b80ebc6024d"
      },
      "outputs": [
        {
          "name": "stdout",
          "output_type": "stream",
          "text": [
            "Pls enter an argument: frjrje\n",
            "frjrje\n",
            "['e', 'r', 'j', 'r', 'j', 'f']\n"
          ]
        }
      ],
      "source": [
        "swap_characters = str(input(\"Pls enter an argument: \"))\n",
        "print(swap_characters)\n",
        "swap_list = list(swap_characters)\n",
        "swap_list[0], swap_list[-1] = swap_list[-1], swap_list[0]\n",
        "print(swap_list)\n",
        "\n"
      ]
    },
    {
      "cell_type": "code",
      "execution_count": null,
      "metadata": {
        "id": "0znsNel5FtHq"
      },
      "outputs": [],
      "source": [
        "def swap_characters(input_string):\n",
        "  if len(input_string ) <2:\n",
        "    print(input_string)\n",
        "  else:\n",
        "    first_char = input_string[0]\n",
        "    last_char = input_string[-1]\n",
        "    input_string= last_char + input_string[1:-1] + first_char\n",
        "    print(input_string)\n",
        "\n",
        "swap_characters(\"abc\")"
      ]
    }
  ],
  "metadata": {
    "colab": {
      "collapsed_sections": [
        "-wVr8NGrVBO0",
        "xdcwCUfTWul0",
        "Mr82QpsJm2Hj",
        "5rZRqDyam2Hk",
        "qrVqrpy4phmA",
        "2K84xnN1phmA",
        "EMInUKgtruDq",
        "V9DOTOe6ruDr",
        "AVIk3flEwqlR",
        "BSrR7gb5wqlS",
        "i6Ugpv2wK4Vm",
        "m7kAykZpNHNt",
        "folp3TAfoZ8Z",
        "FJ7lMs44CNRP",
        "p_BEJAq6GD4k"
      ],
      "provenance": [],
      "toc_visible": true
    },
    "kernelspec": {
      "display_name": "Python 3",
      "name": "python3"
    },
    "language_info": {
      "name": "python"
    }
  },
  "nbformat": 4,
  "nbformat_minor": 0
}
