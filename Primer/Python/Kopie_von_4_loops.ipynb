{
  "cells": [
    {
      "cell_type": "markdown",
      "metadata": {
        "id": "Eo09XN7mbZ0h"
      },
      "source": [
        "# 1.&nbsp; Why loops?"
      ]
    },
    {
      "cell_type": "code",
      "execution_count": null,
      "metadata": {
        "id": "4STcDvo0bZ0h"
      },
      "outputs": [],
      "source": [
        "ingredients = [\"milk\", \"sugar\", \"vanilla extract\", \"dough\", \"chocolate\"]"
      ]
    },
    {
      "cell_type": "markdown",
      "metadata": {
        "id": "0y0-iG_HbZ0j"
      },
      "source": [
        "Printing all the elements of a list without a loop."
      ]
    },
    {
      "cell_type": "code",
      "execution_count": null,
      "metadata": {
        "colab": {
          "base_uri": "https://localhost:8080/"
        },
        "id": "0phDArPqbZ0j",
        "outputId": "4a83547c-2755-4efd-b9ea-2e1dc7fbca61",
        "collapsed": true
      },
      "outputs": [
        {
          "output_type": "stream",
          "name": "stdout",
          "text": [
            "milk\n",
            "sugar\n",
            "vanilla extract\n",
            "dough\n",
            "chocolate\n"
          ]
        }
      ],
      "source": [
        "print(ingredients[0])\n",
        "print(ingredients[1])\n",
        "print(ingredients[2])\n",
        "print(ingredients[3])\n",
        "print(ingredients[4])"
      ]
    },
    {
      "cell_type": "markdown",
      "metadata": {
        "id": "R0gTTIz7bZ0k"
      },
      "source": [
        "Printing elements of a list with a loop."
      ]
    },
    {
      "cell_type": "code",
      "execution_count": null,
      "metadata": {
        "colab": {
          "base_uri": "https://localhost:8080/"
        },
        "id": "4eoMeTo4bZ0k",
        "outputId": "456e859e-0e24-4e03-b97b-d4c66c735e0e"
      },
      "outputs": [
        {
          "output_type": "stream",
          "name": "stdout",
          "text": [
            "milk\n",
            "sugar\n",
            "vanilla extract\n",
            "dough\n",
            "chocolate\n"
          ]
        }
      ],
      "source": [
        "for ingredient in ingredients:\n",
        "    print(ingredient)"
      ]
    },
    {
      "cell_type": "markdown",
      "metadata": {
        "id": "_mTpGX-TbZ0l"
      },
      "source": [
        "Now imagine if we had 1000, 10 000 or even more elements in a list... That's why **loops** are very useful."
      ]
    },
    {
      "cell_type": "markdown",
      "metadata": {
        "id": "DBwp0YuM-IJ3"
      },
      "source": [
        "# 2.&nbsp; `For` loops"
      ]
    },
    {
      "cell_type": "markdown",
      "metadata": {
        "id": "38j4iblybZ0l"
      },
      "source": [
        "## 2.1.&nbsp; General structure of a `for` loop"
      ]
    },
    {
      "cell_type": "code",
      "execution_count": null,
      "metadata": {
        "id": "qMVCEqR0ObuF"
      },
      "outputs": [],
      "source": [
        "for <iterative variable> in <collection>:\n",
        "  <action>"
      ]
    },
    {
      "cell_type": "markdown",
      "metadata": {
        "id": "YTRSeGgAbZ0m"
      },
      "source": [
        "- A `for` keyword indicates the start of a for loop.\n",
        "- A `<iterative variable>` that is used to represent the value of the element in the collection the loop is currently on.\n",
        "- An `in` keyword separates the iterative variable from the collection used for iteration.\n",
        "- A `<collection>` to loop over (list, dictionary...).\n",
        "- An `<action>` to do something on each iteration of the loop."
      ]
    },
    {
      "cell_type": "markdown",
      "metadata": {
        "id": "iK9KLOQibZ0m",
        "tags": []
      },
      "source": [
        "## 2.2.&nbsp; Looping through lists"
      ]
    },
    {
      "cell_type": "markdown",
      "metadata": {
        "id": "fkn1CbRvbZ0m"
      },
      "source": [
        "If we want to access each element of the list and do something with it, we will **loop** through a list."
      ]
    },
    {
      "cell_type": "code",
      "execution_count": null,
      "metadata": {
        "id": "eW_955SubZ0n"
      },
      "outputs": [],
      "source": [
        "names_list = [\"Justine\", \"Anabel\", \"Karl\"]"
      ]
    },
    {
      "cell_type": "code",
      "execution_count": null,
      "metadata": {
        "colab": {
          "base_uri": "https://localhost:8080/"
        },
        "id": "P2rRieYn-IJ4",
        "outputId": "0b63f379-b6ca-40b7-8989-9f239370e4ad"
      },
      "outputs": [
        {
          "name": "stdout",
          "output_type": "stream",
          "text": [
            "Hello Justine!\n",
            "Hello Anabel!\n",
            "Hello Karl!\n"
          ]
        }
      ],
      "source": [
        "for name in names_list:\n",
        "    print(\"Hello \" + name + \"!\")"
      ]
    },
    {
      "cell_type": "markdown",
      "metadata": {
        "id": "EYew8fy_-IJ4"
      },
      "source": [
        "Here, the word `name` could really be anything. It is just a placeholder that takes the value of each element in the for loop in every successive iteration, until the loop reaches the end of the list. Using a different word than `name` does not change the result."
      ]
    },
    {
      "cell_type": "code",
      "execution_count": null,
      "metadata": {
        "colab": {
          "base_uri": "https://localhost:8080/"
        },
        "id": "R82djo9V-IJ4",
        "outputId": "c4c29d88-78a2-46ed-a935-288839e4a4d7"
      },
      "outputs": [
        {
          "name": "stdout",
          "output_type": "stream",
          "text": [
            "Hello Justine!\n",
            "Hello Anabel!\n",
            "Hello Karl!\n"
          ]
        }
      ],
      "source": [
        "for dinosaur in names_list:\n",
        "    print(\"Hello \" + dinosaur + \"!\")"
      ]
    },
    {
      "cell_type": "markdown",
      "metadata": {
        "id": "kwIGxt6G-IJ4"
      },
      "source": [
        "If we wanted to store the resulting transformations of our loop in a new list, we would define an empty list first, and then `append()` all the elements as we iterate through the loop."
      ]
    },
    {
      "cell_type": "code",
      "execution_count": null,
      "metadata": {
        "id": "88Ui8_dnbZ0o"
      },
      "outputs": [],
      "source": [
        "greetings = []"
      ]
    },
    {
      "cell_type": "code",
      "execution_count": null,
      "metadata": {
        "id": "v2fv0GBk-IJ4"
      },
      "outputs": [],
      "source": [
        "for name in names_list:\n",
        "    greetings.append(\"Hello \" + name + \"!\")"
      ]
    },
    {
      "cell_type": "code",
      "execution_count": null,
      "metadata": {
        "colab": {
          "base_uri": "https://localhost:8080/"
        },
        "id": "na5NQYqS-IJ4",
        "outputId": "bb77fb67-a71c-4999-af64-34fb92aaee91"
      },
      "outputs": [
        {
          "data": {
            "text/plain": [
              "['Hello Justine!', 'Hello Anabel!', 'Hello Karl!']"
            ]
          },
          "execution_count": 10,
          "metadata": {},
          "output_type": "execute_result"
        }
      ],
      "source": [
        "greetings"
      ]
    },
    {
      "cell_type": "markdown",
      "metadata": {
        "id": "Y_vYTU2tbZ0o"
      },
      "source": [
        "## 2.3.&nbsp; Looping through a string"
      ]
    },
    {
      "cell_type": "markdown",
      "metadata": {
        "id": "aNZM_WcVbZ0p"
      },
      "source": [
        "Looping through a string is like looping through a list of characters of a string ( \"BLIMEY\" -> [\"B\", \"L\", \"I\", \"M\", \"E\", \"Y\"] )."
      ]
    },
    {
      "cell_type": "code",
      "execution_count": null,
      "metadata": {
        "colab": {
          "base_uri": "https://localhost:8080/"
        },
        "id": "x2dE5F2SbZ0p",
        "outputId": "d234468e-f69c-4002-f93a-cef3c4f0f624"
      },
      "outputs": [
        {
          "name": "stdout",
          "output_type": "stream",
          "text": [
            "New iteration\n",
            "A\n",
            "New iteration\n",
            "L\n",
            "New iteration\n",
            "P\n",
            "New iteration\n",
            "H\n",
            "New iteration\n",
            "A\n",
            "New iteration\n",
            "B\n",
            "New iteration\n",
            "E\n",
            "New iteration\n",
            "T\n"
          ]
        }
      ],
      "source": [
        "for character in \"ALPHABET\":\n",
        "    print(\"New iteration\")\n",
        "    print(character)"
      ]
    },
    {
      "cell_type": "markdown",
      "metadata": {
        "id": "naFw6qBqbZ0q"
      },
      "source": [
        "## 2.4.&nbsp; Looping through dictionaries"
      ]
    },
    {
      "cell_type": "markdown",
      "metadata": {
        "id": "mAR6Tmv1bZ0q"
      },
      "source": [
        "Looping through a dictionary, we can access each key."
      ]
    },
    {
      "cell_type": "code",
      "execution_count": null,
      "metadata": {
        "id": "IAaSV0tIbZ0q"
      },
      "outputs": [],
      "source": [
        "results_of_test = {\"Mary\":68,\"Jose\":78,\"Carl\":56,\"Dylan\":91}"
      ]
    },
    {
      "cell_type": "code",
      "execution_count": null,
      "metadata": {
        "colab": {
          "base_uri": "https://localhost:8080/"
        },
        "id": "6D2JKqcWbZ0q",
        "outputId": "9f56d6f4-d2bc-46e9-d453-853706922386"
      },
      "outputs": [
        {
          "name": "stdout",
          "output_type": "stream",
          "text": [
            "Mary scored 68 points.\n",
            "Jose scored 78 points.\n",
            "Carl scored 56 points.\n",
            "Dylan scored 91 points.\n"
          ]
        }
      ],
      "source": [
        "for student in results_of_test:\n",
        "    print(f\"{student} scored {results_of_test[student]} points.\")"
      ]
    },
    {
      "cell_type": "markdown",
      "metadata": {
        "id": "sRGyBqmAbZ0r"
      },
      "source": [
        "## 2.5.&nbsp; Looping inside a range"
      ]
    },
    {
      "cell_type": "markdown",
      "metadata": {
        "id": "B_hKTgifbZ0r"
      },
      "source": [
        "When you loop through collections like lists or dictionaries, the for loop will iterate as many times as there are elements inside the collection.\n",
        "\n",
        "In some cases, however, you will not want to loop through a defined collection you already have. Instead, you might just need to repeat something several times.\n",
        "For that, you only need to know how many times to iterate and the `range()` function will create a sequence of numbers that coincides with your needs."
      ]
    },
    {
      "cell_type": "markdown",
      "metadata": {
        "id": "iujLPg9TbZ0r"
      },
      "source": [
        "`range(5)` returns a sequence of numbers, starting from 0 and ending at 5 where 5 is not included."
      ]
    },
    {
      "cell_type": "code",
      "execution_count": null,
      "metadata": {
        "colab": {
          "base_uri": "https://localhost:8080/"
        },
        "id": "VBSTyvUVbZ0r",
        "outputId": "7126733d-bb6e-4074-914a-ef189fad2be5"
      },
      "outputs": [
        {
          "name": "stdout",
          "output_type": "stream",
          "text": [
            "0\n",
            "1\n",
            "2\n",
            "3\n",
            "4\n"
          ]
        }
      ],
      "source": [
        "for i in range(5):\n",
        "    print(i)"
      ]
    },
    {
      "cell_type": "markdown",
      "metadata": {
        "id": "ELpGpDDVbZ0r"
      },
      "source": [
        "`range(2,8)` returns a sequence of numbers, starting from 2 and ending at 8 where 8 is not included."
      ]
    },
    {
      "cell_type": "code",
      "execution_count": null,
      "metadata": {
        "colab": {
          "base_uri": "https://localhost:8080/"
        },
        "id": "cLQx4pJxbZ0r",
        "outputId": "df620606-59ef-43b9-e225-9b8cc5441e43"
      },
      "outputs": [
        {
          "name": "stdout",
          "output_type": "stream",
          "text": [
            "2\n",
            "3\n",
            "4\n",
            "5\n",
            "6\n",
            "7\n"
          ]
        }
      ],
      "source": [
        "for i in range(2,8):\n",
        "    print(i)"
      ]
    },
    {
      "cell_type": "markdown",
      "metadata": {
        "id": "sihTC52QbZ0s"
      },
      "source": [
        "`range(10,55,5)` returns a sequence of numbers, starting from 10 and ending at 55 where 55 is not included. The step between the numbers is no longer 1 but 5."
      ]
    },
    {
      "cell_type": "code",
      "execution_count": null,
      "metadata": {
        "colab": {
          "base_uri": "https://localhost:8080/"
        },
        "id": "fhDkpAXEbZ0s",
        "outputId": "8b600d57-9938-4397-c80e-5623c999ec5e"
      },
      "outputs": [
        {
          "name": "stdout",
          "output_type": "stream",
          "text": [
            "10\n",
            "15\n",
            "20\n",
            "25\n",
            "30\n",
            "35\n",
            "40\n",
            "45\n",
            "50\n"
          ]
        }
      ],
      "source": [
        "for i in range(10,55,5):\n",
        "    print(i)"
      ]
    },
    {
      "cell_type": "markdown",
      "metadata": {
        "id": "Ajt93rv8bZ0s"
      },
      "source": [
        "# 3.&nbsp; `While` loops"
      ]
    },
    {
      "cell_type": "markdown",
      "metadata": {
        "id": "47hwOkpZbZ0s"
      },
      "source": [
        "In python, we use `for` loops to iterate through something.\n",
        "\n",
        "There are also `while` loops which iterate as long as a condition is true."
      ]
    },
    {
      "cell_type": "code",
      "execution_count": null,
      "metadata": {
        "colab": {
          "base_uri": "https://localhost:8080/"
        },
        "id": "SZEpBn0obZ0s",
        "outputId": "df9c8503-933d-4fc5-8f8c-d36b8fa53676"
      },
      "outputs": [
        {
          "name": "stdout",
          "output_type": "stream",
          "text": [
            "10\n",
            "9\n",
            "8\n",
            "7\n",
            "6\n",
            "5\n",
            "4\n",
            "3\n",
            "2\n",
            "1\n"
          ]
        }
      ],
      "source": [
        "number = 10\n",
        "while number > 0:\n",
        "    print(number)\n",
        "    number = number - 1"
      ]
    },
    {
      "cell_type": "markdown",
      "metadata": {
        "id": "e5C-h4UtbZ0s"
      },
      "source": [
        "The above loop will continue looping as long as the number variable is greater than 0."
      ]
    },
    {
      "cell_type": "markdown",
      "metadata": {
        "id": "0-fCGt2tbZ0t"
      },
      "source": [
        "# 4.&nbsp; Infinite loop"
      ]
    },
    {
      "cell_type": "markdown",
      "metadata": {
        "id": "26Z_n8_EbZ0t"
      },
      "source": [
        "A loop that never terminates is called an infinite loop.\n",
        "These are very dangerous for our code because they will make our program run forever and thus consume all of your computer’s resources."
      ]
    },
    {
      "cell_type": "code",
      "execution_count": null,
      "metadata": {
        "id": "q6Yh7IqIbZ0t"
      },
      "outputs": [],
      "source": [
        "# This is an infinite loop.\n",
        "# If you run it, you need to force your kernel to stop by pressing the \"stop\" button.\n",
        "\n",
        "# total = 1\n",
        "# while True:\n",
        "#   print(f\"This has printed {total} times\")\n",
        "#   total += 1"
      ]
    },
    {
      "cell_type": "markdown",
      "metadata": {
        "id": "GVH4eh_895eo"
      },
      "source": [
        "# 5.&nbsp; Control flow statements\n",
        "When using either a for loop or a while loop, we have a couple of valuable options to manage the flow of information: \"continue\" and \"break.\""
      ]
    },
    {
      "cell_type": "markdown",
      "metadata": {
        "id": "4FUgoch1bZ0t"
      },
      "source": [
        "## 5.1.&nbsp; Break\n",
        "`break` does exactly what it says, it breaks a loop. Let's copy and moderate the infinite loop from the previous paragraph and 'fix' it with a break."
      ]
    },
    {
      "cell_type": "code",
      "execution_count": null,
      "metadata": {
        "colab": {
          "base_uri": "https://localhost:8080/"
        },
        "id": "YmISBW4HbZ0t",
        "outputId": "2c8d91f4-1007-425d-ba83-861e164c5850"
      },
      "outputs": [
        {
          "name": "stdout",
          "output_type": "stream",
          "text": [
            "[2, 4, 6, 8, 4, 6, 8, 10, 6, 8, 10, 12, 8, 10, 12, 14, 10, 12, 14, 16]\n"
          ]
        }
      ],
      "source": [
        "numbers_list = [2,4,6,8]\n",
        "for number in numbers_list:\n",
        "    numbers_list.append(number+2)\n",
        "    if len(numbers_list) == 20:\n",
        "        print(numbers_list)\n",
        "        break"
      ]
    },
    {
      "cell_type": "markdown",
      "metadata": {
        "id": "3xcvEPRFbZ0t"
      },
      "source": [
        "Now our loop is not infinite anymore because it will break (stop) when the `if` condition is True (i.e. when the number of elements is equal to 20)."
      ]
    },
    {
      "cell_type": "markdown",
      "metadata": {
        "id": "o51kIU5sbZ0u"
      },
      "source": [
        "## 5.2.&nbsp; Continue\n",
        "If we want the loop to skip some elements, we can write the `continue` statement. Whenever a loop reaches the continue statement, it will jump straight into the next iteration."
      ]
    },
    {
      "cell_type": "code",
      "execution_count": null,
      "metadata": {
        "colab": {
          "base_uri": "https://localhost:8080/"
        },
        "id": "L3L550NabZ0u",
        "outputId": "80ec664a-5058-40ea-ff2c-bbb2665ac498"
      },
      "outputs": [
        {
          "name": "stdout",
          "output_type": "stream",
          "text": [
            "['Lanne', 'Hanne', 'Yanne']\n"
          ]
        }
      ],
      "source": [
        "names = [\"Anna\",\"Lanne\",\"Hanne\",\"Yanne\"]\n",
        "new_list = []\n",
        "\n",
        "for name in names:\n",
        "    if name.startswith(\"A\"):\n",
        "        continue\n",
        "    new_list.append(name)\n",
        "\n",
        "print(new_list)"
      ]
    },
    {
      "cell_type": "markdown",
      "metadata": {
        "id": "q_uffCk_bZ0u"
      },
      "source": [
        "The new list now consists only of names that didn't start with the letter A. This is because as soon as the name Anna was reached, the continue statement in the loop jumped to the next iteration."
      ]
    },
    {
      "cell_type": "markdown",
      "metadata": {
        "id": "FANLg0vebZ0u"
      },
      "source": [
        "# 6.&nbsp; Nested loops\n",
        "You can nest any number of loops."
      ]
    },
    {
      "cell_type": "code",
      "execution_count": null,
      "metadata": {
        "colab": {
          "base_uri": "https://localhost:8080/"
        },
        "id": "Sfol-B1nbZ0u",
        "outputId": "a121c014-d66c-4290-a3af-3d634cea2c91"
      },
      "outputs": [
        {
          "name": "stdout",
          "output_type": "stream",
          "text": [
            "Green team:\n",
            "Viraj\n",
            "Eva\n",
            "Leon\n",
            "Blue team:\n",
            "Sarrah\n",
            "Frida\n",
            "Tim\n",
            "Yellow team:\n",
            "Karl\n",
            "Ali\n",
            "Maria\n"
          ]
        }
      ],
      "source": [
        "teams_dict = {\"Green team\": [\"Viraj\",\"Eva\",\"Leon\"],\n",
        "              \"Blue team\":[\"Sarrah\",\"Frida\",\"Tim\"],\n",
        "              \"Yellow team\":[\"Karl\",\"Ali\",\"Maria\"]}\n",
        "\n",
        "# First loop loops through 3 teams.\n",
        "for team in teams_dict:\n",
        "    # The variable team will change like this: 1st iteration: Green team, 2nd iteration: Blue team...\n",
        "    print(team+\":\")\n",
        "    # Second loop loops through list of names for each team from the first loop.\n",
        "    for name in teams_dict[team]:\n",
        "        print(name)"
      ]
    },
    {
      "cell_type": "markdown",
      "metadata": {
        "id": "DXxNscrFbZ0u"
      },
      "source": [
        "# 7.&nbsp; Exercises"
      ]
    },
    {
      "cell_type": "markdown",
      "metadata": {
        "id": "KvtmnbNpbZ0u"
      },
      "source": [
        "#### Exercise 1"
      ]
    },
    {
      "cell_type": "markdown",
      "metadata": {
        "id": "aaEMo6_D-IJ4"
      },
      "source": [
        "Create a list named `lower_names` and fill it with your favourite actors. Include name and surname, all in lowercase (like `john doe`).\n",
        "Then, create a new list `capital_names` with both the names and surnames capitalized (like `John Doe`), by iterating through the first list with a `for` loop."
      ]
    },
    {
      "cell_type": "code",
      "execution_count": null,
      "metadata": {
        "id": "XWdhJF_i_QKz",
        "colab": {
          "base_uri": "https://localhost:8080/"
        },
        "outputId": "dc0e02b0-2f00-4637-f228-57c8718924c2"
      },
      "outputs": [
        {
          "output_type": "stream",
          "name": "stdout",
          "text": [
            "['Zendaya', 'Tom Holland', 'Millie Bobby Brown', 'Anya Taylor-Joy', 'Noah Centineo']\n"
          ]
        }
      ],
      "source": [
        "# It's okay to make mistakes!\n",
        "lower_name = [\"zendaya\", \"tom holland\", \"millie bobby brown\", \"anya taylor-joy\", \"noah centineo\"]\n",
        "capital_names = []\n",
        "\n",
        "for actor_name in lower_name:\n",
        "   capital_names.append(actor_name.title())\n",
        "print(capital_names)"
      ]
    },
    {
      "cell_type": "markdown",
      "metadata": {
        "id": "lhk-k_vBbZ0v",
        "jp-MarkdownHeadingCollapsed": true,
        "tags": []
      },
      "source": [
        "##### Hint"
      ]
    },
    {
      "cell_type": "code",
      "execution_count": null,
      "metadata": {
        "id": "z_FjAftNbZ0v"
      },
      "outputs": [],
      "source": [
        "# lower_names = [\"_____ _____\",\"_____ _____\",\"_____ _____\",\"_____ _____\",\"_____ _____\",\"_____ _____\"]\n",
        "# capital_names = []\n",
        "# _____ name in _____:\n",
        "#     capital_names._____(name._____())"
      ]
    },
    {
      "cell_type": "markdown",
      "metadata": {
        "id": "yEhE10NgbZ0v"
      },
      "source": [
        "#### Exercise 2"
      ]
    },
    {
      "cell_type": "markdown",
      "metadata": {
        "id": "k2_aFWyd-IJ5"
      },
      "source": [
        "Use the `capital_names` list from the previous exercise and print out only the ones that start with \"A\" or \"J\"."
      ]
    },
    {
      "cell_type": "code",
      "execution_count": null,
      "metadata": {
        "id": "6CFCIbaR_g5t",
        "colab": {
          "base_uri": "https://localhost:8080/"
        },
        "outputId": "ce0a52ab-6a23-4c52-f183-fbfab016906a"
      },
      "outputs": [
        {
          "output_type": "stream",
          "name": "stdout",
          "text": [
            "Anya Taylor-Joy\n"
          ]
        }
      ],
      "source": [
        "# We're all learning here!\n",
        "for name in capital_names:\n",
        "  if name.startswith(\"A\") or name.startswith(\"J\"):\n",
        "    print(f\"{name}\")"
      ]
    },
    {
      "cell_type": "markdown",
      "metadata": {
        "id": "YTG529_VbZ0v",
        "tags": []
      },
      "source": [
        "##### Hint"
      ]
    },
    {
      "cell_type": "code",
      "execution_count": null,
      "metadata": {
        "id": "OFy-gs4YbZ0v"
      },
      "outputs": [],
      "source": [
        "# for name in _____:\n",
        "#     if _____.startswith(\"A\") or name._____(\"J\"):\n",
        "#         print(_____)"
      ]
    },
    {
      "cell_type": "markdown",
      "metadata": {
        "id": "HbsXuKH5bZ0w"
      },
      "source": [
        "#### Exercise 3"
      ]
    },
    {
      "cell_type": "markdown",
      "metadata": {
        "id": "3vVGlt8dbZ0w"
      },
      "source": [
        "You are given a list of names. Loop through the list and print \"Hello `name`!\" if a name starts with \"A\". If not, print \"Bye `name`!\"."
      ]
    },
    {
      "cell_type": "code",
      "execution_count": null,
      "metadata": {
        "id": "c1m9P0SubZ0w"
      },
      "outputs": [],
      "source": [
        "names = [\"Justine\",\"Amabel\",\"Karl\",\"Anna\",\"Lina\",\"Sergei\",\"Wang\",\"Aurora\"]"
      ]
    },
    {
      "cell_type": "code",
      "execution_count": null,
      "metadata": {
        "id": "srtvhbfqACl6",
        "colab": {
          "base_uri": "https://localhost:8080/"
        },
        "outputId": "af4e0943-9b86-412a-a807-bff017139805"
      },
      "outputs": [
        {
          "output_type": "stream",
          "name": "stdout",
          "text": [
            "Bye Justine\n",
            "Hello Amabel\n",
            "Bye Karl\n",
            "Hello Anna\n",
            "Bye Lina\n",
            "Bye Sergei\n",
            "Bye Wang\n",
            "Hello Aurora\n"
          ]
        }
      ],
      "source": [
        "# Coding is your superpower; use it to conquer the challenge\n",
        "for name in names:\n",
        "  if name.startswith(\"A\"):\n",
        "    print(f\"Hello {name}\")\n",
        "  else:\n",
        "    print(f\"Bye {name}\")"
      ]
    },
    {
      "cell_type": "markdown",
      "metadata": {
        "id": "pTG-vZSqbZ0w",
        "tags": []
      },
      "source": [
        "##### Hint"
      ]
    },
    {
      "cell_type": "code",
      "execution_count": null,
      "metadata": {
        "id": "m8jdJi79bZ0w"
      },
      "outputs": [],
      "source": [
        "# for _____ in names:\n",
        "#     if name._____(\"A\"):\n",
        "#         print(\"Hello \"+_____+\"!\")\n",
        "#     _____:\n",
        "#         print(\"Bye \"+_____+\"!\")"
      ]
    },
    {
      "cell_type": "markdown",
      "metadata": {
        "id": "YynuYOaIbZ0x",
        "tags": []
      },
      "source": [
        "#### Exercise 4"
      ]
    },
    {
      "cell_type": "markdown",
      "metadata": {
        "id": "puU65BONbZ0x"
      },
      "source": [
        "Copy the code from last exercise and add a text that gets printed after each iteration of the loop, so it is clearer what\"s going on. (\"Next iteration incoming...\")"
      ]
    },
    {
      "cell_type": "code",
      "execution_count": null,
      "metadata": {
        "id": "oTqtDQU4AKof",
        "colab": {
          "base_uri": "https://localhost:8080/"
        },
        "outputId": "66dd9df0-0321-4194-bb6f-a3721085abf3"
      },
      "outputs": [
        {
          "output_type": "stream",
          "name": "stdout",
          "text": [
            "Bye Justine\n",
            "Next iteration incoming...\n",
            "Hello Amabel\n",
            "Next iteration incoming...\n",
            "Bye Karl\n",
            "Next iteration incoming...\n",
            "Hello Anna\n",
            "Next iteration incoming...\n",
            "Bye Lina\n",
            "Next iteration incoming...\n",
            "Bye Sergei\n",
            "Next iteration incoming...\n",
            "Bye Wang\n",
            "Next iteration incoming...\n",
            "Hello Aurora\n",
            "Next iteration incoming...\n"
          ]
        }
      ],
      "source": [
        "# Write code with confidence\n",
        "for name in names:\n",
        "  if name.startswith(\"A\"):\n",
        "    print(f\"Hello {name}\")\n",
        "    print(\"Next iteration incoming...\")\n",
        "  else:\n",
        "    print(f\"Bye {name}\")\n",
        "    print(\"Next iteration incoming...\")"
      ]
    },
    {
      "cell_type": "markdown",
      "metadata": {
        "id": "PIgnuWwTbZ0x",
        "tags": []
      },
      "source": [
        "##### Hint"
      ]
    },
    {
      "cell_type": "code",
      "execution_count": null,
      "metadata": {
        "id": "tRxHKNIpbZ0x"
      },
      "outputs": [],
      "source": [
        "# for _____ in names:\n",
        "#     if name._____(\"A\"):\n",
        "#         print(\"Hello \"+_____+\"!\")\n",
        "#     _____:\n",
        "#         print(\"Bye \"+_____+\"!\")\n",
        "#     _____(\"Next iteration incoming...\")"
      ]
    },
    {
      "cell_type": "markdown",
      "metadata": {
        "id": "s94GNCZbbZ0x",
        "tags": []
      },
      "source": [
        "#### Exercise 5"
      ]
    },
    {
      "cell_type": "markdown",
      "metadata": {
        "id": "A6ilJSTwbZ0x"
      },
      "source": [
        "In the previous code, the \"next iteration incoming...\" text gets printed also for the last iteration, which might be confusing for whoever reads the output of this code. Change the code so that this text gets printed in all except the last iteration."
      ]
    },
    {
      "cell_type": "markdown",
      "metadata": {
        "id": "fGTgVBEXbZ0x",
        "tags": []
      },
      "source": [
        "##### Hint"
      ]
    },
    {
      "cell_type": "code",
      "source": [
        "count = 0\n",
        "for name in names:\n",
        "     if name.startswith(\"A\"):\n",
        "         print(f\"Hello {name}!\")\n",
        "     else:\n",
        "       print(f\"Bye {name}\")\n",
        "     if count != len(names) -1:\n",
        "         print(\"Next iteration incoming...\")\n",
        "     count += 1"
      ],
      "metadata": {
        "colab": {
          "base_uri": "https://localhost:8080/"
        },
        "id": "yotmWgj8y7yP",
        "outputId": "1204b95a-894d-43aa-828d-2fe8f0d10829"
      },
      "execution_count": null,
      "outputs": [
        {
          "output_type": "stream",
          "name": "stdout",
          "text": [
            "Bye Justine\n",
            "Next iteration incoming...\n",
            "Hello Amabel!\n",
            "Next iteration incoming...\n",
            "Bye Karl\n",
            "Next iteration incoming...\n",
            "Hello Anna!\n",
            "Next iteration incoming...\n",
            "Bye Lina\n",
            "Next iteration incoming...\n",
            "Bye Sergei\n",
            "Next iteration incoming...\n",
            "Bye Wang\n",
            "Next iteration incoming...\n",
            "Hello Aurora!\n"
          ]
        }
      ]
    },
    {
      "cell_type": "code",
      "execution_count": null,
      "metadata": {
        "id": "0VlYMi1vbZ0y"
      },
      "outputs": [],
      "source": [
        "# count = _____\n",
        "# for _____ in names:\n",
        "#     if name._____(\"A\"):\n",
        "#         print(\"Hello \"+_____+\"!\")\n",
        "#     if _____ != len(names):\n",
        "#         print(\"Next iteration incoming...\")\n",
        "#     _____ = _____ 1"
      ]
    },
    {
      "cell_type": "markdown",
      "metadata": {
        "id": "EtAx3USHbZ0y"
      },
      "source": [
        "#### Exercise 6"
      ]
    },
    {
      "cell_type": "markdown",
      "metadata": {
        "id": "gGmx16rpbZ0y"
      },
      "source": [
        "You are given a list of numbers. Looping through the list, sum all the numbers and print the result."
      ]
    },
    {
      "cell_type": "code",
      "execution_count": null,
      "metadata": {
        "id": "uGyu_WilbZ0y"
      },
      "outputs": [],
      "source": [
        "numbers = [23,45,12,10,25]"
      ]
    },
    {
      "cell_type": "code",
      "source": [
        "# Embrace the challenge\n",
        "sum(numbers)\n",
        "\n",
        "total_sum = 0\n",
        "for number in numbers:\n",
        "  total_sum +=number\n",
        "  print(total_sum)"
      ],
      "metadata": {
        "id": "wj6XS4JL_C3c",
        "colab": {
          "base_uri": "https://localhost:8080/"
        },
        "outputId": "93c0cd4c-d51f-4b8e-9deb-4ae375289312"
      },
      "execution_count": null,
      "outputs": [
        {
          "output_type": "stream",
          "name": "stdout",
          "text": [
            "23\n",
            "68\n",
            "80\n",
            "90\n",
            "115\n"
          ]
        }
      ]
    },
    {
      "cell_type": "markdown",
      "metadata": {
        "id": "WWvCji5UbZ0y"
      },
      "source": [
        "##### Hint"
      ]
    },
    {
      "cell_type": "code",
      "execution_count": null,
      "metadata": {
        "id": "LNwbbnuwbZ0y"
      },
      "outputs": [],
      "source": [
        "# total = 0\n",
        "# for number in _____:\n",
        "#     _____ = _____ number\n",
        "# print(_____)"
      ]
    },
    {
      "cell_type": "markdown",
      "metadata": {
        "id": "hzEU_4SObZ0y"
      },
      "source": [
        "#### Exercise 7"
      ]
    },
    {
      "cell_type": "markdown",
      "metadata": {
        "id": "MtgNEsx9bZ0z"
      },
      "source": [
        "Create a simple calculator for additions!\n",
        "Repeatedly ask the user to enter numbers. Each time that the user provides input, this input is first converted to float and then added to a variable `total` (which should start from 0).\n",
        "When the user enters \"add\", the loop stops and the running total is printed out."
      ]
    },
    {
      "cell_type": "code",
      "source": [],
      "metadata": {
        "id": "2GtHiV0P6043"
      },
      "execution_count": null,
      "outputs": []
    },
    {
      "cell_type": "code",
      "execution_count": null,
      "metadata": {
        "id": "OUheIky-BICj",
        "colab": {
          "base_uri": "https://localhost:8080/"
        },
        "outputId": "87312e05-47a0-4caf-f909-e02e0b126572"
      },
      "outputs": [
        {
          "metadata": {
            "tags": null
          },
          "name": "stdout",
          "output_type": "stream",
          "text": [
            "4.0\n",
            "8.6\n"
          ]
        }
      ],
      "source": [
        "# Bugs are just detours on the road to success; keep coding!\n",
        "\n",
        "total = 0\n",
        "while total >= 0:\n",
        "  random_number = input(\"Please enter a random number \")\n",
        "  if random_number == \"add\":\n",
        "    print(total)\n",
        "    total = 1\n",
        "    break\n",
        "\n",
        "  random_number = float(random_number)\n",
        "  if random_number >= 0:\n",
        "    total += random_number\n",
        "    print(total)\n",
        "  else:\n",
        "    print(\"Ending loop\")\n",
        "    break"
      ]
    },
    {
      "cell_type": "markdown",
      "metadata": {
        "id": "V2b-hc5wbZ0z",
        "jp-MarkdownHeadingCollapsed": true,
        "tags": []
      },
      "source": [
        "##### Hint"
      ]
    },
    {
      "cell_type": "code",
      "execution_count": null,
      "metadata": {
        "id": "wDWUv-nkbZ0z"
      },
      "outputs": [],
      "source": [
        "# total = 0\n",
        "# while True:\n",
        "#     print(\"Enter number or write 'add' to sum all previous inputs.\")\n",
        "#     _____ = input()\n",
        "#     if number == _____:\n",
        "#         break\n",
        "#     else:\n",
        "#         _____ += float(_____)\n",
        "# print(_____)"
      ]
    },
    {
      "cell_type": "markdown",
      "metadata": {
        "id": "elfVtO9A-IJ7"
      },
      "source": [
        "# 8.&nbsp; Bonus exercises\n",
        "\n"
      ]
    },
    {
      "cell_type": "code",
      "execution_count": null,
      "metadata": {
        "id": "0xvt0482Cvb7"
      },
      "outputs": [],
      "source": [
        "# some lists to work with\n",
        "\n",
        "car_brands = [\"BMW\", \"Volkswagen\", \"Mercedes\", \"Ford\", \"Apple\", \"Toyota\",\n",
        "              \"Tesla\", \"Kia\", \"Porsche\", \"Mazda\", \"Honda\", \"Jaguar\",\n",
        "              \"Mitsubishi\", \"Audi\", \"Bentley\", \"Bugatti\", \"Chrysler\"]\n",
        "\n",
        "fibonacci = [0, 1, 1, 2, 3, 5, 8, 13, 21, 34, 53, 89, 144]\n",
        "\n",
        "characters = [[\"Harry\", \"Hermione\", \"Ron\"],\n",
        "              [\"Daenerys Targaryen\", \"Jon Snow\", \"Tyrion Lannister\",\n",
        "               \"Cercei Lannister\", \"Arya Stark\", \"Sansa Stark\"],\n",
        "              [\"Aragorn\", \"Gandalf\", \"Frodo\", \"Legolas\", \"Gollum\", \"Gimli\"],\n",
        "              [\"Walter White\", \"Jesse Pinkman\", \"Gus Fring\"]\n",
        "             ]\n",
        "\n",
        "sex_and_the_city = [\"Carrie\", \"Samantha\", \"Charlotte\", \"Miranda\"]\n",
        "\n",
        "numbers = [1, 51, 59, 2, 95, 25, 28, 67, 14, 63, 84, 33, 56, 31, 54, 97, 77,\n",
        "            98, 46, 84, 6, 66, 86, 77, 69, 19, 77, 7, 76, 19, 59, 77, 28, 34,\n",
        "            94, 4, 45, 95, 41, 66, 5, 38, 35, 57, 84, 38, 94, 65, 45, 80, 83,\n",
        "            22, 12, 100, 52, 55, 31, 69, 29, 67, 4, 39, 87, 49, 81, 82, 96, 4,\n",
        "            85, 62, 90, 72, 70, 26, 29, 63, 48, 94, 58, 9, 49, 79, 33, 63, 41,\n",
        "            13, 90, 37, 31, 3, 11, 54, 56, 72, 91, 97, 2, 83, 82, 6]"
      ]
    },
    {
      "cell_type": "markdown",
      "metadata": {
        "id": "xs7pG9zubZ0z"
      },
      "source": [
        "#### Exercise 8"
      ]
    },
    {
      "cell_type": "markdown",
      "metadata": {
        "id": "E5ZpP-VlDpRx"
      },
      "source": [
        "Implement the for loop that greets people for the `characters` list you used in the previous exercises. For now, do not include any condition —just say hello to every character. What do you need to do to iterate through lists inside a list?"
      ]
    },
    {
      "cell_type": "code",
      "execution_count": null,
      "metadata": {
        "id": "XOlqcNsb-IJ7"
      },
      "outputs": [],
      "source": [
        "# You're on the right track; keep coding and stay determined."
      ]
    },
    {
      "cell_type": "markdown",
      "metadata": {
        "id": "EIKTmcAhbZ00"
      },
      "source": [
        "##### Hint"
      ]
    },
    {
      "cell_type": "code",
      "execution_count": null,
      "metadata": {
        "id": "gNMVWrk4bZ00"
      },
      "outputs": [],
      "source": [
        "# for _____ in characters:\n",
        "#     for character in _____:\n",
        "#         print(\"Hello \" + character)"
      ]
    },
    {
      "cell_type": "markdown",
      "metadata": {
        "id": "r8S7SAC7bZ00"
      },
      "source": [
        "#### Exercise 9"
      ]
    },
    {
      "cell_type": "markdown",
      "metadata": {
        "id": "8d-IfDLn-IJ7"
      },
      "source": [
        "Tweak the code of the previous exercise to greet characters based on these conditions:\n",
        "\n",
        "- If their name is composed of two words (Name Surname), the greeting should be \"Hello Name, from the house of Surname\".\n",
        "\n",
        "- If their first (or only) name is shorter than 6 characters, the greeting should replicate the last letter of the name as many times as needed until it reaches 6 characters."
      ]
    },
    {
      "cell_type": "code",
      "execution_count": null,
      "metadata": {
        "id": "XN4BwD-A-IJ7"
      },
      "outputs": [],
      "source": [
        "# Solve it with code!"
      ]
    },
    {
      "cell_type": "markdown",
      "metadata": {
        "id": "XE-JPtxObZ01"
      },
      "source": [
        "##### Hint"
      ]
    },
    {
      "cell_type": "code",
      "execution_count": null,
      "metadata": {
        "id": "irWnWdRJbZ01"
      },
      "outputs": [],
      "source": [
        "# for _____ in characters:\n",
        "#     for character in _____:\n",
        "#         list_of_names = _____.split(\" \")\n",
        "#         first_name = _________\n",
        "#         while _____(first_name) < _:\n",
        "#             first_name += first_name[_]\n",
        "#         if len(_____) == 1:\n",
        "#             print(f\"Hello {first_name}!\")\n",
        "#         else:\n",
        "#             print(f\"Hello {first_name}, from the house of {list_of_names[_]}\")"
      ]
    }
  ],
  "metadata": {
    "colab": {
      "collapsed_sections": [
        "lhk-k_vBbZ0v",
        "YTG529_VbZ0v",
        "pTG-vZSqbZ0w",
        "PIgnuWwTbZ0x",
        "fGTgVBEXbZ0x",
        "WWvCji5UbZ0y",
        "V2b-hc5wbZ0z",
        "EIKTmcAhbZ00",
        "XE-JPtxObZ01"
      ],
      "provenance": [],
      "toc_visible": true
    },
    "kernelspec": {
      "display_name": "Python 3 (ipykernel)",
      "language": "python",
      "name": "python3"
    },
    "language_info": {
      "codemirror_mode": {
        "name": "ipython",
        "version": 3
      },
      "file_extension": ".py",
      "mimetype": "text/x-python",
      "name": "python",
      "nbconvert_exporter": "python",
      "pygments_lexer": "ipython3",
      "version": "3.9.12"
    }
  },
  "nbformat": 4,
  "nbformat_minor": 0
}