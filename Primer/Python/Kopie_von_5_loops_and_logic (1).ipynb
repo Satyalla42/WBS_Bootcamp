{
  "nbformat": 4,
  "nbformat_minor": 0,
  "metadata": {
    "colab": {
      "provenance": [],
      "collapsed_sections": [
        "-wVr8NGrVBO0",
        "xdcwCUfTWul0",
        "Mr82QpsJm2Hj",
        "5rZRqDyam2Hk",
        "qrVqrpy4phmA",
        "2K84xnN1phmA",
        "EMInUKgtruDq",
        "V9DOTOe6ruDr",
        "AVIk3flEwqlR",
        "BSrR7gb5wqlS",
        "i6Ugpv2wK4Vm",
        "m7kAykZpNHNt",
        "folp3TAfoZ8Z",
        "FJ7lMs44CNRP",
        "p_BEJAq6GD4k"
      ],
      "toc_visible": true
    },
    "kernelspec": {
      "name": "python3",
      "display_name": "Python 3"
    },
    "language_info": {
      "name": "python"
    }
  },
  "cells": [
    {
      "cell_type": "markdown",
      "source": [
        "We are now reaching a point where it is often just as difficult to think through a problem as it is to code the solutions. As you go through the following exercises, you may find it helpful after reading the challenge to ask yourself,\n",
        "> What would I need to do, step by step, to accomplish this task without a computer?\n",
        "\n",
        "Maybe it helps to pull out a pencil and paper and pay attention as you solve a problem by hand. You can then write down your actions as steps and translate each step into one or two lines of code."
      ],
      "metadata": {
        "id": "Sa9Z8BF9QKyR"
      }
    },
    {
      "cell_type": "markdown",
      "source": [
        "Take as an example this challenge:\n",
        "> Print all the numbers from 1 to 50 that are divisible by 7.\n",
        "\n",
        "A step-by-step plan may look like this:\n",
        "1. Start at the number 1\n",
        "2. Test if 1 is divisible by 7\n",
        "    * this would mean that `1/7` is an integer\n",
        "    * or that the remainder of `1/7` is `0` (remainders can be found with the modulo operator `%`)\n",
        "3. If 1 is divisible by 7, print 1\n",
        "4. Increase the number by 1\n",
        "4. Repeat steps 2 and 3, each time with a higher value up to 50\n",
        "\n",
        "Broken down into code:"
      ],
      "metadata": {
        "id": "ttzXXwgmRfWC"
      }
    },
    {
      "cell_type": "code",
      "source": [
        "for number in range(1, 51): # step one; range creates a list-like of integers, but always stops one short of the upper limit\n",
        "    if number % 7 == 0: # step two\n",
        "        print(number) # step three\n",
        "        # since there is nothing to do if the number is not divisible by 7\n",
        "        # there is no need to code an elif or else statement\n",
        "# steps four and five are covered by the fact that both steps two and three are inside the loop"
      ],
      "metadata": {
        "colab": {
          "base_uri": "https://localhost:8080/"
        },
        "id": "aSrvXkVBTJ8l",
        "outputId": "e0034161-86dc-4c99-9231-82b78bf115c2"
      },
      "execution_count": null,
      "outputs": [
        {
          "output_type": "stream",
          "name": "stdout",
          "text": [
            "7\n",
            "14\n",
            "21\n",
            "28\n",
            "35\n",
            "42\n",
            "49\n"
          ]
        }
      ]
    },
    {
      "cell_type": "code",
      "source": [
        "for number in range(1,51):\n",
        "  if number % 7  == 0:\n",
        "    print(number)"
      ],
      "metadata": {
        "colab": {
          "base_uri": "https://localhost:8080/"
        },
        "id": "TNqbNMebzeoc",
        "outputId": "9f532dad-cc53-4908-af5c-c66ceea6ab75"
      },
      "execution_count": null,
      "outputs": [
        {
          "output_type": "stream",
          "name": "stdout",
          "text": [
            "7\n",
            "14\n",
            "21\n",
            "28\n",
            "35\n",
            "42\n",
            "49\n"
          ]
        }
      ]
    },
    {
      "cell_type": "markdown",
      "source": [
        "As we continue through these exercises, you'll be provided first with a break-down of the steps and a partial code to help get you started. After a few problems, you'll have just a break-down to guide you if you need it. Finally, at the end you'll be left to figure it all out on your own."
      ],
      "metadata": {
        "id": "ZEVcsr5mo7rt"
      }
    },
    {
      "cell_type": "markdown",
      "source": [
        "## A reminder about loops\n",
        "\n",
        "Remember, there are two types of loops in Python:\n",
        "- `for` loops are used to iterate over a **specific range of values** or **items in a collection** (e.g., list or string).\n",
        "\n",
        "- `while` loops are used to keep iterating **as long as a certain condition remains true**.\n",
        "\n",
        "In some cases, either type of loop can be used, but one may be more appropriate logically, depending on the situation.\n",
        "\n",
        ">**Note:** You might find that visualizing the execution of your loop step-by-step helps troubleshoot. We recommend [this tool](https://pythontutor.com/render.html#mode=edit) if you want to do so."
      ],
      "metadata": {
        "id": "MXXHqJBAJC1v"
      }
    },
    {
      "cell_type": "markdown",
      "source": [
        "## Part one: plans and code hints"
      ],
      "metadata": {
        "id": "exi-WpIOsLIF"
      }
    },
    {
      "cell_type": "markdown",
      "source": [
        "### Exercise 1\n",
        "\n",
        "Ask the user for a number. If that number is less than or equal to 100, ask for a bigger number. Repeat until the user enters a number larger than 100, then print \"Thank you!\""
      ],
      "metadata": {
        "id": "gPNDAgisILS_"
      }
    },
    {
      "cell_type": "markdown",
      "source": [
        "##### Plan:"
      ],
      "metadata": {
        "id": "RpAzXA1G1I8W"
      }
    },
    {
      "cell_type": "markdown",
      "source": [
        "*You can write you own steps here!*\n",
        "\n",
        "\n",
        "ask for number\n",
        "number <= 100 ---> ask for bigger number\n",
        "number <= 100 --> ask for bigger number\n",
        "number > 100 --> stops, print thank you"
      ],
      "metadata": {
        "id": "akBYnmZ3pmAW"
      }
    },
    {
      "cell_type": "markdown",
      "source": [
        "##### Answer:"
      ],
      "metadata": {
        "id": "cfBY4shH9rM4"
      }
    },
    {
      "cell_type": "code",
      "source": [
        "count = 0\n",
        "while True:\n",
        "  random_number = int(input(\"Please enter a number \"))\n",
        "  if random_number <= 100:\n",
        "   print(\"Please enter a larger number \")\n",
        "  else:\n",
        "    print(\"Thank you\")\n",
        "    break\n",
        "\n"
      ],
      "metadata": {
        "id": "0eTvYEr62NpI",
        "colab": {
          "base_uri": "https://localhost:8080/"
        },
        "outputId": "fb23e608-43ad-4811-d76a-6bdbd5c0ccc6"
      },
      "execution_count": null,
      "outputs": [
        {
          "output_type": "stream",
          "name": "stdout",
          "text": [
            "Please enter a number 3\n",
            "Please enter a larger number \n",
            "Please enter a number 66\n",
            "Please enter a larger number \n",
            "Please enter a number 33\n",
            "Please enter a larger number \n",
            "Please enter a number 200\n",
            "Thank you\n"
          ]
        }
      ]
    },
    {
      "cell_type": "code",
      "source": [
        "nr = int(input(\"Please enter a number: \"))\n",
        "while True:\n",
        "  if nr > 100:\n",
        "    print(\"Thank you!\")\n",
        "    break\n",
        "  else:\n",
        "    nr= int(input(\"Please enter a greater number \"))"
      ],
      "metadata": {
        "id": "BiORNVTDTy7f"
      },
      "execution_count": null,
      "outputs": []
    },
    {
      "cell_type": "markdown",
      "source": [
        "##### Suggested plan:"
      ],
      "metadata": {
        "id": "-wVr8NGrVBO0"
      }
    },
    {
      "cell_type": "markdown",
      "source": [
        "1. Ask for user input\n",
        "2. Check if input <= 100\n",
        "3. If yes, ask for bigger number\n",
        "4. Repeat steps 1 through 3 until no\n",
        "5. Print \"Thank you!\""
      ],
      "metadata": {
        "id": "A8rlAQoxVIuj"
      }
    },
    {
      "cell_type": "markdown",
      "source": [
        "##### Code hint"
      ],
      "metadata": {
        "id": "xdcwCUfTWul0"
      }
    },
    {
      "cell_type": "code",
      "source": [
        "# while _____:\n",
        "#     number = int(input(\"Enter a number: \"))\n",
        "#     if _____ <= 100:\n",
        "#         print(\"Please enter a larger number!\")\n",
        "#     else:\n",
        "#         print(\"Thank you\")\n",
        "#         _____"
      ],
      "metadata": {
        "id": "DyZ1X2l3W01y"
      },
      "execution_count": null,
      "outputs": []
    },
    {
      "cell_type": "markdown",
      "source": [
        "### Exercise 2\n",
        "\n",
        "Print the first 10 terms of the Fibonacci sequence. The first two terms are `[0, 1]`, and each subsequent term is the sum of the previous two terms."
      ],
      "metadata": {
        "id": "sxzf0t41KXXX"
      }
    },
    {
      "cell_type": "markdown",
      "source": [
        "##### Plan:"
      ],
      "metadata": {
        "id": "2Dl15YK5U2XR"
      }
    },
    {
      "cell_type": "markdown",
      "source": [
        "*You can write you own steps here!*\n",
        "\n",
        "\n",
        "\n",
        "\n",
        "*   0 , 1, 1, 2, 3, 5, 8 , 13, 21, 34, 55\n",
        "*   1\n",
        "*   [0] + [1] = 1\n",
        "*   [1] + [2] = 2\n",
        "*   [2] + [3] = 3\n",
        "*   [3] + [4] = 5\n",
        "\n",
        "\n",
        "\n"
      ],
      "metadata": {
        "id": "DpTjpFUGgo7K"
      }
    },
    {
      "cell_type": "markdown",
      "source": [
        "##### Answer:"
      ],
      "metadata": {
        "id": "Dv7lN02fWb_R"
      }
    },
    {
      "cell_type": "code",
      "source": [
        "fibonacci = [0, 1]\n",
        "\n",
        "while len(fibonacci) < 11:\n",
        "  next_number = fibonacci[-1] + fibonacci[-2]\n",
        "  fibonacci.append(next_number)\n",
        "print(fibonacci)"
      ],
      "metadata": {
        "id": "MCGQvcNcoaKQ",
        "colab": {
          "base_uri": "https://localhost:8080/"
        },
        "outputId": "1ae7eb3e-71d5-4650-e81d-c0acc88088c1"
      },
      "execution_count": null,
      "outputs": [
        {
          "output_type": "stream",
          "name": "stdout",
          "text": [
            "[0, 1, 1, 2, 3, 5, 8, 13, 21, 34, 55]\n"
          ]
        }
      ]
    },
    {
      "cell_type": "code",
      "source": [
        "fibonacci = [0, 1]\n",
        "while len(fibonacci) < 10:\n",
        "  new_num = fibonacci[-1] + fibonacci [-2]\n",
        "  fibonacci += [new_num]\n",
        "print(fibonacci)"
      ],
      "metadata": {
        "colab": {
          "base_uri": "https://localhost:8080/"
        },
        "id": "ocqCi-XoTtP0",
        "outputId": "197cee08-7bce-4ae3-8367-a34cbc61a2be"
      },
      "execution_count": null,
      "outputs": [
        {
          "output_type": "stream",
          "name": "stdout",
          "text": [
            "[0, 1, 1, 2, 3, 5, 8, 13, 21, 34]\n"
          ]
        }
      ]
    },
    {
      "cell_type": "markdown",
      "source": [
        "##### Suggested plan:"
      ],
      "metadata": {
        "id": "Mr82QpsJm2Hj"
      }
    },
    {
      "cell_type": "markdown",
      "source": [
        "1. Create a list `[0, 1]`\n",
        "2. Read the last two numbers of the list\n",
        "3. Add those numbers together\n",
        "4. Add that sum to the list\n",
        "5. Check if the list has 10 items\n",
        "6. If not, repeat steps 2-5\n",
        "7. Print the 10 items in the list"
      ],
      "metadata": {
        "id": "dJwGp7N5m2Hk"
      }
    },
    {
      "cell_type": "markdown",
      "source": [
        "##### Code hint"
      ],
      "metadata": {
        "id": "5rZRqDyam2Hk"
      }
    },
    {
      "cell_type": "code",
      "source": [
        "# fibonacci_list = ____\n",
        "\n",
        "# while ____(fibonacci_list) < ____:\n",
        "#     next_number = fibonacci_list[____] + fibonacci_list[____]\n",
        "#     fibonacci_list._____(next_number)\n",
        "\n",
        "# for ____ in ____:\n",
        "#     print(____)"
      ],
      "metadata": {
        "id": "-H0zgCSam2Hk"
      },
      "execution_count": null,
      "outputs": []
    },
    {
      "cell_type": "markdown",
      "source": [
        "### Exercise 3\n",
        "\n",
        "Ask the user to enter numbers. Once they enter 0, print the sum of all the entered numbers."
      ],
      "metadata": {
        "id": "wxkz9LRNLtCs"
      }
    },
    {
      "cell_type": "markdown",
      "source": [
        "##### Plan:"
      ],
      "metadata": {
        "id": "Qj0YOcnDXzvu"
      }
    },
    {
      "cell_type": "markdown",
      "source": [
        "*You can write you own steps here!*\n",
        "\n",
        "\n",
        "- input enter number 1\n",
        "- if number 1 > 0 enter another number\n",
        "- if new number > 0 enter another number\n",
        "- if 0 break\n"
      ],
      "metadata": {
        "id": "M2wD3stOpW2F"
      }
    },
    {
      "cell_type": "markdown",
      "source": [
        "##### Answer:"
      ],
      "metadata": {
        "id": "O1eGpqLAYUcH"
      }
    },
    {
      "cell_type": "code",
      "source": [
        "total = 0\n",
        "while True:\n",
        "  number  = float(input(\"Enter a random number \"))\n",
        "  if number <= 0:\n",
        "    break\n",
        "  total += number\n",
        "print(total)\n",
        "\n",
        "\n",
        "# ____ = 0\n",
        "\n",
        "# while ____:\n",
        "#     num = float(____(\"Enter a number (or 0 to exit): \"))\n",
        "#     if _________:\n",
        "#         break\n",
        "#     else:\n",
        "#         ____ += ____\n",
        "\n",
        "# print(____)"
      ],
      "metadata": {
        "id": "pzZeKvlNYWse",
        "colab": {
          "base_uri": "https://localhost:8080/"
        },
        "outputId": "d7069ee6-069b-4247-cf91-9f0174101f27"
      },
      "execution_count": null,
      "outputs": [
        {
          "output_type": "stream",
          "name": "stdout",
          "text": [
            "Enter a random number 66\n",
            "Enter a random number 44\n",
            "Enter a random number 6\n",
            "Enter a random number -5\n",
            "116.0\n"
          ]
        }
      ]
    },
    {
      "cell_type": "code",
      "source": [
        "-----------------\n",
        "total_sum = 0\n",
        "while True:\n",
        "  number = float(input(\"Please enter a number or enter 0 to exit: \"))\n",
        "  if number == 0:\n",
        "    break\n",
        "  else:\n",
        "    total_sum += number\n",
        "print(total_sum)\n"
      ],
      "metadata": {
        "id": "csNdvuOSWrto"
      },
      "execution_count": null,
      "outputs": []
    },
    {
      "cell_type": "markdown",
      "source": [
        "##### Suggested plan:"
      ],
      "metadata": {
        "id": "qrVqrpy4phmA"
      }
    },
    {
      "cell_type": "markdown",
      "source": [
        "1. Start with a sum of `0`\n",
        "2. Ask the user for a number\n",
        "3. Check if that number equals `0`\n",
        "4. If not, add the number to the sum\n",
        "5. Repeat steps 2-4 until the number equals `0`\n",
        "6. Print the sum"
      ],
      "metadata": {
        "id": "6vysBFAyphmA"
      }
    },
    {
      "cell_type": "markdown",
      "source": [
        "##### Code hint"
      ],
      "metadata": {
        "id": "2K84xnN1phmA"
      }
    },
    {
      "cell_type": "code",
      "source": [
        "# ____ = 0\n",
        "\n",
        "# while ____:\n",
        "#     num = float(____(\"Enter a number (or 0 to exit): \"))\n",
        "#     if _________:\n",
        "#         break\n",
        "#     else:\n",
        "#         ____ += ____\n",
        "\n",
        "# print(____)"
      ],
      "metadata": {
        "id": "Obr9V_6qphmA"
      },
      "execution_count": null,
      "outputs": []
    },
    {
      "cell_type": "markdown",
      "source": [
        "### Exercise 4\n",
        "\n",
        "Print the square of each number from 1 to a user-defined number `n` (inclusive)."
      ],
      "metadata": {
        "id": "DTI0LOfEMdj-"
      }
    },
    {
      "cell_type": "markdown",
      "source": [
        "##### Plan:"
      ],
      "metadata": {
        "id": "ZLPCBJ0jY97z"
      }
    },
    {
      "cell_type": "markdown",
      "source": [
        "*You can write you own steps here!*"
      ],
      "metadata": {
        "id": "z2MZYVOvrcfv"
      }
    },
    {
      "cell_type": "markdown",
      "source": [
        "##### Answer:"
      ],
      "metadata": {
        "id": "ypXqHNEzZ3Ot"
      }
    },
    {
      "cell_type": "code",
      "source": [
        "# n = 5\n",
        "for n in range(6):\n",
        "  print(n**2)"
      ],
      "metadata": {
        "id": "UbvGETtHZ2jd",
        "colab": {
          "base_uri": "https://localhost:8080/"
        },
        "outputId": "9e181dcc-16d4-43d6-c699-4169bd36a252"
      },
      "execution_count": null,
      "outputs": [
        {
          "output_type": "stream",
          "name": "stdout",
          "text": [
            "0\n",
            "1\n",
            "4\n",
            "9\n",
            "16\n",
            "25\n"
          ]
        }
      ]
    },
    {
      "cell_type": "code",
      "source": [
        "n = int(input(\"Enter a number: \"))\n",
        "for s in range(1,n):\n",
        "  print(s**2)"
      ],
      "metadata": {
        "id": "ImYog72VY87x"
      },
      "execution_count": null,
      "outputs": []
    },
    {
      "cell_type": "markdown",
      "source": [
        "##### Suggested plan:"
      ],
      "metadata": {
        "id": "EMInUKgtruDq"
      }
    },
    {
      "cell_type": "markdown",
      "source": [
        "1. Ask the user for a number\n",
        "2. Define a range from to that number\n",
        "3. For each number in the range, print it's square value"
      ],
      "metadata": {
        "id": "Rt37oHXUruDq"
      }
    },
    {
      "cell_type": "markdown",
      "source": [
        "##### Code hint"
      ],
      "metadata": {
        "id": "V9DOTOe6ruDr"
      }
    },
    {
      "cell_type": "code",
      "source": [
        "# n = ____(\"_______\")\n",
        "# for i in range(1, _____):\n",
        "#     print(i ____ 2)"
      ],
      "metadata": {
        "id": "zxT0QenmruDr"
      },
      "execution_count": null,
      "outputs": []
    },
    {
      "cell_type": "markdown",
      "source": [
        "### Exercise 5\n",
        "\n",
        "Ask the user to guess a random number between 1 and 50 (inclusive). Give feedback on whether the guess is too high, too low, or correct. Keep asking until the user guesses the correct number.\n",
        "\n",
        "Extra challenge:  keep a count of how many guesses your user needed."
      ],
      "metadata": {
        "id": "72QaZdOpM85W"
      }
    },
    {
      "cell_type": "markdown",
      "source": [
        "##### Plan:"
      ],
      "metadata": {
        "id": "CCszPXm1rhdo"
      }
    },
    {
      "cell_type": "markdown",
      "source": [
        "*You can write you own steps here!*"
      ],
      "metadata": {
        "id": "pUTGBaifq18m"
      }
    },
    {
      "cell_type": "markdown",
      "source": [
        "##### Answer:"
      ],
      "metadata": {
        "id": "z1T5-V16TBeE"
      }
    },
    {
      "cell_type": "code",
      "source": [
        "count = 0\n",
        "target_number = 20\n",
        "\n",
        "while True:\n",
        "    guessed_number = float(input(\"Guess a random number \"))\n",
        "\n",
        "    if guessed_number > target_number:\n",
        "      print(\"You guessed too high\")\n",
        "    elif guessed_number < target_number:\n",
        "      print(\"You guessed too low\")\n",
        "    else:\n",
        "      print(\"You guessed right\")\n",
        "      break\n",
        "\n",
        "    count += 1\n",
        "print(f\"You guessed correctly in {count} tries!\")\n"
      ],
      "metadata": {
        "id": "f6p7fPy2TAx3",
        "colab": {
          "base_uri": "https://localhost:8080/"
        },
        "outputId": "c4e0a827-4797-47b8-876a-b631d2f8d2bb"
      },
      "execution_count": null,
      "outputs": [
        {
          "output_type": "stream",
          "name": "stdout",
          "text": [
            "Guess a random number 5\n",
            "You guessed too low\n",
            "Guess a random number 33\n",
            "You guessed too high\n",
            "Guess a random number 6664\n",
            "You guessed too high\n",
            "Guess a random number 20\n",
            "You guessed right\n",
            "You guessed correctly in 3 tries!\n"
          ]
        }
      ]
    },
    {
      "cell_type": "code",
      "source": [
        "count = 0\n",
        "import random\n",
        "random_number = random.randint(1, 50)\n",
        "while True:\n",
        "  guessed = float(input(\"Enter a number between 1 and 50: \"))\n",
        "  if guessed > random_number:\n",
        "    print(f\"{guessed} is too high\")\n",
        "  elif random_number == guessed:\n",
        "    print(f\"Correct, the number is {guessed}\")\n",
        "    break\n",
        "  else:\n",
        "    print(f\"{guessed} too low\")\n",
        "  count += 1\n",
        "print(f\"You guessed correctly in {count} tries!\")"
      ],
      "metadata": {
        "colab": {
          "base_uri": "https://localhost:8080/"
        },
        "id": "RtJBcyzJg9e_",
        "outputId": "14387a4b-f83d-479a-b99f-e5642410e349"
      },
      "execution_count": null,
      "outputs": [
        {
          "output_type": "stream",
          "name": "stdout",
          "text": [
            "Enter a number between 1 and 50: 16\n",
            "16.0 too low\n",
            "Enter a number between 1 and 50: 40\n",
            "40.0 too low\n",
            "Enter a number between 1 and 50: 45\n",
            "45.0 is too high\n",
            "Enter a number between 1 and 50: 43\n",
            "43.0 too low\n",
            "Enter a number between 1 and 50: 44\n",
            "Correct, the number is 44.0\n",
            "You guessed correctly in 4 tries!\n"
          ]
        }
      ]
    },
    {
      "cell_type": "markdown",
      "source": [
        "##### Suggested plan:"
      ],
      "metadata": {
        "id": "AVIk3flEwqlR"
      }
    },
    {
      "cell_type": "markdown",
      "source": [
        "1. Randomly pick a number between 1 and 50\n",
        "2. Ask the user to guess a number\n",
        "3. Check if the guess matches the randomly picked number\n",
        "4. If the guess is lower, say so\n",
        "5. If the guess is higher, say so\n",
        "6. Repeat steps 2-5 until the guess is correct\n",
        "7. Let the user know they guessed correctly"
      ],
      "metadata": {
        "id": "4tez9zYJwqlS"
      }
    },
    {
      "cell_type": "markdown",
      "source": [
        "##### Code hint"
      ],
      "metadata": {
        "id": "BSrR7gb5wqlS"
      }
    },
    {
      "cell_type": "code",
      "source": [
        "# import ____\n",
        "# target_number = ____.____(1, 50)\n",
        "\n",
        "# while ____:\n",
        "#     guess = ____(input(\"Guess the number (between 1 and 50): \"))\n",
        "\n",
        "#     ____ guess < target_number:\n",
        "#         print(\"________\")\n",
        "#     ____ guess > target_number:\n",
        "#         print(\"________\")\n",
        "#     ___:\n",
        "#         print(\"Correct!\")\n",
        "#         _____"
      ],
      "metadata": {
        "id": "9xh-U_jEwqlS"
      },
      "execution_count": null,
      "outputs": []
    },
    {
      "cell_type": "markdown",
      "source": [
        "## Part two: just plans"
      ],
      "metadata": {
        "id": "Y5HdzRwPsWCZ"
      }
    },
    {
      "cell_type": "markdown",
      "source": [
        "### Exercise 6\n",
        "\n",
        "Create a program that generates a multiplication table from 1 to 10, i.e. for each number from 1 to 10, show the multiples of that number by the numbers 1 to 10."
      ],
      "metadata": {
        "id": "8uc2abb8qW20"
      }
    },
    {
      "cell_type": "code",
      "source": [
        "n_1 = 1\n",
        "\n",
        "while True:\n",
        "  n_1 = n_1 + 1\n",
        "  n_2 = 1\n",
        "  while n"
      ],
      "metadata": {
        "id": "6sqr7_SlwppX"
      },
      "execution_count": null,
      "outputs": []
    },
    {
      "cell_type": "code",
      "source": [
        "weight = float(input(\"What is your weight? \"))\n",
        "unit = input(\"(K)g or (L)bs\")\n",
        "if unit.upper() == \"K\":\n",
        "  converted = weight / 0.45\n",
        "  print(converted)\n",
        "else:\n",
        "  converted = weight * 0.45\n",
        "  print(converted)"
      ],
      "metadata": {
        "colab": {
          "base_uri": "https://localhost:8080/"
        },
        "id": "de-4jYgJmmwG",
        "outputId": "0cd08583-c638-47de-8be1-f5b3efa939c0"
      },
      "execution_count": null,
      "outputs": [
        {
          "output_type": "stream",
          "name": "stdout",
          "text": [
            "What is your weight? 55\n",
            "(K)g or (L)bsl\n",
            "24.75\n"
          ]
        }
      ]
    },
    {
      "cell_type": "code",
      "source": [],
      "metadata": {
        "id": "b6LoZILAwf21"
      },
      "execution_count": null,
      "outputs": []
    },
    {
      "cell_type": "markdown",
      "source": [
        "##### Plan:"
      ],
      "metadata": {
        "id": "PaHeK7PCU82Y"
      }
    },
    {
      "cell_type": "markdown",
      "source": [
        "*You can write you own steps here!*"
      ],
      "metadata": {
        "id": "hUd63v3_rKCm"
      }
    },
    {
      "cell_type": "markdown",
      "source": [
        "\n",
        "##### Answer:"
      ],
      "metadata": {
        "id": "4uyFjAAmVrYw"
      }
    },
    {
      "cell_type": "code",
      "source": [
        "\n",
        "n_1 = 1\n",
        "\n",
        "while n_1 <= 10:\n",
        "  n_2 = 1\n",
        "  while n_2 <= 10:\n",
        "      print(n_1 * n_2, end=\" \")\n",
        "      n_2 += 1\n",
        "  print()\n",
        "  n_1+= 1\n",
        "\n"
      ],
      "metadata": {
        "collapsed": true,
        "id": "nIMxtdaKVtZn",
        "colab": {
          "base_uri": "https://localhost:8080/"
        },
        "outputId": "f079d882-2d3b-4d78-a610-be114f8aebe4"
      },
      "execution_count": null,
      "outputs": [
        {
          "output_type": "stream",
          "name": "stdout",
          "text": [
            "1 2 3 4 5 6 7 8 9 10 \n",
            "2 4 6 8 10 12 14 16 18 20 \n",
            "3 6 9 12 15 18 21 24 27 30 \n",
            "4 8 12 16 20 24 28 32 36 40 \n",
            "5 10 15 20 25 30 35 40 45 50 \n",
            "6 12 18 24 30 36 42 48 54 60 \n",
            "7 14 21 28 35 42 49 56 63 70 \n",
            "8 16 24 32 40 48 56 64 72 80 \n",
            "9 18 27 36 45 54 63 72 81 90 \n",
            "10 20 30 40 50 60 70 80 90 100 \n"
          ]
        }
      ]
    },
    {
      "cell_type": "markdown",
      "source": [
        "##### Suggested plan:"
      ],
      "metadata": {
        "id": "i6Ugpv2wK4Vm"
      }
    },
    {
      "cell_type": "markdown",
      "source": [
        "1. Start with two numbers, both equal to `1`\n",
        "2. Print the product of those two numbers\n",
        "3. Increase the value of the _second number_ by 1\n",
        "4. Repeat steps 2-3 until the _second number_ has the value `10`\n",
        "5. Increase the value of the _first number_ by 1\n",
        "6. Repeat steps 4-5 until the _first number_ has the value 10"
      ],
      "metadata": {
        "id": "JCiSWvGiK4Vm"
      }
    },
    {
      "cell_type": "markdown",
      "source": [
        "### Exercise 7\n",
        "\n",
        "For a list of words, print out each word one character at a time. If you encounter the character `'a'`, stop and move on to the next word."
      ],
      "metadata": {
        "id": "h0GBuQpcq2LB"
      }
    },
    {
      "cell_type": "markdown",
      "source": [
        "##### Plan:"
      ],
      "metadata": {
        "id": "yT1JPP5gWZUL"
      }
    },
    {
      "cell_type": "markdown",
      "source": [
        "*You can write you own steps here!*"
      ],
      "metadata": {
        "id": "oAZEYujusRQW"
      }
    },
    {
      "cell_type": "markdown",
      "source": [
        "##### Answer:"
      ],
      "metadata": {
        "id": "g1kpTugUYMc5"
      }
    },
    {
      "cell_type": "code",
      "source": [
        "words = [\"heart\", \"lesson\", \"love\", \"python\", \"hate\"]\n",
        "for word in words:\n",
        "  for char in word:\n",
        "    if char == \"a\":\n",
        "      break\n",
        "    else:\n",
        "      print(char)\n",
        "\n"
      ],
      "metadata": {
        "id": "QxiWfHD5YOCb",
        "colab": {
          "base_uri": "https://localhost:8080/"
        },
        "collapsed": true,
        "outputId": "8b12680c-94f9-4e29-ccfc-8938c3ef419d"
      },
      "execution_count": null,
      "outputs": [
        {
          "output_type": "stream",
          "name": "stdout",
          "text": [
            "h\n",
            "e\n",
            "l\n",
            "e\n",
            "s\n",
            "s\n",
            "o\n",
            "n\n",
            "l\n",
            "o\n",
            "v\n",
            "e\n",
            "p\n",
            "y\n",
            "t\n",
            "h\n",
            "o\n",
            "n\n",
            "h\n"
          ]
        }
      ]
    },
    {
      "cell_type": "code",
      "source": [
        "words = [\"health\", \"heart\", \"lung\", \"brain\", \"kidney\"]\n",
        "for word in words:\n",
        "  for char in word:\n",
        "    if char == \"a\":\n",
        "      break\n",
        "    print(char)"
      ],
      "metadata": {
        "id": "DioYUD2a30WP"
      },
      "execution_count": null,
      "outputs": []
    },
    {
      "cell_type": "markdown",
      "source": [
        "##### Suggested plan:"
      ],
      "metadata": {
        "id": "m7kAykZpNHNt"
      }
    },
    {
      "cell_type": "markdown",
      "source": [
        "1. Create a list of words\n",
        "2. Focus on the first word\n",
        "3. Check the first letter of that word\n",
        "4. If the letter is equal to `'a'`, go back to step 2, focusing on the next word\n",
        "5. If not, print the letter\n",
        "6. Move on to the next letter and repeat steps 3-5\n",
        "7. After the word's last letter, move on the next word, starting at step 2"
      ],
      "metadata": {
        "id": "c7VsnaReNHN0"
      }
    },
    {
      "cell_type": "markdown",
      "source": [
        "### Exercise 8\n",
        "\n",
        "\n",
        "Calculate the factorial of `factor_number` below. The factorial of `n` is defined as the product of all integers from 1 to n and is denoted as `n!`.\n",
        "\n",
        "Change the value of `factor_number` to check if your calculation is working properly.\n",
        "\n",
        "\\begin{align}\n",
        "5! &= 120 \\newline\n",
        "7! &= 5040 \\newline\n",
        "13! &= 6227020800 \\newline\n",
        "25! &= 15511210043330985984000000\n",
        "\\end{align}"
      ],
      "metadata": {
        "id": "ALUa4rzFHogE"
      }
    },
    {
      "cell_type": "markdown",
      "source": [
        "##### Plan:"
      ],
      "metadata": {
        "id": "DAaG_biHzhtc"
      }
    },
    {
      "cell_type": "markdown",
      "source": [
        "*You can write you own steps here!*"
      ],
      "metadata": {
        "id": "L7GTe0xUzhtl"
      }
    },
    {
      "cell_type": "markdown",
      "source": [
        "##### Answer:"
      ],
      "metadata": {
        "id": "bFrCaHy5NU-U"
      }
    },
    {
      "cell_type": "code",
      "source": [
        "factor_number = 25\n",
        "factorial = 1\n",
        "for i in range(1,factor_number + 1):\n",
        "  factorial *= i\n",
        "  print(f\"Step: {i}: {factorial}\")"
      ],
      "metadata": {
        "id": "-rL7rvzwBiYR",
        "colab": {
          "base_uri": "https://localhost:8080/"
        },
        "outputId": "d48bb7aa-46ce-48bb-ad21-0c10295ca47e"
      },
      "execution_count": null,
      "outputs": [
        {
          "output_type": "stream",
          "name": "stdout",
          "text": [
            "Step: 1: 1\n",
            "Step: 2: 2\n",
            "Step: 3: 6\n",
            "Step: 4: 24\n",
            "Step: 5: 120\n",
            "Step: 6: 720\n",
            "Step: 7: 5040\n",
            "Step: 8: 40320\n",
            "Step: 9: 362880\n",
            "Step: 10: 3628800\n",
            "Step: 11: 39916800\n",
            "Step: 12: 479001600\n",
            "Step: 13: 6227020800\n",
            "Step: 14: 87178291200\n",
            "Step: 15: 1307674368000\n",
            "Step: 16: 20922789888000\n",
            "Step: 17: 355687428096000\n",
            "Step: 18: 6402373705728000\n",
            "Step: 19: 121645100408832000\n",
            "Step: 20: 2432902008176640000\n",
            "Step: 21: 51090942171709440000\n",
            "Step: 22: 1124000727777607680000\n",
            "Step: 23: 25852016738884976640000\n",
            "Step: 24: 620448401733239439360000\n",
            "Step: 25: 15511210043330985984000000\n"
          ]
        }
      ]
    },
    {
      "cell_type": "markdown",
      "source": [
        "##### Suggested plan:"
      ],
      "metadata": {
        "id": "4cEaesMvzmUm"
      }
    },
    {
      "cell_type": "markdown",
      "source": [
        "1. Create the variable `factor_number` with the value `5`\n",
        "2. Create a variable `factorial` with the value `1`\n",
        "3. Create a range of integers from 1 to the value of `factor_number`\n",
        "4. Multiply `factorial` successively by each value in the range\n",
        "5. Display the value of `factorial`\n",
        "6. Change the value of `factor_number` and run the code again"
      ],
      "metadata": {
        "id": "pW4yoDM4zmUt"
      }
    },
    {
      "cell_type": "markdown",
      "source": [
        "##### **Bonus Challenge:**"
      ],
      "metadata": {
        "id": "SyloLbKPBVog"
      }
    },
    {
      "cell_type": "markdown",
      "source": [
        "Write a function named `factorial` with one argument that represents `factor_number`.  We'll cover functions more in week two of the bootcamp, but if you want to read up on them and try, here's a spot to do it! 😀"
      ],
      "metadata": {
        "id": "N6--QgMl3IGH"
      }
    },
    {
      "cell_type": "code",
      "execution_count": null,
      "metadata": {
        "id": "WOIFMO8-qFAx"
      },
      "outputs": [],
      "source": [
        "factorial = factor_number^5"
      ]
    },
    {
      "cell_type": "markdown",
      "source": [
        "### Exercise 9\n",
        "\n",
        "Using `my_dict` below, perform the following opertaions:\n",
        "- pass over values with a length of 3\n",
        "- print the first and last elements of values with a length of 6\n",
        "- if the value is a number, print if it is greater, less than or equal to 100\n",
        "- print the datatype of any other values"
      ],
      "metadata": {
        "id": "0dfsfW_dq89g"
      }
    },
    {
      "cell_type": "code",
      "source": [
        "my_dict = {\n",
        "    'first': (\"don't\", \"go\", \"alone\"),\n",
        "    'second': 100.000,\n",
        "    'third': \"cheese\",\n",
        "    'fourth': {'a','e','i','o','u'}\n",
        "}\n",
        "for key, value in my_dict.items():\n",
        "  if char.index == 3:\n",
        "    continue\n",
        "  if len(value) == 6:\n",
        "    print(f\"{value}\")\n",
        "  if isinstance(value,float):\n",
        "    print(f\"{value}\")\n",
        "  print(my_dict)"
      ],
      "metadata": {
        "id": "9IGqgXGLHskE",
        "colab": {
          "base_uri": "https://localhost:8080/",
          "height": 216
        },
        "outputId": "c7ce4f94-33e7-49a0-b2b0-043ed2810790"
      },
      "execution_count": null,
      "outputs": [
        {
          "output_type": "error",
          "ename": "NameError",
          "evalue": "name 'char' is not defined",
          "traceback": [
            "\u001b[0;31m---------------------------------------------------------------------------\u001b[0m",
            "\u001b[0;31mNameError\u001b[0m                                 Traceback (most recent call last)",
            "\u001b[0;32m<ipython-input-16-b78a3ed32dff>\u001b[0m in \u001b[0;36m<cell line: 0>\u001b[0;34m()\u001b[0m\n\u001b[1;32m      6\u001b[0m }\n\u001b[1;32m      7\u001b[0m \u001b[0;32mfor\u001b[0m \u001b[0mkey\u001b[0m\u001b[0;34m,\u001b[0m \u001b[0mvalue\u001b[0m \u001b[0;32min\u001b[0m \u001b[0mmy_dict\u001b[0m\u001b[0;34m.\u001b[0m\u001b[0mitems\u001b[0m\u001b[0;34m(\u001b[0m\u001b[0;34m)\u001b[0m\u001b[0;34m:\u001b[0m\u001b[0;34m\u001b[0m\u001b[0;34m\u001b[0m\u001b[0m\n\u001b[0;32m----> 8\u001b[0;31m   \u001b[0;32mif\u001b[0m \u001b[0mchar\u001b[0m\u001b[0;34m.\u001b[0m\u001b[0mindex\u001b[0m \u001b[0;34m==\u001b[0m \u001b[0;36m3\u001b[0m\u001b[0;34m:\u001b[0m\u001b[0;34m\u001b[0m\u001b[0;34m\u001b[0m\u001b[0m\n\u001b[0m\u001b[1;32m      9\u001b[0m     \u001b[0;32mcontinue\u001b[0m\u001b[0;34m\u001b[0m\u001b[0;34m\u001b[0m\u001b[0m\n\u001b[1;32m     10\u001b[0m   \u001b[0;32mif\u001b[0m \u001b[0mlen\u001b[0m\u001b[0;34m(\u001b[0m\u001b[0mvalue\u001b[0m\u001b[0;34m)\u001b[0m \u001b[0;34m==\u001b[0m \u001b[0;36m6\u001b[0m\u001b[0;34m:\u001b[0m\u001b[0;34m\u001b[0m\u001b[0;34m\u001b[0m\u001b[0m\n",
            "\u001b[0;31mNameError\u001b[0m: name 'char' is not defined"
          ]
        }
      ]
    },
    {
      "cell_type": "markdown",
      "source": [
        "##### Plan:"
      ],
      "metadata": {
        "id": "aaWLEBvEH65W"
      }
    },
    {
      "cell_type": "markdown",
      "source": [
        "*You can write you own steps here!*"
      ],
      "metadata": {
        "id": "0AUZpMOzH65X"
      }
    },
    {
      "cell_type": "markdown",
      "source": [
        "##### Answer:"
      ],
      "metadata": {
        "id": "YiuMseKYH65X"
      }
    },
    {
      "cell_type": "code",
      "source": [
        "my_dict = {\n",
        "    'first': (\"don't\", \"go\", \"alone\"),\n",
        "    'second': 100.000,\n",
        "    'third': \"cheese\",\n",
        "    'fourth': {'a','e','i','o','u'}}\n",
        "\n",
        "for value in my_dict.values():\n",
        "  print(value)\n",
        "  if isinstance(value, (int, float)):\n",
        "    print(value)\n",
        "  if len(value) == 3:\n",
        "    continue\n",
        "  if len(value) == 6:\n",
        "      print(value[1], value[-1])\n",
        "  print(datatype)\n",
        "\n",
        "\n"
      ],
      "metadata": {
        "id": "cFpR-LwQrX86",
        "colab": {
          "base_uri": "https://localhost:8080/",
          "height": 269
        },
        "outputId": "ec6e6ed6-b6ae-4409-b9c3-f0bd40eb8430"
      },
      "execution_count": null,
      "outputs": [
        {
          "output_type": "stream",
          "name": "stdout",
          "text": [
            "(\"don't\", 'go', 'alone')\n",
            "100.0\n",
            "100.0\n"
          ]
        },
        {
          "output_type": "error",
          "ename": "TypeError",
          "evalue": "object of type 'float' has no len()",
          "traceback": [
            "\u001b[0;31m---------------------------------------------------------------------------\u001b[0m",
            "\u001b[0;31mTypeError\u001b[0m                                 Traceback (most recent call last)",
            "\u001b[0;32m<ipython-input-1-0e55bb31d921>\u001b[0m in \u001b[0;36m<cell line: 0>\u001b[0;34m()\u001b[0m\n\u001b[1;32m      9\u001b[0m   \u001b[0;32mif\u001b[0m \u001b[0misinstance\u001b[0m\u001b[0;34m(\u001b[0m\u001b[0mvalue\u001b[0m\u001b[0;34m,\u001b[0m \u001b[0;34m(\u001b[0m\u001b[0mint\u001b[0m\u001b[0;34m,\u001b[0m \u001b[0mfloat\u001b[0m\u001b[0;34m)\u001b[0m\u001b[0;34m)\u001b[0m\u001b[0;34m:\u001b[0m\u001b[0;34m\u001b[0m\u001b[0;34m\u001b[0m\u001b[0m\n\u001b[1;32m     10\u001b[0m     \u001b[0mprint\u001b[0m\u001b[0;34m(\u001b[0m\u001b[0mvalue\u001b[0m\u001b[0;34m)\u001b[0m\u001b[0;34m\u001b[0m\u001b[0;34m\u001b[0m\u001b[0m\n\u001b[0;32m---> 11\u001b[0;31m   \u001b[0;32mif\u001b[0m \u001b[0mlen\u001b[0m\u001b[0;34m(\u001b[0m\u001b[0mvalue\u001b[0m\u001b[0;34m)\u001b[0m \u001b[0;34m==\u001b[0m \u001b[0;36m3\u001b[0m\u001b[0;34m:\u001b[0m\u001b[0;34m\u001b[0m\u001b[0;34m\u001b[0m\u001b[0m\n\u001b[0m\u001b[1;32m     12\u001b[0m     \u001b[0;32mcontinue\u001b[0m\u001b[0;34m\u001b[0m\u001b[0;34m\u001b[0m\u001b[0m\n\u001b[1;32m     13\u001b[0m   \u001b[0;32mif\u001b[0m \u001b[0mlen\u001b[0m\u001b[0;34m(\u001b[0m\u001b[0mvalue\u001b[0m\u001b[0;34m)\u001b[0m \u001b[0;34m==\u001b[0m \u001b[0;36m6\u001b[0m\u001b[0;34m:\u001b[0m\u001b[0;34m\u001b[0m\u001b[0;34m\u001b[0m\u001b[0m\n",
            "\u001b[0;31mTypeError\u001b[0m: object of type 'float' has no len()"
          ]
        }
      ]
    },
    {
      "cell_type": "markdown",
      "source": [
        "##### Suggested plan:"
      ],
      "metadata": {
        "id": "0VPyBQLsKTUx"
      }
    },
    {
      "cell_type": "markdown",
      "source": [
        "1. Loop through `my_dict`, focusing on the values; maybe just print them to be sure values are being addressed, not keys or pairs\n",
        "2. Check if the value is a number (`int` or `float`)\n",
        "    - If yes, check if it is greater, less than, or equal to 100\n",
        "    - Print a statement according to this finding\n",
        "3. If not a number, check the length of the value\n",
        "    - If 3, use a control statement to move to the next value\n",
        "    - If 6, print the first and last elements\n",
        "    - Otherwise, print the datatype of the value"
      ],
      "metadata": {
        "id": "YNm4oxBqIGaE"
      }
    },
    {
      "cell_type": "markdown",
      "source": [
        "### Exercise 10\n",
        "\n",
        "Each of the lists below contains some numbers. Ask the user to enter an operational symbol (+, -, \\*, /), and perform that operation on each list. If the user does not enter one of the listed operation symbols, ask again until they do."
      ],
      "metadata": {
        "id": "AbZDHPpJDDsd"
      }
    },
    {
      "cell_type": "code",
      "source": [
        "a = [10, 20]\n",
        "b = [3, 4]\n",
        "c = [99, 999]\n",
        "d = [20, 7]\n",
        "e = [55, 0]"
      ],
      "metadata": {
        "id": "UI_MCPTJoO3A"
      },
      "execution_count": null,
      "outputs": []
    },
    {
      "cell_type": "markdown",
      "source": [
        "##### Plan:"
      ],
      "metadata": {
        "id": "lzp9wKa3oOXk"
      }
    },
    {
      "cell_type": "markdown",
      "source": [
        "*You can write you own steps here!*"
      ],
      "metadata": {
        "id": "9vkhpvnkoOXr"
      }
    },
    {
      "cell_type": "markdown",
      "source": [
        "##### Answer:"
      ],
      "metadata": {
        "id": "ph7zhAJQoOXr"
      }
    },
    {
      "cell_type": "code",
      "source": [
        "a = [10, 20]\n",
        "b = [3, 4]\n",
        "c = [99, 999]\n",
        "d = [20, 7]\n",
        "e = [55, 0]\n",
        "\n",
        "while True:\n",
        "  operator = input(\"Please enter opration (+, -, *, /) : \")\n",
        "  if operator in (\"+\", \"-\", \"*\", \"/\"):\n",
        "    break\n",
        "  else:\n",
        "    print(\"Error\")\n",
        "\n",
        "for pair in (a, b, c, d, e):\n",
        "  if operator == \"+\":\n",
        "        print(pair[0] + pair[1])\n",
        "  elif operator == \"-\":\n",
        "        print(pair[0] - pair[1])\n",
        "  elif operator == \"*\":\n",
        "        print(pair[0] * pair[1])\n",
        "  elif operator == \"/\":\n",
        "        if pair[1] != 0:\n",
        "            print(pair[0] / pair[1])\n",
        "        else:\n",
        "            print(\"Dividing by 0 is not possible\")\n",
        "\n",
        "print(\"Good job!\")\n",
        "\n",
        "\n",
        "\n",
        "\n"
      ],
      "metadata": {
        "id": "mPiiHaG0EDPr",
        "colab": {
          "base_uri": "https://localhost:8080/"
        },
        "outputId": "4a412dec-1cb0-4567-8eba-d26a9b7de4f4"
      },
      "execution_count": null,
      "outputs": [
        {
          "output_type": "stream",
          "name": "stdout",
          "text": [
            "Please enter opration (+, -, *, /) : /\n",
            "0.5\n",
            "0.75\n",
            "0.0990990990990991\n",
            "2.857142857142857\n",
            "Dividing by 0 is not possible\n",
            "Good job!\n"
          ]
        }
      ]
    },
    {
      "cell_type": "markdown",
      "source": [
        "##### Suggested plan:"
      ],
      "metadata": {
        "id": "folp3TAfoZ8Z"
      }
    },
    {
      "cell_type": "markdown",
      "source": [
        "1. Ask user for operation\n",
        "2. Check if operation is one of (+, -, \\*, /)\n",
        "    - If not, repeat steps 1 and 2\n",
        "3. Resulting value depends on operation\n",
        "    - If \"+\" then add list elements\n",
        "    - If \"-\" then subtract list elements\n",
        "    - If \"*\" then multiply list elements\n",
        "    - If \"/\" then divide list elements\n",
        "        * Unless second element is `0`, then report error\n",
        "4. Print resulting value of operation\n",
        "5. Repeat steps 3 and 4 for all lists"
      ],
      "metadata": {
        "id": "7hkMl4bloai7"
      }
    },
    {
      "cell_type": "markdown",
      "source": [
        "## Part three: no clues"
      ],
      "metadata": {
        "id": "74lVs1hZsjwQ"
      }
    },
    {
      "cell_type": "markdown",
      "source": [
        "### Exercise 11\n",
        "\n",
        "Ask for a username and password, then check if they are valid (`True`) or not (`False`).\n",
        "\n",
        "Valid usernames and passwords are contained in `user_dict`. For the user \"admin\", *all passwords* are valid."
      ],
      "metadata": {
        "id": "3FP1Ri1kwgz3"
      }
    },
    {
      "cell_type": "code",
      "source": [
        "user_dict = {\n",
        "    \"admin\": None,\n",
        "    \"user\": \"qweasd\",\n",
        "    \"earth\": \"GaIa122!\"\n",
        "}"
      ],
      "metadata": {
        "id": "iu6Xw4OfMtXS"
      },
      "execution_count": null,
      "outputs": []
    },
    {
      "cell_type": "markdown",
      "source": [
        "##### Plan:"
      ],
      "metadata": {
        "id": "zeg6GWUgQMMz"
      }
    },
    {
      "cell_type": "markdown",
      "source": [
        "*You can write you own steps here!*"
      ],
      "metadata": {
        "id": "FKgAlZxxQMM0"
      }
    },
    {
      "cell_type": "markdown",
      "source": [
        "##### Answer:"
      ],
      "metadata": {
        "id": "EzfEBJ1gQMM0"
      }
    },
    {
      "cell_type": "code",
      "source": [
        "username = input(\"Please enter your UserName: \")\n",
        "password = input(\"Please enter your password: \")\n",
        "\n",
        "if username != \"admin\" and user_dict.get(username) == password:\n",
        "  print(f\"You are logged in, {username}!\")\n",
        "elif username == \"admin\":\n",
        "    print(\"True\")\n",
        "else:\n",
        "    print(\"False\")"
      ],
      "metadata": {
        "id": "cUDKPw7kCeRM",
        "colab": {
          "base_uri": "https://localhost:8080/"
        },
        "outputId": "b1143bf8-54dc-4c44-c46b-e5974af6bed2"
      },
      "execution_count": null,
      "outputs": [
        {
          "output_type": "stream",
          "name": "stdout",
          "text": [
            "Please enter your UserName: user\n",
            "Please enter your password: qweasd\n",
            "You are logged in, user!\n"
          ]
        }
      ]
    },
    {
      "cell_type": "markdown",
      "source": [
        "##### **Bonus Challenge:**"
      ],
      "metadata": {
        "id": "FJ7lMs44CNRP"
      }
    },
    {
      "cell_type": "markdown",
      "source": [
        "Write a function named `is_valid` that takes two arguments for `username` and `password`."
      ],
      "metadata": {
        "id": "A-QaFEKuPk8r"
      }
    },
    {
      "cell_type": "code",
      "source": [],
      "metadata": {
        "id": "mB0M2j2wwuIx"
      },
      "execution_count": null,
      "outputs": []
    },
    {
      "cell_type": "markdown",
      "source": [
        "### Exercise 12\n",
        "\n",
        "Randomly select numbers between 0 and 100 (inclusive). Once the selected number is greater than 95:     \n",
        "**a**. tell how many numbers were selected before the processed stopped     \n",
        "**b**. tell the average of those numbers\n",
        "\n",
        "> **Hint**: You'll need to `import random` and select an [approprite function from that library](https://docs.python.org/3/library/random.html) to randomly select numbers"
      ],
      "metadata": {
        "id": "2hB1Ov-a3g-m"
      }
    },
    {
      "cell_type": "markdown",
      "source": [
        "##### Plan:"
      ],
      "metadata": {
        "id": "U0XOFZhYtrpj"
      }
    },
    {
      "cell_type": "markdown",
      "source": [
        "*You can write you own steps here!*"
      ],
      "metadata": {
        "id": "CMJY1jKjtrps"
      }
    },
    {
      "cell_type": "markdown",
      "source": [
        "##### Answer:"
      ],
      "metadata": {
        "id": "kmTXIkP5trps"
      }
    },
    {
      "cell_type": "code",
      "source": [
        "import random\n",
        "x = random.randint(1,101)\n",
        "count = 0\n",
        "total = 0\n",
        "\n",
        "while x < 95:\n",
        "  total += x\n",
        "  count += 1\n",
        "  print(f\"Count: {count}\")\n",
        "  print(f\"Average= {total/count}\")\n",
        "  x = random.randint(1, 101)\n",
        "  print(f\"New number: {x}\")\n"
      ],
      "metadata": {
        "id": "fSmIWNQUC7Km",
        "colab": {
          "base_uri": "https://localhost:8080/"
        },
        "outputId": "0118ca2b-7ecd-401e-a35f-cc8a0e24b0ff"
      },
      "execution_count": null,
      "outputs": [
        {
          "output_type": "stream",
          "name": "stdout",
          "text": [
            "Count: 1\n",
            "Average= 73.0\n",
            "New number: 1\n",
            "Count: 2\n",
            "Average= 37.0\n",
            "New number: 64\n",
            "Count: 3\n",
            "Average= 46.0\n",
            "New number: 7\n",
            "Count: 4\n",
            "Average= 36.25\n",
            "New number: 38\n",
            "Count: 5\n",
            "Average= 36.6\n",
            "New number: 12\n",
            "Count: 6\n",
            "Average= 32.5\n",
            "New number: 19\n",
            "Count: 7\n",
            "Average= 30.571428571428573\n",
            "New number: 68\n",
            "Count: 8\n",
            "Average= 35.25\n",
            "New number: 43\n",
            "Count: 9\n",
            "Average= 36.111111111111114\n",
            "New number: 96\n"
          ]
        }
      ]
    },
    {
      "cell_type": "markdown",
      "source": [
        "### Exercise 13\n",
        "\n",
        "Below are three lists. Each element of `swap_list` contains a target index and a value to swap. Place those values into `original_list` at the positions indicated by the target indexes. Then show `original_list`."
      ],
      "metadata": {
        "id": "ip5bhqI44Z1W"
      }
    },
    {
      "cell_type": "code",
      "source": [
        "original_list = [\"Your\", \"peach\", \"is\", \"in\", 3, (\"a\", \"b\", \"c\")]\n",
        "swap_list = [(-2, \"another\"), (1, \"princess\"), (5, \"castle\")]"
      ],
      "metadata": {
        "id": "hkCkFyedSDjt"
      },
      "execution_count": null,
      "outputs": []
    },
    {
      "cell_type": "markdown",
      "source": [
        "##### Plan:"
      ],
      "metadata": {
        "id": "DsFmq0fStwN_"
      }
    },
    {
      "cell_type": "markdown",
      "source": [
        "*You can write you own steps here!*"
      ],
      "metadata": {
        "id": "kbLTFiKVtwOG"
      }
    },
    {
      "cell_type": "markdown",
      "source": [
        "##### Answer:"
      ],
      "metadata": {
        "id": "D7m_TDRRtwOG"
      }
    },
    {
      "cell_type": "code",
      "source": [
        "original_list[0], swap_list[-2] = swap_list[-2], original_list[0]\n",
        "print(original_list)\n",
        "original_list[-2], swap_list[0] = swap_list[0], original_list[-2]\n",
        "print(original_list)\n",
        "original_list[5], swap_list[-1] = swap_list[-1], original_list[5]\n",
        "print(original_list)\n"
      ],
      "metadata": {
        "id": "R8MP2FT0E-RV",
        "colab": {
          "base_uri": "https://localhost:8080/"
        },
        "outputId": "ac88b8b0-ff66-4727-d221-dea5eed89d67"
      },
      "execution_count": null,
      "outputs": [
        {
          "output_type": "stream",
          "name": "stdout",
          "text": [
            "[(1, 'princess'), 'peach', 'is', 'in', 3, ('a', 'b', 'c')]\n",
            "[(1, 'princess'), 'peach', 'is', 'in', (-2, 'another'), ('a', 'b', 'c')]\n",
            "[(1, 'princess'), 'peach', 'is', 'in', (-2, 'another'), (5, 'castle')]\n"
          ]
        }
      ]
    },
    {
      "cell_type": "markdown",
      "source": [
        "### Exercise 14\n",
        "\n",
        "Calculate the product of all numbers in the lists given below and then print the sum of all those products."
      ],
      "metadata": {
        "id": "OT7RqAE_69pn"
      }
    },
    {
      "cell_type": "code",
      "source": [
        "lst1 = [1, 5, 9, 8, 11]\n",
        "lst2 = [12, 9, 2, 11, 2]\n",
        "lst3 = [14, 4, 14]\n",
        "lst4 = [10, 5, 2, 2, 13, 18]"
      ],
      "metadata": {
        "id": "AS3Mb-iiFjbK"
      },
      "execution_count": null,
      "outputs": []
    },
    {
      "cell_type": "markdown",
      "source": [
        "##### Plan:"
      ],
      "metadata": {
        "id": "Wrj6C5Djty9j"
      }
    },
    {
      "cell_type": "markdown",
      "source": [
        "*You can write you own steps here!*"
      ],
      "metadata": {
        "id": "FQV7_HZity9j"
      }
    },
    {
      "cell_type": "markdown",
      "source": [
        "##### Answer:"
      ],
      "metadata": {
        "id": "BQ-1g1L1ty9k"
      }
    },
    {
      "cell_type": "code",
      "source": [
        "result = 1\n",
        "for num in lst1:\n",
        "    result *= num\n",
        "result_2 = 1\n",
        "for num in lst2:\n",
        "    result_2 *= num\n",
        "result_3 = 1\n",
        "for num in lst3:\n",
        "    result_3 *= num\n",
        "result_4 = 1\n",
        "for num in lst4:\n",
        "    result_4 *= num\n",
        "print(result + result_2 + result_3 + result_4)\n"
      ],
      "metadata": {
        "id": "F72QnNecFmmD",
        "colab": {
          "base_uri": "https://localhost:8080/"
        },
        "outputId": "4b59f6cd-25bd-48bb-e02c-8ae525c32e51"
      },
      "execution_count": null,
      "outputs": [
        {
          "output_type": "stream",
          "name": "stdout",
          "text": [
            "56296\n"
          ]
        }
      ]
    },
    {
      "cell_type": "code",
      "source": [
        "products = []\n",
        "final_sum = 0\n",
        "\n",
        "for l in (lst1, lst2, lst3, lst4):\n",
        "    product = 1\n",
        "    for number in l:\n",
        "        product *= number\n",
        "    products.append(product)\n",
        "\n",
        "for p in products:\n",
        "    final_sum += p\n",
        "final_sum"
      ],
      "metadata": {
        "colab": {
          "base_uri": "https://localhost:8080/"
        },
        "id": "mbmDoUV79LCx",
        "outputId": "d331b7cb-26e2-4bfc-e710-79e4d4d1563a"
      },
      "execution_count": null,
      "outputs": [
        {
          "output_type": "execute_result",
          "data": {
            "text/plain": [
              "56296"
            ]
          },
          "metadata": {},
          "execution_count": 85
        }
      ]
    },
    {
      "cell_type": "markdown",
      "source": [
        "### Exercise 15\n",
        "\n",
        "Swap the first and last characters of the user-given input_string. Keep in mind that a string must have at least two characters to make this possible."
      ],
      "metadata": {
        "id": "WihJ4DRa9eRi"
      }
    },
    {
      "cell_type": "markdown",
      "source": [
        "##### Plan:"
      ],
      "metadata": {
        "id": "rJCtxm9ut03T"
      }
    },
    {
      "cell_type": "markdown",
      "source": [
        "*You can write you own steps here!*"
      ],
      "metadata": {
        "id": "M7hgf30ht03a"
      }
    },
    {
      "cell_type": "markdown",
      "source": [
        "##### Answer:"
      ],
      "metadata": {
        "id": "fxVJk2t7t03a"
      }
    },
    {
      "cell_type": "code",
      "source": [
        "input_string = input(\"Enter at least two characters: \")\n",
        "\n",
        "if len(input_string) >= 2:\n",
        "  input_list = list(input_string)\n",
        "  print(input_list)\n",
        "  input_list[-1], input_list[0] = input_list[0], input_list[-1]\n",
        "  swapped_string = ''.join(input_list)\n",
        "  print(swapped_string)\n",
        "else:\n",
        "    print(\"Enter at least 2 characters\")\n"
      ],
      "metadata": {
        "id": "NTVCVVdfGyZs",
        "colab": {
          "base_uri": "https://localhost:8080/"
        },
        "outputId": "c3b0a233-06f2-431b-c06a-d651963a62ce"
      },
      "execution_count": null,
      "outputs": [
        {
          "output_type": "stream",
          "name": "stdout",
          "text": [
            "Enter at least two characters: ekekof\n",
            "['e', 'k', 'e', 'k', 'o', 'f']\n",
            "fkekoe\n"
          ]
        }
      ]
    },
    {
      "cell_type": "code",
      "source": [
        "input_string = input(\"Enter a string: \")\n",
        "\n",
        "if len(input_string) < 2:\n",
        "    print(input_string)\n",
        "else:\n",
        "    first_char = input_string[0]\n",
        "    last_char = input_string[-1]\n",
        "    input_string = last_char + input_string[1:-1] + first_char\n",
        "    print(input_string)\n"
      ],
      "metadata": {
        "id": "ftoETjtyF27Z"
      },
      "execution_count": null,
      "outputs": []
    },
    {
      "cell_type": "markdown",
      "source": [
        "##### **Bonus Challenge**:"
      ],
      "metadata": {
        "id": "p_BEJAq6GD4k"
      }
    },
    {
      "cell_type": "markdown",
      "source": [
        "Create a function named `swap_characters` that accepts a string as its argument and returns that string with the first and last characters swapped."
      ],
      "metadata": {
        "id": "TGic9GxBQszu"
      }
    },
    {
      "cell_type": "code",
      "source": [
        "swap_characters = str(input(\"Pls enter an argument: \"))\n",
        "print(swap_characters)\n",
        "swap_list = list(swap_characters)\n",
        "swap_list[0], swap_list[-1] = swap_list[-1], swap_list[0]\n",
        "print(swap_list)\n",
        "\n"
      ],
      "metadata": {
        "id": "DAJE6whe9skU",
        "colab": {
          "base_uri": "https://localhost:8080/"
        },
        "outputId": "cc9c1739-e17c-47da-a89a-1b80ebc6024d"
      },
      "execution_count": null,
      "outputs": [
        {
          "output_type": "stream",
          "name": "stdout",
          "text": [
            "Pls enter an argument: frjrje\n",
            "frjrje\n",
            "['e', 'r', 'j', 'r', 'j', 'f']\n"
          ]
        }
      ]
    },
    {
      "cell_type": "code",
      "source": [
        "def swap_characters(input_string):\n",
        "  if len(input_string ) <2:\n",
        "    print(input_string)\n",
        "  else:\n",
        "    first_char = input_string[0]\n",
        "    last_char = input_string[-1]\n",
        "    input_string= last_char + input_string[1:-1] + first_char\n",
        "    print(input_string)\n",
        "\n",
        "swap_characters(\"abc\")"
      ],
      "metadata": {
        "id": "0znsNel5FtHq"
      },
      "execution_count": null,
      "outputs": []
    }
  ]
}