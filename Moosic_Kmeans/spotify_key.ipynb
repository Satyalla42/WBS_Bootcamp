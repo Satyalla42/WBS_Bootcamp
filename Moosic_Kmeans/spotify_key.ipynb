{
 "cells": [
  {
   "cell_type": "code",
   "execution_count": 4,
   "id": "78a6ad7c",
   "metadata": {},
   "outputs": [
    {
     "ename": "ModuleNotFoundError",
     "evalue": "No module named 'spotipy'",
     "output_type": "error",
     "traceback": [
      "\u001b[31m---------------------------------------------------------------------------\u001b[39m",
      "\u001b[31mModuleNotFoundError\u001b[39m                       Traceback (most recent call last)",
      "\u001b[36mCell\u001b[39m\u001b[36m \u001b[39m\u001b[32mIn[4]\u001b[39m\u001b[32m, line 1\u001b[39m\n\u001b[32m----> \u001b[39m\u001b[32m1\u001b[39m \u001b[38;5;28;01mimport\u001b[39;00m\u001b[38;5;250m \u001b[39m\u001b[34;01mspotipy\u001b[39;00m\n\u001b[32m      2\u001b[39m \u001b[38;5;28;01mfrom\u001b[39;00m\u001b[38;5;250m \u001b[39m\u001b[34;01mspotipy\u001b[39;00m\u001b[34;01m.\u001b[39;00m\u001b[34;01moauth2\u001b[39;00m\u001b[38;5;250m \u001b[39m\u001b[38;5;28;01mimport\u001b[39;00m SpotifyOAuth\n\u001b[32m      4\u001b[39m sp = spotipy.Spotify(auth_manager=SpotifyOAuth(\n\u001b[32m      5\u001b[39m     client_id=\u001b[33m\"\u001b[39m\u001b[33mYOUR_CLIENT_ID\u001b[39m\u001b[33m\"\u001b[39m,\n\u001b[32m      6\u001b[39m     client_secret=\u001b[33m\"\u001b[39m\u001b[33mYOUR_CLIENT_SECRET\u001b[39m\u001b[33m\"\u001b[39m,\n\u001b[32m      7\u001b[39m     redirect_uri=\u001b[33m\"\u001b[39m\u001b[33mhttp://127.0.0.1:8888/callback\u001b[39m\u001b[33m\"\u001b[39m,\n\u001b[32m      8\u001b[39m     scope=\u001b[33m\"\u001b[39m\u001b[33muser-library-read\u001b[39m\u001b[33m\"\u001b[39m\n\u001b[32m      9\u001b[39m ))\n",
      "\u001b[31mModuleNotFoundError\u001b[39m: No module named 'spotipy'"
     ]
    }
   ],
   "source": [
    "import spotipy\n",
    "from spotipy.oauth2 import SpotifyOAuth\n",
    "\n",
    "sp = spotipy.Spotify(auth_manager=SpotifyOAuth(\n",
    "    client_id=\"YOUR_CLIENT_ID\",\n",
    "    client_secret=\"YOUR_CLIENT_SECRET\",\n",
    "    redirect_uri=\"http://127.0.0.1:8888/callback\",\n",
    "    scope=\"user-library-read\"\n",
    "))\n",
    "\n",
    "token_info = sp.auth_manager.get_access_token(as_dict=True)\n",
    "print(\"Access token:\", token_info['access_token'])\n",
    "print(\"Refresh token:\", token_info.get('refresh_token'))\n"
   ]
  }
 ],
 "metadata": {
  "kernelspec": {
   "display_name": "venv",
   "language": "python",
   "name": "python3"
  },
  "language_info": {
   "codemirror_mode": {
    "name": "ipython",
    "version": 3
   },
   "file_extension": ".py",
   "mimetype": "text/x-python",
   "name": "python",
   "nbconvert_exporter": "python",
   "pygments_lexer": "ipython3",
   "version": "3.13.3"
  }
 },
 "nbformat": 4,
 "nbformat_minor": 5
}
